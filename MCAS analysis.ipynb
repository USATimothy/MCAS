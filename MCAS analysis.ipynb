{
 "cells": [
  {
   "cell_type": "markdown",
   "id": "d0bb1e92",
   "metadata": {},
   "source": [
    "<h1>MCAS results: Why are some schools considered better than others?</h1>\n",
    "<p>Data are from:</p>\n",
    "    <p>\n",
    "    MCAS achievement, MCAS growth percentiles<br>\n",
    "<a href=https://profiles.doe.mass.edu/statereport/nextgenmcas.aspx>\n",
    "    https://profiles.doe.mass.edu/statereport/nextgenmcas.aspx</a>\n",
    "\n",
    "<p>Race and gender of students<br><a href=https://profiles.doe.mass.edu/statereport/enrollmentbyracegender.aspx>\n",
    "    https://profiles.doe.mass.edu/statereport/enrollmentbyracegender.aspx</a>\n",
    "\n",
    "<p>High needs/English learners/low income etc.<br><a href=https://profiles.doe.mass.edu/statereport/selectedpopulations.aspx>\n",
    "    https://profiles.doe.mass.edu/statereport/selectedpopulations.aspx</a>\n",
    "\n",
    "<p>Total per pupil expenditure<br><a href=https://profiles.doe.mass.edu/statereport/ppx.aspx>\n",
    "    https://profiles.doe.mass.edu/statereport/ppx.aspx</a>\n",
    "\n",
    "<p>Town/city income per capita<br><a href=https://dlsgateway.dor.state.ma.us/reports/rdPage.aspx?rdReport=DOR_Income_EQV_Per_Capita>\n",
    "    https://dlsgateway.dor.state.ma.us/reports/rdPage.aspx?rdReport=DOR_Income_EQV_Per_Capita</a>\n",
    "\n",
    "<p>School data are taken from the 2018-2019 school year, the last full school year before pandemic interruptions. MCAS tests were taken in the spring of 2019, and fiscal data are from fiscal year 2019."
   ]
  },
  {
   "cell_type": "code",
   "execution_count": 61,
   "id": "454addcf",
   "metadata": {},
   "outputs": [],
   "source": [
    "#Load the data into pandas dataframes\n",
    "import pandas\n",
    "import pandasql\n",
    "mcas=pandas.read_csv(\"NextGenMCAS2019.csv\",encoding=\"utf-8\",delimiter=\"\\t\")\n",
    "demographics=pandas.read_csv(\"enrollmentbydemographic2018-2019.csv\",encoding=\"utf-8\",delimiter=\"\\t\")\n",
    "student_needs=pandas.read_csv(\"selectedpopulations2018-2019.csv\",encoding=\"utf-8\",delimiter=\"\\t\")\n",
    "ppexp=pandas.read_csv(\"PerPupilExpenditures_2019.csv\",encoding=\"utf-8\",delimiter=\"\\t\")\n",
    "ppexp[\"In-District Expenditures per Pupil\"]= \\\n",
    "ppexp[\"In-District Expenditures per Pupil\"].apply(lambda x: float(x.replace(\"$\",\"\").replace(\",\",\"\")))\n",
    "town_income=pandas.read_csv(\"DOR_Income_Per_Capita_2019.csv\",encoding=\"utf-8\",delimiter=\"\\t\",thousands=\",\")\n",
    "\n",
    "#Drop unused columns\n",
    "ppexp=ppexp[[\"District Code\",\"In-District Expenditures per Pupil\"]]\n",
    "town_income=town_income[[\"Municipality\",\"DOR Income Per Capita\",\"EQV Per Capita\"]]\n",
    "#Combine the science, math, and English Language Arts data into a combined score for each school district.\n",
    "mcas_combined_subjects=pandasql.sqldf(\"SELECT `District Code`,MAX(`District Name`) AS district_name,\" +\n",
    "                                      \"AVG(`M+E %`) AS 'Passing %',AVG(SGP) AS 'Student Growth Percentile' \" +\n",
    "                                      \"FROM mcas GROUP BY `District Code` ORDER BY `District Code`\",globals())\n",
    "#Add code for local, regional, and charter schools\n",
    "def school_sorter(code):\n",
    "    if code==0:\n",
    "        return \"state average\"\n",
    "    if code<4000000:\n",
    "        return \"local\"\n",
    "    if code<6000000:\n",
    "        return \"charter\"\n",
    "    if code<35000000:\n",
    "        return \"regional\"\n",
    "    return \"charter\"\n",
    "mcas_combined_subjects[\"district_type\"]=mcas_combined_subjects[\"District Code\"].map(school_sorter)\n",
    "\n",
    "#Merge the MCAS results data with data on school district demographics and spending\n",
    "schools_combined=pandas.merge(mcas_combined_subjects,demographics,how=\"inner\",on=\"District Code\")\n",
    "schools_combined=pandas.merge(schools_combined,student_needs,how=\"inner\",on=\"District Code\")\n",
    "schools_combined=pandas.merge(schools_combined,ppexp,how=\"inner\",on=\"District Code\")\n",
    "all_districts_df=schools_combined.copy()\n",
    "for column in all_districts_df.columns:\n",
    "    if \"#\" in column:\n",
    "        all_districts_df.pop(column)\n",
    "locals_df=pandas.merge(all_districts_df,town_income,how=\"inner\",left_on=\"district_name\",right_on=\"Municipality\")\n",
    "df=locals_df.copy()\n",
    "df=df.drop([\"District Name_x\",\"District Name_y\"],axis=1)\n",
    "df=df.dropna()"
   ]
  },
  {
   "cell_type": "code",
   "execution_count": 62,
   "id": "4e86cd0d",
   "metadata": {},
   "outputs": [
    {
     "data": {
      "application/vnd.plotly.v1+json": {
       "config": {
        "plotlyServerURL": "https://plot.ly"
       },
       "data": [
        {
         "customdata": [
          [
           "Abington"
          ],
          [
           "Acushnet"
          ],
          [
           "Agawam"
          ],
          [
           "Amesbury"
          ],
          [
           "Amherst"
          ],
          [
           "Andover"
          ],
          [
           "Arlington"
          ],
          [
           "Ashland"
          ],
          [
           "Attleboro"
          ],
          [
           "Auburn"
          ],
          [
           "Avon"
          ],
          [
           "Barnstable"
          ],
          [
           "Bedford"
          ],
          [
           "Belchertown"
          ],
          [
           "Bellingham"
          ],
          [
           "Belmont"
          ],
          [
           "Berkley"
          ],
          [
           "Beverly"
          ],
          [
           "Billerica"
          ],
          [
           "Boston"
          ],
          [
           "Bourne"
          ],
          [
           "Boxford"
          ],
          [
           "Braintree"
          ],
          [
           "Brewster"
          ],
          [
           "Brimfield"
          ],
          [
           "Brockton"
          ],
          [
           "Brookfield"
          ],
          [
           "Brookline"
          ],
          [
           "Burlington"
          ],
          [
           "Cambridge"
          ],
          [
           "Canton"
          ],
          [
           "Carlisle"
          ],
          [
           "Carver"
          ],
          [
           "Chelmsford"
          ],
          [
           "Chelsea"
          ],
          [
           "Chicopee"
          ],
          [
           "Clarksburg"
          ],
          [
           "Clinton"
          ],
          [
           "Cohasset"
          ],
          [
           "Concord"
          ],
          [
           "Conway"
          ],
          [
           "Danvers"
          ],
          [
           "Dartmouth"
          ],
          [
           "Dedham"
          ],
          [
           "Deerfield"
          ],
          [
           "Douglas"
          ],
          [
           "Dover"
          ],
          [
           "Dracut"
          ],
          [
           "Duxbury"
          ],
          [
           "East Bridgewater"
          ],
          [
           "Eastham"
          ],
          [
           "Easthampton"
          ],
          [
           "East Longmeadow"
          ],
          [
           "Easton"
          ],
          [
           "Edgartown"
          ],
          [
           "Erving"
          ],
          [
           "Everett"
          ],
          [
           "Fairhaven"
          ],
          [
           "Fall River"
          ],
          [
           "Falmouth"
          ],
          [
           "Fitchburg"
          ],
          [
           "Florida"
          ],
          [
           "Foxborough"
          ],
          [
           "Framingham"
          ],
          [
           "Franklin"
          ],
          [
           "Gardner"
          ],
          [
           "Georgetown"
          ],
          [
           "Gloucester"
          ],
          [
           "Grafton"
          ],
          [
           "Granby"
          ],
          [
           "Greenfield"
          ],
          [
           "Hadley"
          ],
          [
           "Halifax"
          ],
          [
           "Hanover"
          ],
          [
           "Harvard"
          ],
          [
           "Hatfield"
          ],
          [
           "Haverhill"
          ],
          [
           "Hingham"
          ],
          [
           "Holbrook"
          ],
          [
           "Holland"
          ],
          [
           "Holliston"
          ],
          [
           "Holyoke"
          ],
          [
           "Hopedale"
          ],
          [
           "Hopkinton"
          ],
          [
           "Hudson"
          ],
          [
           "Hull"
          ],
          [
           "Ipswich"
          ],
          [
           "Kingston"
          ],
          [
           "Lawrence"
          ],
          [
           "Lee"
          ],
          [
           "Leicester"
          ],
          [
           "Lenox"
          ],
          [
           "Leominster"
          ],
          [
           "Leverett"
          ],
          [
           "Lexington"
          ],
          [
           "Lincoln"
          ],
          [
           "Littleton"
          ],
          [
           "Longmeadow"
          ],
          [
           "Lowell"
          ],
          [
           "Ludlow"
          ],
          [
           "Lunenburg"
          ],
          [
           "Lynn"
          ],
          [
           "Lynnfield"
          ],
          [
           "Malden"
          ],
          [
           "Mansfield"
          ],
          [
           "Marblehead"
          ],
          [
           "Marion"
          ],
          [
           "Marlborough"
          ],
          [
           "Marshfield"
          ],
          [
           "Mashpee"
          ],
          [
           "Mattapoisett"
          ],
          [
           "Maynard"
          ],
          [
           "Medfield"
          ],
          [
           "Medford"
          ],
          [
           "Medway"
          ],
          [
           "Melrose"
          ],
          [
           "Methuen"
          ],
          [
           "Middleborough"
          ],
          [
           "Middleton"
          ],
          [
           "Milford"
          ],
          [
           "Millbury"
          ],
          [
           "Millis"
          ],
          [
           "Milton"
          ],
          [
           "Monson"
          ],
          [
           "Nahant"
          ],
          [
           "Nantucket"
          ],
          [
           "Natick"
          ],
          [
           "Needham"
          ],
          [
           "New Bedford"
          ],
          [
           "Newburyport"
          ],
          [
           "Newton"
          ],
          [
           "Norfolk"
          ],
          [
           "North Adams"
          ],
          [
           "Northampton"
          ],
          [
           "North Andover"
          ],
          [
           "North Attleborough"
          ],
          [
           "Northborough"
          ],
          [
           "Northbridge"
          ],
          [
           "North Brookfield"
          ],
          [
           "North Reading"
          ],
          [
           "Norton"
          ],
          [
           "Norwell"
          ],
          [
           "Norwood"
          ],
          [
           "Oak Bluffs"
          ],
          [
           "Orange"
          ],
          [
           "Orleans"
          ],
          [
           "Oxford"
          ],
          [
           "Palmer"
          ],
          [
           "Peabody"
          ],
          [
           "Pelham"
          ],
          [
           "Pembroke"
          ],
          [
           "Petersham"
          ],
          [
           "Pittsfield"
          ],
          [
           "Plainville"
          ],
          [
           "Plymouth"
          ],
          [
           "Plympton"
          ],
          [
           "Provincetown"
          ],
          [
           "Quincy"
          ],
          [
           "Randolph"
          ],
          [
           "Reading"
          ],
          [
           "Revere"
          ],
          [
           "Richmond"
          ],
          [
           "Rochester"
          ],
          [
           "Rockland"
          ],
          [
           "Rockport"
          ],
          [
           "Rowe"
          ],
          [
           "Salem"
          ],
          [
           "Sandwich"
          ],
          [
           "Saugus"
          ],
          [
           "Scituate"
          ],
          [
           "Seekonk"
          ],
          [
           "Sharon"
          ],
          [
           "Sherborn"
          ],
          [
           "Shrewsbury"
          ],
          [
           "Shutesbury"
          ],
          [
           "Somerset"
          ],
          [
           "Somerville"
          ],
          [
           "Southampton"
          ],
          [
           "Southborough"
          ],
          [
           "Southbridge"
          ],
          [
           "South Hadley"
          ],
          [
           "Springfield"
          ],
          [
           "Stoneham"
          ],
          [
           "Stoughton"
          ],
          [
           "Sturbridge"
          ],
          [
           "Sudbury"
          ],
          [
           "Sunderland"
          ],
          [
           "Sutton"
          ],
          [
           "Swampscott"
          ],
          [
           "Swansea"
          ],
          [
           "Taunton"
          ],
          [
           "Tewksbury"
          ],
          [
           "Tisbury"
          ],
          [
           "Topsfield"
          ],
          [
           "Truro"
          ],
          [
           "Tyngsborough"
          ],
          [
           "Uxbridge"
          ],
          [
           "Wakefield"
          ],
          [
           "Wales"
          ],
          [
           "Walpole"
          ],
          [
           "Waltham"
          ],
          [
           "Ware"
          ],
          [
           "Wareham"
          ],
          [
           "Watertown"
          ],
          [
           "Wayland"
          ],
          [
           "Webster"
          ],
          [
           "Wellesley"
          ],
          [
           "Wellfleet"
          ],
          [
           "Westborough"
          ],
          [
           "West Boylston"
          ],
          [
           "West Bridgewater"
          ],
          [
           "Westfield"
          ],
          [
           "Westford"
          ],
          [
           "Westhampton"
          ],
          [
           "Weston"
          ],
          [
           "Westport"
          ],
          [
           "West Springfield"
          ],
          [
           "Westwood"
          ],
          [
           "Weymouth"
          ],
          [
           "Whately"
          ],
          [
           "Williamsburg"
          ],
          [
           "Wilmington"
          ],
          [
           "Winchendon"
          ],
          [
           "Winchester"
          ],
          [
           "Winthrop"
          ],
          [
           "Woburn"
          ],
          [
           "Worcester"
          ],
          [
           "Wrentham"
          ]
         ],
         "hovertemplate": "DOR Income Per Capita=%{x}<br>Passing %=%{y}<br>district_name=%{customdata[0]}<extra></extra>",
         "legendgroup": "",
         "marker": {
          "color": "#636efa",
          "symbol": "circle"
         },
         "mode": "markers",
         "name": "",
         "orientation": "v",
         "showlegend": false,
         "type": "scatter",
         "x": [
          37848,
          35648,
          31126,
          41139,
          19441,
          87282,
          65927,
          53140,
          34583,
          38584,
          36559,
          41054,
          76027,
          36853,
          38417,
          97965,
          41948,
          50335,
          42563,
          55038,
          40068,
          110612,
          44498,
          42062,
          40800,
          21719,
          29784,
          83209,
          53983,
          72859,
          60190,
          132901,
          35597,
          56760,
          21162,
          21906,
          25605,
          30702,
          130977,
          152245,
          37359,
          48406,
          41840,
          60879,
          46378,
          40081,
          245807,
          36277,
          113829,
          37748,
          37872,
          32264,
          44611,
          53526,
          68652,
          26158,
          22806,
          32597,
          18669,
          47075,
          21698,
          20909,
          53348,
          38375,
          54471,
          22070,
          52909,
          41150,
          51558,
          35991,
          23563,
          35598,
          43560,
          57309,
          70623,
          39946,
          30224,
          127975,
          32685,
          34469,
          86398,
          19720,
          46613,
          87002,
          41482,
          49079,
          68857,
          44706,
          17224,
          33286,
          33188,
          56099,
          29996,
          44587,
          131387,
          156203,
          58520,
          77797,
          23092,
          30493,
          40784,
          22292,
          88287,
          29297,
          53922,
          94092,
          64737,
          36482,
          54168,
          41620,
          57787,
          42854,
          99600,
          43187,
          56186,
          53938,
          32038,
          33232,
          59433,
          34058,
          37249,
          47365,
          77849,
          33948,
          69505,
          59171,
          62985,
          119154,
          18858,
          65979,
          146400,
          61775,
          17733,
          37315,
          62375,
          41167,
          64510,
          36837,
          30230,
          68613,
          40339,
          101464,
          43885,
          26047,
          21469,
          55454,
          33541,
          26702,
          35613,
          42316,
          45730,
          35925,
          27686,
          44252,
          41348,
          42640,
          59744,
          36763,
          29645,
          68897,
          24894,
          47461,
          46134,
          32770,
          52922,
          26889,
          33601,
          46082,
          37998,
          72613,
          40352,
          69554,
          214974,
          59686,
          30956,
          33507,
          51512,
          47720,
          123267,
          21521,
          32744,
          16839,
          47784,
          35657,
          48399,
          120466,
          30020,
          58151,
          72187,
          34518,
          27015,
          43650,
          21660,
          76334,
          46291,
          45820,
          39948,
          53217,
          25028,
          58732,
          41041,
          24067,
          27201,
          53770,
          143103,
          28898,
          211460,
          43131,
          58864,
          37377,
          37722,
          30014,
          66152,
          42319,
          333105,
          48170,
          29532,
          123062,
          38420,
          22706,
          29992,
          49992,
          26540,
          121868,
          36944,
          44751,
          22459,
          60602
         ],
         "xaxis": "x",
         "y": [
          50,
          52.666666666666664,
          50,
          55.333333333333336,
          47.333333333333336,
          70.66666666666667,
          69.66666666666667,
          63.666666666666664,
          50.666666666666664,
          59,
          50,
          44.666666666666664,
          70.66666666666667,
          40.666666666666664,
          44.333333333333336,
          81.33333333333333,
          56,
          53,
          50.666666666666664,
          30.666666666666668,
          45,
          67.66666666666667,
          63.666666666666664,
          60.333333333333336,
          70.33333333333333,
          24,
          56,
          72.66666666666667,
          58,
          54,
          61.333333333333336,
          80,
          46,
          65.33333333333333,
          26.666666666666668,
          42,
          38.666666666666664,
          33,
          64.66666666666667,
          73.33333333333333,
          64,
          47.333333333333336,
          54.666666666666664,
          50.333333333333336,
          61.666666666666664,
          53.666666666666664,
          85,
          48.333333333333336,
          66,
          51,
          53.666666666666664,
          42.666666666666664,
          57.333333333333336,
          65,
          59.666666666666664,
          31.333333333333332,
          34.333333333333336,
          52,
          30.666666666666668,
          59,
          31,
          44,
          58,
          37,
          65.33333333333333,
          27,
          59.666666666666664,
          45,
          65.66666666666667,
          46.333333333333336,
          31,
          52,
          53.666666666666664,
          64,
          76.66666666666667,
          58.333333333333336,
          35.666666666666664,
          78.33333333333333,
          45,
          51.666666666666664,
          62.333333333333336,
          14.666666666666666,
          64.66666666666667,
          76.66666666666667,
          47.333333333333336,
          53.333333333333336,
          65.33333333333333,
          58,
          28.333333333333332,
          45,
          41,
          65.33333333333333,
          46.333333333333336,
          63.666666666666664,
          79.66666666666667,
          58.333333333333336,
          64.66666666666667,
          68.33333333333333,
          33.333333333333336,
          41,
          53.333333333333336,
          38.666666666666664,
          75.66666666666667,
          44,
          57.333333333333336,
          63,
          60,
          38,
          68.66666666666667,
          49,
          75.66666666666667,
          51.333333333333336,
          71.66666666666667,
          43.333333333333336,
          61.333333333333336,
          66.33333333333333,
          38.666666666666664,
          48.333333333333336,
          68.33333333333333,
          47.333333333333336,
          43.666666666666664,
          59,
          68.33333333333333,
          48,
          47.666666666666664,
          41,
          65,
          73,
          30.666666666666668,
          56.666666666666664,
          70.66666666666667,
          68.33333333333333,
          28.666666666666668,
          49,
          58.666666666666664,
          59.333333333333336,
          66.66666666666667,
          46.333333333333336,
          31.333333333333332,
          74.33333333333333,
          48.333333333333336,
          72,
          49.333333333333336,
          59.333333333333336,
          22,
          70.66666666666667,
          40.333333333333336,
          31.333333333333332,
          43.666666666666664,
          71.66666666666667,
          59,
          54.666666666666664,
          31.333333333333332,
          51.333333333333336,
          49,
          68,
          44.333333333333336,
          55,
          34.666666666666664,
          66.33333333333333,
          44.333333333333336,
          62,
          53,
          43,
          53.333333333333336,
          34,
          38,
          56,
          46.333333333333336,
          68.33333333333333,
          59.666666666666664,
          72.66666666666667,
          77,
          68.66666666666667,
          65.33333333333333,
          51.666666666666664,
          43.666666666666664,
          47.333333333333336,
          81,
          14.333333333333334,
          45.333333333333336,
          26,
          60.666666666666664,
          49,
          64.33333333333333,
          73.33333333333333,
          58.333333333333336,
          61.333333333333336,
          58.333333333333336,
          51.666666666666664,
          35.666666666666664,
          56.333333333333336,
          67.66666666666667,
          64.33333333333333,
          41.666666666666664,
          53.333333333333336,
          47.666666666666664,
          52.333333333333336,
          54.333333333333336,
          65.66666666666667,
          47.333333333333336,
          37.333333333333336,
          32.333333333333336,
          49.333333333333336,
          76,
          28,
          75.66666666666667,
          65.66666666666667,
          74.66666666666667,
          62.666666666666664,
          49.666666666666664,
          43,
          77,
          83,
          80.66666666666667,
          54.333333333333336,
          47.666666666666664,
          76.33333333333333,
          43.666666666666664,
          58.333333333333336,
          46.666666666666664,
          59.666666666666664,
          31.333333333333332,
          79.33333333333333,
          52,
          49,
          31.666666666666668,
          65.33333333333333
         ],
         "yaxis": "y"
        },
        {
         "hovertemplate": "<b>OLS trendline</b><br>Passing % = 50.1666 * log10(DOR Income Per Capita) + -179.729<br>R<sup>2</sup>=0.620956<br><br>DOR Income Per Capita=%{x}<br>Passing %=%{y} <b>(trend)</b><extra></extra>",
         "legendgroup": "",
         "marker": {
          "color": "#636efa",
          "symbol": "circle"
         },
         "mode": "lines",
         "name": "",
         "showlegend": false,
         "type": "scatter",
         "x": [
          16839,
          17224,
          17733,
          18669,
          18858,
          19441,
          19720,
          20909,
          21162,
          21469,
          21521,
          21660,
          21698,
          21719,
          21906,
          22070,
          22292,
          22459,
          22706,
          22806,
          23092,
          23563,
          24067,
          24894,
          25028,
          25605,
          26047,
          26158,
          26540,
          26702,
          26889,
          27015,
          27201,
          27686,
          28898,
          29297,
          29532,
          29645,
          29784,
          29992,
          29996,
          30014,
          30020,
          30224,
          30230,
          30493,
          30702,
          30956,
          31126,
          32038,
          32264,
          32597,
          32685,
          32744,
          32770,
          33188,
          33232,
          33286,
          33507,
          33541,
          33601,
          33948,
          34058,
          34469,
          34518,
          34583,
          35597,
          35598,
          35613,
          35648,
          35657,
          35925,
          35991,
          36277,
          36482,
          36559,
          36763,
          36837,
          36853,
          36944,
          37249,
          37315,
          37359,
          37377,
          37722,
          37748,
          37848,
          37872,
          37998,
          38375,
          38417,
          38420,
          38584,
          39946,
          39948,
          40068,
          40081,
          40339,
          40352,
          40784,
          40800,
          41041,
          41054,
          41139,
          41150,
          41167,
          41348,
          41482,
          41620,
          41840,
          41948,
          42062,
          42316,
          42319,
          42563,
          42640,
          42854,
          43131,
          43187,
          43560,
          43650,
          43885,
          44252,
          44498,
          44587,
          44611,
          44706,
          44751,
          45730,
          45820,
          46082,
          46134,
          46291,
          46378,
          46613,
          47075,
          47365,
          47461,
          47720,
          47784,
          48170,
          48399,
          48406,
          49079,
          49992,
          50335,
          51512,
          51558,
          52909,
          52922,
          53140,
          53217,
          53348,
          53526,
          53770,
          53922,
          53938,
          53983,
          54168,
          54471,
          55038,
          55454,
          56099,
          56186,
          56760,
          57309,
          57787,
          58151,
          58520,
          58732,
          58864,
          59171,
          59433,
          59686,
          59744,
          60190,
          60602,
          60879,
          61775,
          62375,
          62985,
          64510,
          64737,
          65927,
          65979,
          66152,
          68613,
          68652,
          68857,
          68897,
          69505,
          69554,
          70623,
          72187,
          72613,
          72859,
          76027,
          76334,
          77797,
          77849,
          83209,
          86398,
          87002,
          87282,
          88287,
          94092,
          97965,
          99600,
          101464,
          110612,
          113829,
          119154,
          120466,
          121868,
          123062,
          123267,
          127975,
          130977,
          131387,
          132901,
          143103,
          146400,
          152245,
          156203,
          211460,
          214974,
          245807,
          333105
         ],
         "xaxis": "x",
         "y": [
          32.29065548617493,
          32.78317713437667,
          33.41769421537984,
          34.53835799883771,
          34.75781559792452,
          35.42116701780503,
          35.731613521261124,
          37.00716720983061,
          37.26920981965654,
          37.58300723177348,
          37.63571384431813,
          37.77597990473157,
          37.814169359804566,
          37.83524537542223,
          38.0220285795902,
          38.184530737372086,
          38.40258996877901,
          38.565199028068946,
          38.80350134401712,
          38.899243625622034,
          39.17076679053389,
          39.61067945273214,
          40.071779492467016,
          40.807860364365695,
          40.924821845714604,
          41.42140267381217,
          41.79428751005369,
          41.88693646560992,
          42.20280461168781,
          42.335388572313974,
          42.487436499122765,
          42.589290791787306,
          42.73878217836685,
          43.12382811365106,
          44.057306786101776,
          44.35606717983535,
          44.5301306754082,
          44.61333674761292,
          44.71525363800495,
          44.86687738755765,
          44.8697829124724,
          44.88285298164405,
          44.88720792956289,
          45.03476058245357,
          45.03908527467158,
          45.227812362791354,
          45.37663227029003,
          45.556136933227236,
          45.6754569489955,
          46.3046506852134,
          46.4577998881947,
          46.68151401223395,
          46.74025192078071,
          46.7795445274939,
          46.79683744417733,
          47.072986531537566,
          47.10185228269759,
          47.13722624161562,
          47.28140188662255,
          47.30349831705695,
          47.342437432972986,
          47.56628035457737,
          47.63676180414248,
          47.89810686964347,
          47.929056672592566,
          47.97004480656568,
          48.59967248268657,
          48.60028452225515,
          48.60946305318282,
          48.63086459989822,
          48.636364458474986,
          48.79950503378862,
          48.83949467691093,
          49.01193993602837,
          49.13471135728241,
          49.180647356765036,
          49.301881788196,
          49.34569277611149,
          49.35515384985638,
          49.4088857129976,
          49.58801572224482,
          49.62658520776668,
          49.652260317356024,
          49.66275505674048,
          49.86293335403414,
          49.87794498950444,
          49.935585846821965,
          49.94939699057497,
          50.02176220528199,
          50.236859041222345,
          50.26069114326302,
          50.26239243914014,
          50.35519505414854,
          51.11100752984879,
          51.11209832908503,
          51.17744654406579,
          51.18451418117948,
          51.324307405455954,
          51.33132756937712,
          51.56333572536428,
          51.57188135345612,
          51.70019603938238,
          51.707096143491015,
          51.752158431913415,
          51.75798321688771,
          51.766982095380826,
          51.862563929973646,
          51.93305701391421,
          52.00541675501165,
          52.12027820674197,
          52.17644390554199,
          52.235573258670485,
          52.3667433424599,
          52.368287886340084,
          52.49354558070519,
          52.5329246050201,
          52.64199528940193,
          52.78236957871053,
          52.81063892159284,
          52.99800287377198,
          53.04297106009858,
          53.15995228492292,
          53.34139490351538,
          53.46217541162065,
          53.505708007124895,
          53.51743225873585,
          53.5637789394772,
          53.58569826646183,
          54.057186917329574,
          54.10002334988749,
          54.22424763319171,
          54.24881881832664,
          54.32283720341559,
          54.363745735717316,
          54.47386336766988,
          54.68874065989098,
          54.82254567124318,
          54.86665931632936,
          54.98523061248579,
          55.01443092316043,
          55.18972028434203,
          55.29305055260534,
          55.29620141361568,
          55.59702588520341,
          55.99859982412167,
          56.14757262416961,
          56.65116199106882,
          56.670609079055936,
          57.23415515937299,
          57.239507693553946,
          57.32907021001398,
          57.3606168941202,
          57.41418248744867,
          57.4867558648113,
          57.58584728159994,
          57.64734930844102,
          57.653813118179755,
          57.67198230844218,
          57.74651908501036,
          57.86805006219521,
          58.09366410165825,
          58.257720639655616,
          58.50966944000865,
          58.54343131759438,
          58.764880341878154,
          58.97459899418476,
          59.15556589863817,
          59.292372168305604,
          59.43018634299597,
          59.50897162058379,
          59.55788307293315,
          59.67121637567402,
          59.76747322810286,
          59.86002167393207,
          59.8811830346406,
          60.0432235205958,
          60.1918477865764,
          60.29120540159565,
          60.60952473289393,
          60.820114324519864,
          61.03214723461943,
          61.553373626910314,
          61.62990417561227,
          62.026759320313516,
          62.04393713091821,
          62.100989098153235,
          62.89680346609279,
          62.90918384107479,
          62.97414474413881,
          62.986797489846765,
          63.17821999770604,
          63.19357415518857,
          63.525880289225114,
          64.00310671916057,
          64.13130177766854,
          64.2049877987572,
          65.1322997587406,
          65.22009968344648,
          65.63371476696273,
          65.64827252143473,
          67.09895342618128,
          67.91834393187716,
          68.07012534665137,
          68.14013047896353,
          68.38956236151259,
          69.77696691379231,
          70.65579763841993,
          71.0164150217937,
          71.42038866110886,
          73.30114790068686,
          73.92575599007321,
          74.92184927819326,
          75.1604348111197,
          75.41253170974659,
          75.62495140391906,
          75.66121471138166,
          76.47784230086609,
          76.98301499727575,
          77.05110901530549,
          77.30073062314284,
          78.91210645010625,
          79.40837145370614,
          80.26130210929028,
          80.82047571640214,
          87.41933325266575,
          87.7784112201183,
          90.69852430618914,
          97.31985888493523
         ],
         "yaxis": "y"
        }
       ],
       "layout": {
        "legend": {
         "tracegroupgap": 0
        },
        "margin": {
         "t": 60
        },
        "template": {
         "data": {
          "bar": [
           {
            "error_x": {
             "color": "#2a3f5f"
            },
            "error_y": {
             "color": "#2a3f5f"
            },
            "marker": {
             "line": {
              "color": "#E5ECF6",
              "width": 0.5
             },
             "pattern": {
              "fillmode": "overlay",
              "size": 10,
              "solidity": 0.2
             }
            },
            "type": "bar"
           }
          ],
          "barpolar": [
           {
            "marker": {
             "line": {
              "color": "#E5ECF6",
              "width": 0.5
             },
             "pattern": {
              "fillmode": "overlay",
              "size": 10,
              "solidity": 0.2
             }
            },
            "type": "barpolar"
           }
          ],
          "carpet": [
           {
            "aaxis": {
             "endlinecolor": "#2a3f5f",
             "gridcolor": "white",
             "linecolor": "white",
             "minorgridcolor": "white",
             "startlinecolor": "#2a3f5f"
            },
            "baxis": {
             "endlinecolor": "#2a3f5f",
             "gridcolor": "white",
             "linecolor": "white",
             "minorgridcolor": "white",
             "startlinecolor": "#2a3f5f"
            },
            "type": "carpet"
           }
          ],
          "choropleth": [
           {
            "colorbar": {
             "outlinewidth": 0,
             "ticks": ""
            },
            "type": "choropleth"
           }
          ],
          "contour": [
           {
            "colorbar": {
             "outlinewidth": 0,
             "ticks": ""
            },
            "colorscale": [
             [
              0,
              "#0d0887"
             ],
             [
              0.1111111111111111,
              "#46039f"
             ],
             [
              0.2222222222222222,
              "#7201a8"
             ],
             [
              0.3333333333333333,
              "#9c179e"
             ],
             [
              0.4444444444444444,
              "#bd3786"
             ],
             [
              0.5555555555555556,
              "#d8576b"
             ],
             [
              0.6666666666666666,
              "#ed7953"
             ],
             [
              0.7777777777777778,
              "#fb9f3a"
             ],
             [
              0.8888888888888888,
              "#fdca26"
             ],
             [
              1,
              "#f0f921"
             ]
            ],
            "type": "contour"
           }
          ],
          "contourcarpet": [
           {
            "colorbar": {
             "outlinewidth": 0,
             "ticks": ""
            },
            "type": "contourcarpet"
           }
          ],
          "heatmap": [
           {
            "colorbar": {
             "outlinewidth": 0,
             "ticks": ""
            },
            "colorscale": [
             [
              0,
              "#0d0887"
             ],
             [
              0.1111111111111111,
              "#46039f"
             ],
             [
              0.2222222222222222,
              "#7201a8"
             ],
             [
              0.3333333333333333,
              "#9c179e"
             ],
             [
              0.4444444444444444,
              "#bd3786"
             ],
             [
              0.5555555555555556,
              "#d8576b"
             ],
             [
              0.6666666666666666,
              "#ed7953"
             ],
             [
              0.7777777777777778,
              "#fb9f3a"
             ],
             [
              0.8888888888888888,
              "#fdca26"
             ],
             [
              1,
              "#f0f921"
             ]
            ],
            "type": "heatmap"
           }
          ],
          "heatmapgl": [
           {
            "colorbar": {
             "outlinewidth": 0,
             "ticks": ""
            },
            "colorscale": [
             [
              0,
              "#0d0887"
             ],
             [
              0.1111111111111111,
              "#46039f"
             ],
             [
              0.2222222222222222,
              "#7201a8"
             ],
             [
              0.3333333333333333,
              "#9c179e"
             ],
             [
              0.4444444444444444,
              "#bd3786"
             ],
             [
              0.5555555555555556,
              "#d8576b"
             ],
             [
              0.6666666666666666,
              "#ed7953"
             ],
             [
              0.7777777777777778,
              "#fb9f3a"
             ],
             [
              0.8888888888888888,
              "#fdca26"
             ],
             [
              1,
              "#f0f921"
             ]
            ],
            "type": "heatmapgl"
           }
          ],
          "histogram": [
           {
            "marker": {
             "pattern": {
              "fillmode": "overlay",
              "size": 10,
              "solidity": 0.2
             }
            },
            "type": "histogram"
           }
          ],
          "histogram2d": [
           {
            "colorbar": {
             "outlinewidth": 0,
             "ticks": ""
            },
            "colorscale": [
             [
              0,
              "#0d0887"
             ],
             [
              0.1111111111111111,
              "#46039f"
             ],
             [
              0.2222222222222222,
              "#7201a8"
             ],
             [
              0.3333333333333333,
              "#9c179e"
             ],
             [
              0.4444444444444444,
              "#bd3786"
             ],
             [
              0.5555555555555556,
              "#d8576b"
             ],
             [
              0.6666666666666666,
              "#ed7953"
             ],
             [
              0.7777777777777778,
              "#fb9f3a"
             ],
             [
              0.8888888888888888,
              "#fdca26"
             ],
             [
              1,
              "#f0f921"
             ]
            ],
            "type": "histogram2d"
           }
          ],
          "histogram2dcontour": [
           {
            "colorbar": {
             "outlinewidth": 0,
             "ticks": ""
            },
            "colorscale": [
             [
              0,
              "#0d0887"
             ],
             [
              0.1111111111111111,
              "#46039f"
             ],
             [
              0.2222222222222222,
              "#7201a8"
             ],
             [
              0.3333333333333333,
              "#9c179e"
             ],
             [
              0.4444444444444444,
              "#bd3786"
             ],
             [
              0.5555555555555556,
              "#d8576b"
             ],
             [
              0.6666666666666666,
              "#ed7953"
             ],
             [
              0.7777777777777778,
              "#fb9f3a"
             ],
             [
              0.8888888888888888,
              "#fdca26"
             ],
             [
              1,
              "#f0f921"
             ]
            ],
            "type": "histogram2dcontour"
           }
          ],
          "mesh3d": [
           {
            "colorbar": {
             "outlinewidth": 0,
             "ticks": ""
            },
            "type": "mesh3d"
           }
          ],
          "parcoords": [
           {
            "line": {
             "colorbar": {
              "outlinewidth": 0,
              "ticks": ""
             }
            },
            "type": "parcoords"
           }
          ],
          "pie": [
           {
            "automargin": true,
            "type": "pie"
           }
          ],
          "scatter": [
           {
            "fillpattern": {
             "fillmode": "overlay",
             "size": 10,
             "solidity": 0.2
            },
            "type": "scatter"
           }
          ],
          "scatter3d": [
           {
            "line": {
             "colorbar": {
              "outlinewidth": 0,
              "ticks": ""
             }
            },
            "marker": {
             "colorbar": {
              "outlinewidth": 0,
              "ticks": ""
             }
            },
            "type": "scatter3d"
           }
          ],
          "scattercarpet": [
           {
            "marker": {
             "colorbar": {
              "outlinewidth": 0,
              "ticks": ""
             }
            },
            "type": "scattercarpet"
           }
          ],
          "scattergeo": [
           {
            "marker": {
             "colorbar": {
              "outlinewidth": 0,
              "ticks": ""
             }
            },
            "type": "scattergeo"
           }
          ],
          "scattergl": [
           {
            "marker": {
             "colorbar": {
              "outlinewidth": 0,
              "ticks": ""
             }
            },
            "type": "scattergl"
           }
          ],
          "scattermapbox": [
           {
            "marker": {
             "colorbar": {
              "outlinewidth": 0,
              "ticks": ""
             }
            },
            "type": "scattermapbox"
           }
          ],
          "scatterpolar": [
           {
            "marker": {
             "colorbar": {
              "outlinewidth": 0,
              "ticks": ""
             }
            },
            "type": "scatterpolar"
           }
          ],
          "scatterpolargl": [
           {
            "marker": {
             "colorbar": {
              "outlinewidth": 0,
              "ticks": ""
             }
            },
            "type": "scatterpolargl"
           }
          ],
          "scatterternary": [
           {
            "marker": {
             "colorbar": {
              "outlinewidth": 0,
              "ticks": ""
             }
            },
            "type": "scatterternary"
           }
          ],
          "surface": [
           {
            "colorbar": {
             "outlinewidth": 0,
             "ticks": ""
            },
            "colorscale": [
             [
              0,
              "#0d0887"
             ],
             [
              0.1111111111111111,
              "#46039f"
             ],
             [
              0.2222222222222222,
              "#7201a8"
             ],
             [
              0.3333333333333333,
              "#9c179e"
             ],
             [
              0.4444444444444444,
              "#bd3786"
             ],
             [
              0.5555555555555556,
              "#d8576b"
             ],
             [
              0.6666666666666666,
              "#ed7953"
             ],
             [
              0.7777777777777778,
              "#fb9f3a"
             ],
             [
              0.8888888888888888,
              "#fdca26"
             ],
             [
              1,
              "#f0f921"
             ]
            ],
            "type": "surface"
           }
          ],
          "table": [
           {
            "cells": {
             "fill": {
              "color": "#EBF0F8"
             },
             "line": {
              "color": "white"
             }
            },
            "header": {
             "fill": {
              "color": "#C8D4E3"
             },
             "line": {
              "color": "white"
             }
            },
            "type": "table"
           }
          ]
         },
         "layout": {
          "annotationdefaults": {
           "arrowcolor": "#2a3f5f",
           "arrowhead": 0,
           "arrowwidth": 1
          },
          "autotypenumbers": "strict",
          "coloraxis": {
           "colorbar": {
            "outlinewidth": 0,
            "ticks": ""
           }
          },
          "colorscale": {
           "diverging": [
            [
             0,
             "#8e0152"
            ],
            [
             0.1,
             "#c51b7d"
            ],
            [
             0.2,
             "#de77ae"
            ],
            [
             0.3,
             "#f1b6da"
            ],
            [
             0.4,
             "#fde0ef"
            ],
            [
             0.5,
             "#f7f7f7"
            ],
            [
             0.6,
             "#e6f5d0"
            ],
            [
             0.7,
             "#b8e186"
            ],
            [
             0.8,
             "#7fbc41"
            ],
            [
             0.9,
             "#4d9221"
            ],
            [
             1,
             "#276419"
            ]
           ],
           "sequential": [
            [
             0,
             "#0d0887"
            ],
            [
             0.1111111111111111,
             "#46039f"
            ],
            [
             0.2222222222222222,
             "#7201a8"
            ],
            [
             0.3333333333333333,
             "#9c179e"
            ],
            [
             0.4444444444444444,
             "#bd3786"
            ],
            [
             0.5555555555555556,
             "#d8576b"
            ],
            [
             0.6666666666666666,
             "#ed7953"
            ],
            [
             0.7777777777777778,
             "#fb9f3a"
            ],
            [
             0.8888888888888888,
             "#fdca26"
            ],
            [
             1,
             "#f0f921"
            ]
           ],
           "sequentialminus": [
            [
             0,
             "#0d0887"
            ],
            [
             0.1111111111111111,
             "#46039f"
            ],
            [
             0.2222222222222222,
             "#7201a8"
            ],
            [
             0.3333333333333333,
             "#9c179e"
            ],
            [
             0.4444444444444444,
             "#bd3786"
            ],
            [
             0.5555555555555556,
             "#d8576b"
            ],
            [
             0.6666666666666666,
             "#ed7953"
            ],
            [
             0.7777777777777778,
             "#fb9f3a"
            ],
            [
             0.8888888888888888,
             "#fdca26"
            ],
            [
             1,
             "#f0f921"
            ]
           ]
          },
          "colorway": [
           "#636efa",
           "#EF553B",
           "#00cc96",
           "#ab63fa",
           "#FFA15A",
           "#19d3f3",
           "#FF6692",
           "#B6E880",
           "#FF97FF",
           "#FECB52"
          ],
          "font": {
           "color": "#2a3f5f"
          },
          "geo": {
           "bgcolor": "white",
           "lakecolor": "white",
           "landcolor": "#E5ECF6",
           "showlakes": true,
           "showland": true,
           "subunitcolor": "white"
          },
          "hoverlabel": {
           "align": "left"
          },
          "hovermode": "closest",
          "mapbox": {
           "style": "light"
          },
          "paper_bgcolor": "white",
          "plot_bgcolor": "#E5ECF6",
          "polar": {
           "angularaxis": {
            "gridcolor": "white",
            "linecolor": "white",
            "ticks": ""
           },
           "bgcolor": "#E5ECF6",
           "radialaxis": {
            "gridcolor": "white",
            "linecolor": "white",
            "ticks": ""
           }
          },
          "scene": {
           "xaxis": {
            "backgroundcolor": "#E5ECF6",
            "gridcolor": "white",
            "gridwidth": 2,
            "linecolor": "white",
            "showbackground": true,
            "ticks": "",
            "zerolinecolor": "white"
           },
           "yaxis": {
            "backgroundcolor": "#E5ECF6",
            "gridcolor": "white",
            "gridwidth": 2,
            "linecolor": "white",
            "showbackground": true,
            "ticks": "",
            "zerolinecolor": "white"
           },
           "zaxis": {
            "backgroundcolor": "#E5ECF6",
            "gridcolor": "white",
            "gridwidth": 2,
            "linecolor": "white",
            "showbackground": true,
            "ticks": "",
            "zerolinecolor": "white"
           }
          },
          "shapedefaults": {
           "line": {
            "color": "#2a3f5f"
           }
          },
          "ternary": {
           "aaxis": {
            "gridcolor": "white",
            "linecolor": "white",
            "ticks": ""
           },
           "baxis": {
            "gridcolor": "white",
            "linecolor": "white",
            "ticks": ""
           },
           "bgcolor": "#E5ECF6",
           "caxis": {
            "gridcolor": "white",
            "linecolor": "white",
            "ticks": ""
           }
          },
          "title": {
           "x": 0.05
          },
          "xaxis": {
           "automargin": true,
           "gridcolor": "white",
           "linecolor": "white",
           "ticks": "",
           "title": {
            "standoff": 15
           },
           "zerolinecolor": "white",
           "zerolinewidth": 2
          },
          "yaxis": {
           "automargin": true,
           "gridcolor": "white",
           "linecolor": "white",
           "ticks": "",
           "title": {
            "standoff": 15
           },
           "zerolinecolor": "white",
           "zerolinewidth": 2
          }
         }
        },
        "xaxis": {
         "anchor": "y",
         "domain": [
          0,
          1
         ],
         "dtick": "D1",
         "range": [
          4,
          5.60206
         ],
         "title": {
          "text": "city/town income per capita (dollars/year)"
         },
         "type": "log"
        },
        "yaxis": {
         "anchor": "x",
         "domain": [
          0,
          1
         ],
         "title": {
          "text": "Passing %"
         }
        }
       }
      },
      "text/html": [
       "<div>                            <div id=\"fb5a9bb4-8288-47cf-bbcd-d3b09dee67f5\" class=\"plotly-graph-div\" style=\"height:525px; width:100%;\"></div>            <script type=\"text/javascript\">                require([\"plotly\"], function(Plotly) {                    window.PLOTLYENV=window.PLOTLYENV || {};                                    if (document.getElementById(\"fb5a9bb4-8288-47cf-bbcd-d3b09dee67f5\")) {                    Plotly.newPlot(                        \"fb5a9bb4-8288-47cf-bbcd-d3b09dee67f5\",                        [{\"customdata\":[[\"Abington\"],[\"Acushnet\"],[\"Agawam\"],[\"Amesbury\"],[\"Amherst\"],[\"Andover\"],[\"Arlington\"],[\"Ashland\"],[\"Attleboro\"],[\"Auburn\"],[\"Avon\"],[\"Barnstable\"],[\"Bedford\"],[\"Belchertown\"],[\"Bellingham\"],[\"Belmont\"],[\"Berkley\"],[\"Beverly\"],[\"Billerica\"],[\"Boston\"],[\"Bourne\"],[\"Boxford\"],[\"Braintree\"],[\"Brewster\"],[\"Brimfield\"],[\"Brockton\"],[\"Brookfield\"],[\"Brookline\"],[\"Burlington\"],[\"Cambridge\"],[\"Canton\"],[\"Carlisle\"],[\"Carver\"],[\"Chelmsford\"],[\"Chelsea\"],[\"Chicopee\"],[\"Clarksburg\"],[\"Clinton\"],[\"Cohasset\"],[\"Concord\"],[\"Conway\"],[\"Danvers\"],[\"Dartmouth\"],[\"Dedham\"],[\"Deerfield\"],[\"Douglas\"],[\"Dover\"],[\"Dracut\"],[\"Duxbury\"],[\"East Bridgewater\"],[\"Eastham\"],[\"Easthampton\"],[\"East Longmeadow\"],[\"Easton\"],[\"Edgartown\"],[\"Erving\"],[\"Everett\"],[\"Fairhaven\"],[\"Fall River\"],[\"Falmouth\"],[\"Fitchburg\"],[\"Florida\"],[\"Foxborough\"],[\"Framingham\"],[\"Franklin\"],[\"Gardner\"],[\"Georgetown\"],[\"Gloucester\"],[\"Grafton\"],[\"Granby\"],[\"Greenfield\"],[\"Hadley\"],[\"Halifax\"],[\"Hanover\"],[\"Harvard\"],[\"Hatfield\"],[\"Haverhill\"],[\"Hingham\"],[\"Holbrook\"],[\"Holland\"],[\"Holliston\"],[\"Holyoke\"],[\"Hopedale\"],[\"Hopkinton\"],[\"Hudson\"],[\"Hull\"],[\"Ipswich\"],[\"Kingston\"],[\"Lawrence\"],[\"Lee\"],[\"Leicester\"],[\"Lenox\"],[\"Leominster\"],[\"Leverett\"],[\"Lexington\"],[\"Lincoln\"],[\"Littleton\"],[\"Longmeadow\"],[\"Lowell\"],[\"Ludlow\"],[\"Lunenburg\"],[\"Lynn\"],[\"Lynnfield\"],[\"Malden\"],[\"Mansfield\"],[\"Marblehead\"],[\"Marion\"],[\"Marlborough\"],[\"Marshfield\"],[\"Mashpee\"],[\"Mattapoisett\"],[\"Maynard\"],[\"Medfield\"],[\"Medford\"],[\"Medway\"],[\"Melrose\"],[\"Methuen\"],[\"Middleborough\"],[\"Middleton\"],[\"Milford\"],[\"Millbury\"],[\"Millis\"],[\"Milton\"],[\"Monson\"],[\"Nahant\"],[\"Nantucket\"],[\"Natick\"],[\"Needham\"],[\"New Bedford\"],[\"Newburyport\"],[\"Newton\"],[\"Norfolk\"],[\"North Adams\"],[\"Northampton\"],[\"North Andover\"],[\"North Attleborough\"],[\"Northborough\"],[\"Northbridge\"],[\"North Brookfield\"],[\"North Reading\"],[\"Norton\"],[\"Norwell\"],[\"Norwood\"],[\"Oak Bluffs\"],[\"Orange\"],[\"Orleans\"],[\"Oxford\"],[\"Palmer\"],[\"Peabody\"],[\"Pelham\"],[\"Pembroke\"],[\"Petersham\"],[\"Pittsfield\"],[\"Plainville\"],[\"Plymouth\"],[\"Plympton\"],[\"Provincetown\"],[\"Quincy\"],[\"Randolph\"],[\"Reading\"],[\"Revere\"],[\"Richmond\"],[\"Rochester\"],[\"Rockland\"],[\"Rockport\"],[\"Rowe\"],[\"Salem\"],[\"Sandwich\"],[\"Saugus\"],[\"Scituate\"],[\"Seekonk\"],[\"Sharon\"],[\"Sherborn\"],[\"Shrewsbury\"],[\"Shutesbury\"],[\"Somerset\"],[\"Somerville\"],[\"Southampton\"],[\"Southborough\"],[\"Southbridge\"],[\"South Hadley\"],[\"Springfield\"],[\"Stoneham\"],[\"Stoughton\"],[\"Sturbridge\"],[\"Sudbury\"],[\"Sunderland\"],[\"Sutton\"],[\"Swampscott\"],[\"Swansea\"],[\"Taunton\"],[\"Tewksbury\"],[\"Tisbury\"],[\"Topsfield\"],[\"Truro\"],[\"Tyngsborough\"],[\"Uxbridge\"],[\"Wakefield\"],[\"Wales\"],[\"Walpole\"],[\"Waltham\"],[\"Ware\"],[\"Wareham\"],[\"Watertown\"],[\"Wayland\"],[\"Webster\"],[\"Wellesley\"],[\"Wellfleet\"],[\"Westborough\"],[\"West Boylston\"],[\"West Bridgewater\"],[\"Westfield\"],[\"Westford\"],[\"Westhampton\"],[\"Weston\"],[\"Westport\"],[\"West Springfield\"],[\"Westwood\"],[\"Weymouth\"],[\"Whately\"],[\"Williamsburg\"],[\"Wilmington\"],[\"Winchendon\"],[\"Winchester\"],[\"Winthrop\"],[\"Woburn\"],[\"Worcester\"],[\"Wrentham\"]],\"hovertemplate\":\"DOR Income Per Capita=%{x}<br>Passing %=%{y}<br>district_name=%{customdata[0]}<extra></extra>\",\"legendgroup\":\"\",\"marker\":{\"color\":\"#636efa\",\"symbol\":\"circle\"},\"mode\":\"markers\",\"name\":\"\",\"orientation\":\"v\",\"showlegend\":false,\"x\":[37848,35648,31126,41139,19441,87282,65927,53140,34583,38584,36559,41054,76027,36853,38417,97965,41948,50335,42563,55038,40068,110612,44498,42062,40800,21719,29784,83209,53983,72859,60190,132901,35597,56760,21162,21906,25605,30702,130977,152245,37359,48406,41840,60879,46378,40081,245807,36277,113829,37748,37872,32264,44611,53526,68652,26158,22806,32597,18669,47075,21698,20909,53348,38375,54471,22070,52909,41150,51558,35991,23563,35598,43560,57309,70623,39946,30224,127975,32685,34469,86398,19720,46613,87002,41482,49079,68857,44706,17224,33286,33188,56099,29996,44587,131387,156203,58520,77797,23092,30493,40784,22292,88287,29297,53922,94092,64737,36482,54168,41620,57787,42854,99600,43187,56186,53938,32038,33232,59433,34058,37249,47365,77849,33948,69505,59171,62985,119154,18858,65979,146400,61775,17733,37315,62375,41167,64510,36837,30230,68613,40339,101464,43885,26047,21469,55454,33541,26702,35613,42316,45730,35925,27686,44252,41348,42640,59744,36763,29645,68897,24894,47461,46134,32770,52922,26889,33601,46082,37998,72613,40352,69554,214974,59686,30956,33507,51512,47720,123267,21521,32744,16839,47784,35657,48399,120466,30020,58151,72187,34518,27015,43650,21660,76334,46291,45820,39948,53217,25028,58732,41041,24067,27201,53770,143103,28898,211460,43131,58864,37377,37722,30014,66152,42319,333105,48170,29532,123062,38420,22706,29992,49992,26540,121868,36944,44751,22459,60602],\"xaxis\":\"x\",\"y\":[50.0,52.666666666666664,50.0,55.333333333333336,47.333333333333336,70.66666666666667,69.66666666666667,63.666666666666664,50.666666666666664,59.0,50.0,44.666666666666664,70.66666666666667,40.666666666666664,44.333333333333336,81.33333333333333,56.0,53.0,50.666666666666664,30.666666666666668,45.0,67.66666666666667,63.666666666666664,60.333333333333336,70.33333333333333,24.0,56.0,72.66666666666667,58.0,54.0,61.333333333333336,80.0,46.0,65.33333333333333,26.666666666666668,42.0,38.666666666666664,33.0,64.66666666666667,73.33333333333333,64.0,47.333333333333336,54.666666666666664,50.333333333333336,61.666666666666664,53.666666666666664,85.0,48.333333333333336,66.0,51.0,53.666666666666664,42.666666666666664,57.333333333333336,65.0,59.666666666666664,31.333333333333332,34.333333333333336,52.0,30.666666666666668,59.0,31.0,44.0,58.0,37.0,65.33333333333333,27.0,59.666666666666664,45.0,65.66666666666667,46.333333333333336,31.0,52.0,53.666666666666664,64.0,76.66666666666667,58.333333333333336,35.666666666666664,78.33333333333333,45.0,51.666666666666664,62.333333333333336,14.666666666666666,64.66666666666667,76.66666666666667,47.333333333333336,53.333333333333336,65.33333333333333,58.0,28.333333333333332,45.0,41.0,65.33333333333333,46.333333333333336,63.666666666666664,79.66666666666667,58.333333333333336,64.66666666666667,68.33333333333333,33.333333333333336,41.0,53.333333333333336,38.666666666666664,75.66666666666667,44.0,57.333333333333336,63.0,60.0,38.0,68.66666666666667,49.0,75.66666666666667,51.333333333333336,71.66666666666667,43.333333333333336,61.333333333333336,66.33333333333333,38.666666666666664,48.333333333333336,68.33333333333333,47.333333333333336,43.666666666666664,59.0,68.33333333333333,48.0,47.666666666666664,41.0,65.0,73.0,30.666666666666668,56.666666666666664,70.66666666666667,68.33333333333333,28.666666666666668,49.0,58.666666666666664,59.333333333333336,66.66666666666667,46.333333333333336,31.333333333333332,74.33333333333333,48.333333333333336,72.0,49.333333333333336,59.333333333333336,22.0,70.66666666666667,40.333333333333336,31.333333333333332,43.666666666666664,71.66666666666667,59.0,54.666666666666664,31.333333333333332,51.333333333333336,49.0,68.0,44.333333333333336,55.0,34.666666666666664,66.33333333333333,44.333333333333336,62.0,53.0,43.0,53.333333333333336,34.0,38.0,56.0,46.333333333333336,68.33333333333333,59.666666666666664,72.66666666666667,77.0,68.66666666666667,65.33333333333333,51.666666666666664,43.666666666666664,47.333333333333336,81.0,14.333333333333334,45.333333333333336,26.0,60.666666666666664,49.0,64.33333333333333,73.33333333333333,58.333333333333336,61.333333333333336,58.333333333333336,51.666666666666664,35.666666666666664,56.333333333333336,67.66666666666667,64.33333333333333,41.666666666666664,53.333333333333336,47.666666666666664,52.333333333333336,54.333333333333336,65.66666666666667,47.333333333333336,37.333333333333336,32.333333333333336,49.333333333333336,76.0,28.0,75.66666666666667,65.66666666666667,74.66666666666667,62.666666666666664,49.666666666666664,43.0,77.0,83.0,80.66666666666667,54.333333333333336,47.666666666666664,76.33333333333333,43.666666666666664,58.333333333333336,46.666666666666664,59.666666666666664,31.333333333333332,79.33333333333333,52.0,49.0,31.666666666666668,65.33333333333333],\"yaxis\":\"y\",\"type\":\"scatter\"},{\"hovertemplate\":\"<b>OLS trendline</b><br>Passing % = 50.1666 * log10(DOR Income Per Capita) + -179.729<br>R<sup>2</sup>=0.620956<br><br>DOR Income Per Capita=%{x}<br>Passing %=%{y} <b>(trend)</b><extra></extra>\",\"legendgroup\":\"\",\"marker\":{\"color\":\"#636efa\",\"symbol\":\"circle\"},\"mode\":\"lines\",\"name\":\"\",\"showlegend\":false,\"x\":[16839,17224,17733,18669,18858,19441,19720,20909,21162,21469,21521,21660,21698,21719,21906,22070,22292,22459,22706,22806,23092,23563,24067,24894,25028,25605,26047,26158,26540,26702,26889,27015,27201,27686,28898,29297,29532,29645,29784,29992,29996,30014,30020,30224,30230,30493,30702,30956,31126,32038,32264,32597,32685,32744,32770,33188,33232,33286,33507,33541,33601,33948,34058,34469,34518,34583,35597,35598,35613,35648,35657,35925,35991,36277,36482,36559,36763,36837,36853,36944,37249,37315,37359,37377,37722,37748,37848,37872,37998,38375,38417,38420,38584,39946,39948,40068,40081,40339,40352,40784,40800,41041,41054,41139,41150,41167,41348,41482,41620,41840,41948,42062,42316,42319,42563,42640,42854,43131,43187,43560,43650,43885,44252,44498,44587,44611,44706,44751,45730,45820,46082,46134,46291,46378,46613,47075,47365,47461,47720,47784,48170,48399,48406,49079,49992,50335,51512,51558,52909,52922,53140,53217,53348,53526,53770,53922,53938,53983,54168,54471,55038,55454,56099,56186,56760,57309,57787,58151,58520,58732,58864,59171,59433,59686,59744,60190,60602,60879,61775,62375,62985,64510,64737,65927,65979,66152,68613,68652,68857,68897,69505,69554,70623,72187,72613,72859,76027,76334,77797,77849,83209,86398,87002,87282,88287,94092,97965,99600,101464,110612,113829,119154,120466,121868,123062,123267,127975,130977,131387,132901,143103,146400,152245,156203,211460,214974,245807,333105],\"xaxis\":\"x\",\"y\":[32.29065548617493,32.78317713437667,33.41769421537984,34.53835799883771,34.75781559792452,35.42116701780503,35.731613521261124,37.00716720983061,37.26920981965654,37.58300723177348,37.63571384431813,37.77597990473157,37.814169359804566,37.83524537542223,38.0220285795902,38.184530737372086,38.40258996877901,38.565199028068946,38.80350134401712,38.899243625622034,39.17076679053389,39.61067945273214,40.071779492467016,40.807860364365695,40.924821845714604,41.42140267381217,41.79428751005369,41.88693646560992,42.20280461168781,42.335388572313974,42.487436499122765,42.589290791787306,42.73878217836685,43.12382811365106,44.057306786101776,44.35606717983535,44.5301306754082,44.61333674761292,44.71525363800495,44.86687738755765,44.8697829124724,44.88285298164405,44.88720792956289,45.03476058245357,45.03908527467158,45.227812362791354,45.37663227029003,45.556136933227236,45.6754569489955,46.3046506852134,46.4577998881947,46.68151401223395,46.74025192078071,46.7795445274939,46.79683744417733,47.072986531537566,47.10185228269759,47.13722624161562,47.28140188662255,47.30349831705695,47.342437432972986,47.56628035457737,47.63676180414248,47.89810686964347,47.929056672592566,47.97004480656568,48.59967248268657,48.60028452225515,48.60946305318282,48.63086459989822,48.636364458474986,48.79950503378862,48.83949467691093,49.01193993602837,49.13471135728241,49.180647356765036,49.301881788196,49.34569277611149,49.35515384985638,49.4088857129976,49.58801572224482,49.62658520776668,49.652260317356024,49.66275505674048,49.86293335403414,49.87794498950444,49.935585846821965,49.94939699057497,50.02176220528199,50.236859041222345,50.26069114326302,50.26239243914014,50.35519505414854,51.11100752984879,51.11209832908503,51.17744654406579,51.18451418117948,51.324307405455954,51.33132756937712,51.56333572536428,51.57188135345612,51.70019603938238,51.707096143491015,51.752158431913415,51.75798321688771,51.766982095380826,51.862563929973646,51.93305701391421,52.00541675501165,52.12027820674197,52.17644390554199,52.235573258670485,52.3667433424599,52.368287886340084,52.49354558070519,52.5329246050201,52.64199528940193,52.78236957871053,52.81063892159284,52.99800287377198,53.04297106009858,53.15995228492292,53.34139490351538,53.46217541162065,53.505708007124895,53.51743225873585,53.5637789394772,53.58569826646183,54.057186917329574,54.10002334988749,54.22424763319171,54.24881881832664,54.32283720341559,54.363745735717316,54.47386336766988,54.68874065989098,54.82254567124318,54.86665931632936,54.98523061248579,55.01443092316043,55.18972028434203,55.29305055260534,55.29620141361568,55.59702588520341,55.99859982412167,56.14757262416961,56.65116199106882,56.670609079055936,57.23415515937299,57.239507693553946,57.32907021001398,57.3606168941202,57.41418248744867,57.4867558648113,57.58584728159994,57.64734930844102,57.653813118179755,57.67198230844218,57.74651908501036,57.86805006219521,58.09366410165825,58.257720639655616,58.50966944000865,58.54343131759438,58.764880341878154,58.97459899418476,59.15556589863817,59.292372168305604,59.43018634299597,59.50897162058379,59.55788307293315,59.67121637567402,59.76747322810286,59.86002167393207,59.8811830346406,60.0432235205958,60.1918477865764,60.29120540159565,60.60952473289393,60.820114324519864,61.03214723461943,61.553373626910314,61.62990417561227,62.026759320313516,62.04393713091821,62.100989098153235,62.89680346609279,62.90918384107479,62.97414474413881,62.986797489846765,63.17821999770604,63.19357415518857,63.525880289225114,64.00310671916057,64.13130177766854,64.2049877987572,65.1322997587406,65.22009968344648,65.63371476696273,65.64827252143473,67.09895342618128,67.91834393187716,68.07012534665137,68.14013047896353,68.38956236151259,69.77696691379231,70.65579763841993,71.0164150217937,71.42038866110886,73.30114790068686,73.92575599007321,74.92184927819326,75.1604348111197,75.41253170974659,75.62495140391906,75.66121471138166,76.47784230086609,76.98301499727575,77.05110901530549,77.30073062314284,78.91210645010625,79.40837145370614,80.26130210929028,80.82047571640214,87.41933325266575,87.7784112201183,90.69852430618914,97.31985888493523],\"yaxis\":\"y\",\"type\":\"scatter\"}],                        {\"template\":{\"data\":{\"histogram2dcontour\":[{\"type\":\"histogram2dcontour\",\"colorbar\":{\"outlinewidth\":0,\"ticks\":\"\"},\"colorscale\":[[0.0,\"#0d0887\"],[0.1111111111111111,\"#46039f\"],[0.2222222222222222,\"#7201a8\"],[0.3333333333333333,\"#9c179e\"],[0.4444444444444444,\"#bd3786\"],[0.5555555555555556,\"#d8576b\"],[0.6666666666666666,\"#ed7953\"],[0.7777777777777778,\"#fb9f3a\"],[0.8888888888888888,\"#fdca26\"],[1.0,\"#f0f921\"]]}],\"choropleth\":[{\"type\":\"choropleth\",\"colorbar\":{\"outlinewidth\":0,\"ticks\":\"\"}}],\"histogram2d\":[{\"type\":\"histogram2d\",\"colorbar\":{\"outlinewidth\":0,\"ticks\":\"\"},\"colorscale\":[[0.0,\"#0d0887\"],[0.1111111111111111,\"#46039f\"],[0.2222222222222222,\"#7201a8\"],[0.3333333333333333,\"#9c179e\"],[0.4444444444444444,\"#bd3786\"],[0.5555555555555556,\"#d8576b\"],[0.6666666666666666,\"#ed7953\"],[0.7777777777777778,\"#fb9f3a\"],[0.8888888888888888,\"#fdca26\"],[1.0,\"#f0f921\"]]}],\"heatmap\":[{\"type\":\"heatmap\",\"colorbar\":{\"outlinewidth\":0,\"ticks\":\"\"},\"colorscale\":[[0.0,\"#0d0887\"],[0.1111111111111111,\"#46039f\"],[0.2222222222222222,\"#7201a8\"],[0.3333333333333333,\"#9c179e\"],[0.4444444444444444,\"#bd3786\"],[0.5555555555555556,\"#d8576b\"],[0.6666666666666666,\"#ed7953\"],[0.7777777777777778,\"#fb9f3a\"],[0.8888888888888888,\"#fdca26\"],[1.0,\"#f0f921\"]]}],\"heatmapgl\":[{\"type\":\"heatmapgl\",\"colorbar\":{\"outlinewidth\":0,\"ticks\":\"\"},\"colorscale\":[[0.0,\"#0d0887\"],[0.1111111111111111,\"#46039f\"],[0.2222222222222222,\"#7201a8\"],[0.3333333333333333,\"#9c179e\"],[0.4444444444444444,\"#bd3786\"],[0.5555555555555556,\"#d8576b\"],[0.6666666666666666,\"#ed7953\"],[0.7777777777777778,\"#fb9f3a\"],[0.8888888888888888,\"#fdca26\"],[1.0,\"#f0f921\"]]}],\"contourcarpet\":[{\"type\":\"contourcarpet\",\"colorbar\":{\"outlinewidth\":0,\"ticks\":\"\"}}],\"contour\":[{\"type\":\"contour\",\"colorbar\":{\"outlinewidth\":0,\"ticks\":\"\"},\"colorscale\":[[0.0,\"#0d0887\"],[0.1111111111111111,\"#46039f\"],[0.2222222222222222,\"#7201a8\"],[0.3333333333333333,\"#9c179e\"],[0.4444444444444444,\"#bd3786\"],[0.5555555555555556,\"#d8576b\"],[0.6666666666666666,\"#ed7953\"],[0.7777777777777778,\"#fb9f3a\"],[0.8888888888888888,\"#fdca26\"],[1.0,\"#f0f921\"]]}],\"surface\":[{\"type\":\"surface\",\"colorbar\":{\"outlinewidth\":0,\"ticks\":\"\"},\"colorscale\":[[0.0,\"#0d0887\"],[0.1111111111111111,\"#46039f\"],[0.2222222222222222,\"#7201a8\"],[0.3333333333333333,\"#9c179e\"],[0.4444444444444444,\"#bd3786\"],[0.5555555555555556,\"#d8576b\"],[0.6666666666666666,\"#ed7953\"],[0.7777777777777778,\"#fb9f3a\"],[0.8888888888888888,\"#fdca26\"],[1.0,\"#f0f921\"]]}],\"mesh3d\":[{\"type\":\"mesh3d\",\"colorbar\":{\"outlinewidth\":0,\"ticks\":\"\"}}],\"scatter\":[{\"fillpattern\":{\"fillmode\":\"overlay\",\"size\":10,\"solidity\":0.2},\"type\":\"scatter\"}],\"parcoords\":[{\"type\":\"parcoords\",\"line\":{\"colorbar\":{\"outlinewidth\":0,\"ticks\":\"\"}}}],\"scatterpolargl\":[{\"type\":\"scatterpolargl\",\"marker\":{\"colorbar\":{\"outlinewidth\":0,\"ticks\":\"\"}}}],\"bar\":[{\"error_x\":{\"color\":\"#2a3f5f\"},\"error_y\":{\"color\":\"#2a3f5f\"},\"marker\":{\"line\":{\"color\":\"#E5ECF6\",\"width\":0.5},\"pattern\":{\"fillmode\":\"overlay\",\"size\":10,\"solidity\":0.2}},\"type\":\"bar\"}],\"scattergeo\":[{\"type\":\"scattergeo\",\"marker\":{\"colorbar\":{\"outlinewidth\":0,\"ticks\":\"\"}}}],\"scatterpolar\":[{\"type\":\"scatterpolar\",\"marker\":{\"colorbar\":{\"outlinewidth\":0,\"ticks\":\"\"}}}],\"histogram\":[{\"marker\":{\"pattern\":{\"fillmode\":\"overlay\",\"size\":10,\"solidity\":0.2}},\"type\":\"histogram\"}],\"scattergl\":[{\"type\":\"scattergl\",\"marker\":{\"colorbar\":{\"outlinewidth\":0,\"ticks\":\"\"}}}],\"scatter3d\":[{\"type\":\"scatter3d\",\"line\":{\"colorbar\":{\"outlinewidth\":0,\"ticks\":\"\"}},\"marker\":{\"colorbar\":{\"outlinewidth\":0,\"ticks\":\"\"}}}],\"scattermapbox\":[{\"type\":\"scattermapbox\",\"marker\":{\"colorbar\":{\"outlinewidth\":0,\"ticks\":\"\"}}}],\"scatterternary\":[{\"type\":\"scatterternary\",\"marker\":{\"colorbar\":{\"outlinewidth\":0,\"ticks\":\"\"}}}],\"scattercarpet\":[{\"type\":\"scattercarpet\",\"marker\":{\"colorbar\":{\"outlinewidth\":0,\"ticks\":\"\"}}}],\"carpet\":[{\"aaxis\":{\"endlinecolor\":\"#2a3f5f\",\"gridcolor\":\"white\",\"linecolor\":\"white\",\"minorgridcolor\":\"white\",\"startlinecolor\":\"#2a3f5f\"},\"baxis\":{\"endlinecolor\":\"#2a3f5f\",\"gridcolor\":\"white\",\"linecolor\":\"white\",\"minorgridcolor\":\"white\",\"startlinecolor\":\"#2a3f5f\"},\"type\":\"carpet\"}],\"table\":[{\"cells\":{\"fill\":{\"color\":\"#EBF0F8\"},\"line\":{\"color\":\"white\"}},\"header\":{\"fill\":{\"color\":\"#C8D4E3\"},\"line\":{\"color\":\"white\"}},\"type\":\"table\"}],\"barpolar\":[{\"marker\":{\"line\":{\"color\":\"#E5ECF6\",\"width\":0.5},\"pattern\":{\"fillmode\":\"overlay\",\"size\":10,\"solidity\":0.2}},\"type\":\"barpolar\"}],\"pie\":[{\"automargin\":true,\"type\":\"pie\"}]},\"layout\":{\"autotypenumbers\":\"strict\",\"colorway\":[\"#636efa\",\"#EF553B\",\"#00cc96\",\"#ab63fa\",\"#FFA15A\",\"#19d3f3\",\"#FF6692\",\"#B6E880\",\"#FF97FF\",\"#FECB52\"],\"font\":{\"color\":\"#2a3f5f\"},\"hovermode\":\"closest\",\"hoverlabel\":{\"align\":\"left\"},\"paper_bgcolor\":\"white\",\"plot_bgcolor\":\"#E5ECF6\",\"polar\":{\"bgcolor\":\"#E5ECF6\",\"angularaxis\":{\"gridcolor\":\"white\",\"linecolor\":\"white\",\"ticks\":\"\"},\"radialaxis\":{\"gridcolor\":\"white\",\"linecolor\":\"white\",\"ticks\":\"\"}},\"ternary\":{\"bgcolor\":\"#E5ECF6\",\"aaxis\":{\"gridcolor\":\"white\",\"linecolor\":\"white\",\"ticks\":\"\"},\"baxis\":{\"gridcolor\":\"white\",\"linecolor\":\"white\",\"ticks\":\"\"},\"caxis\":{\"gridcolor\":\"white\",\"linecolor\":\"white\",\"ticks\":\"\"}},\"coloraxis\":{\"colorbar\":{\"outlinewidth\":0,\"ticks\":\"\"}},\"colorscale\":{\"sequential\":[[0.0,\"#0d0887\"],[0.1111111111111111,\"#46039f\"],[0.2222222222222222,\"#7201a8\"],[0.3333333333333333,\"#9c179e\"],[0.4444444444444444,\"#bd3786\"],[0.5555555555555556,\"#d8576b\"],[0.6666666666666666,\"#ed7953\"],[0.7777777777777778,\"#fb9f3a\"],[0.8888888888888888,\"#fdca26\"],[1.0,\"#f0f921\"]],\"sequentialminus\":[[0.0,\"#0d0887\"],[0.1111111111111111,\"#46039f\"],[0.2222222222222222,\"#7201a8\"],[0.3333333333333333,\"#9c179e\"],[0.4444444444444444,\"#bd3786\"],[0.5555555555555556,\"#d8576b\"],[0.6666666666666666,\"#ed7953\"],[0.7777777777777778,\"#fb9f3a\"],[0.8888888888888888,\"#fdca26\"],[1.0,\"#f0f921\"]],\"diverging\":[[0,\"#8e0152\"],[0.1,\"#c51b7d\"],[0.2,\"#de77ae\"],[0.3,\"#f1b6da\"],[0.4,\"#fde0ef\"],[0.5,\"#f7f7f7\"],[0.6,\"#e6f5d0\"],[0.7,\"#b8e186\"],[0.8,\"#7fbc41\"],[0.9,\"#4d9221\"],[1,\"#276419\"]]},\"xaxis\":{\"gridcolor\":\"white\",\"linecolor\":\"white\",\"ticks\":\"\",\"title\":{\"standoff\":15},\"zerolinecolor\":\"white\",\"automargin\":true,\"zerolinewidth\":2},\"yaxis\":{\"gridcolor\":\"white\",\"linecolor\":\"white\",\"ticks\":\"\",\"title\":{\"standoff\":15},\"zerolinecolor\":\"white\",\"automargin\":true,\"zerolinewidth\":2},\"scene\":{\"xaxis\":{\"backgroundcolor\":\"#E5ECF6\",\"gridcolor\":\"white\",\"linecolor\":\"white\",\"showbackground\":true,\"ticks\":\"\",\"zerolinecolor\":\"white\",\"gridwidth\":2},\"yaxis\":{\"backgroundcolor\":\"#E5ECF6\",\"gridcolor\":\"white\",\"linecolor\":\"white\",\"showbackground\":true,\"ticks\":\"\",\"zerolinecolor\":\"white\",\"gridwidth\":2},\"zaxis\":{\"backgroundcolor\":\"#E5ECF6\",\"gridcolor\":\"white\",\"linecolor\":\"white\",\"showbackground\":true,\"ticks\":\"\",\"zerolinecolor\":\"white\",\"gridwidth\":2}},\"shapedefaults\":{\"line\":{\"color\":\"#2a3f5f\"}},\"annotationdefaults\":{\"arrowcolor\":\"#2a3f5f\",\"arrowhead\":0,\"arrowwidth\":1},\"geo\":{\"bgcolor\":\"white\",\"landcolor\":\"#E5ECF6\",\"subunitcolor\":\"white\",\"showland\":true,\"showlakes\":true,\"lakecolor\":\"white\"},\"title\":{\"x\":0.05},\"mapbox\":{\"style\":\"light\"}}},\"xaxis\":{\"anchor\":\"y\",\"domain\":[0.0,1.0],\"title\":{\"text\":\"city/town income per capita (dollars/year)\"},\"type\":\"log\",\"range\":[4,5.60206],\"dtick\":\"D1\"},\"yaxis\":{\"anchor\":\"x\",\"domain\":[0.0,1.0],\"title\":{\"text\":\"Passing %\"}},\"legend\":{\"tracegroupgap\":0},\"margin\":{\"t\":60}},                        {\"responsive\": true}                    ).then(function(){\n",
       "                            \n",
       "var gd = document.getElementById('fb5a9bb4-8288-47cf-bbcd-d3b09dee67f5');\n",
       "var x = new MutationObserver(function (mutations, observer) {{\n",
       "        var display = window.getComputedStyle(gd).display;\n",
       "        if (!display || display === 'none') {{\n",
       "            console.log([gd, 'removed!']);\n",
       "            Plotly.purge(gd);\n",
       "            observer.disconnect();\n",
       "        }}\n",
       "}});\n",
       "\n",
       "// Listen for the removal of the full notebook cells\n",
       "var notebookContainer = gd.closest('#notebook-container');\n",
       "if (notebookContainer) {{\n",
       "    x.observe(notebookContainer, {childList: true});\n",
       "}}\n",
       "\n",
       "// Listen for the clearing of the current output cell\n",
       "var outputEl = gd.closest('.output');\n",
       "if (outputEl) {{\n",
       "    x.observe(outputEl, {childList: true});\n",
       "}}\n",
       "\n",
       "                        })                };                });            </script>        </div>"
      ]
     },
     "metadata": {},
     "output_type": "display_data"
    },
    {
     "data": {
      "application/vnd.plotly.v1+json": {
       "config": {
        "plotlyServerURL": "https://plot.ly"
       },
       "data": [
        {
         "customdata": [
          [
           "Abington"
          ],
          [
           "Acushnet"
          ],
          [
           "Agawam"
          ],
          [
           "Amesbury"
          ],
          [
           "Amherst"
          ],
          [
           "Andover"
          ],
          [
           "Arlington"
          ],
          [
           "Ashland"
          ],
          [
           "Attleboro"
          ],
          [
           "Auburn"
          ],
          [
           "Avon"
          ],
          [
           "Barnstable"
          ],
          [
           "Bedford"
          ],
          [
           "Belchertown"
          ],
          [
           "Bellingham"
          ],
          [
           "Belmont"
          ],
          [
           "Berkley"
          ],
          [
           "Beverly"
          ],
          [
           "Billerica"
          ],
          [
           "Boston"
          ],
          [
           "Bourne"
          ],
          [
           "Boxford"
          ],
          [
           "Braintree"
          ],
          [
           "Brewster"
          ],
          [
           "Brimfield"
          ],
          [
           "Brockton"
          ],
          [
           "Brookfield"
          ],
          [
           "Brookline"
          ],
          [
           "Burlington"
          ],
          [
           "Cambridge"
          ],
          [
           "Canton"
          ],
          [
           "Carlisle"
          ],
          [
           "Carver"
          ],
          [
           "Chelmsford"
          ],
          [
           "Chelsea"
          ],
          [
           "Chicopee"
          ],
          [
           "Clarksburg"
          ],
          [
           "Clinton"
          ],
          [
           "Cohasset"
          ],
          [
           "Concord"
          ],
          [
           "Conway"
          ],
          [
           "Danvers"
          ],
          [
           "Dartmouth"
          ],
          [
           "Dedham"
          ],
          [
           "Deerfield"
          ],
          [
           "Douglas"
          ],
          [
           "Dover"
          ],
          [
           "Dracut"
          ],
          [
           "Duxbury"
          ],
          [
           "East Bridgewater"
          ],
          [
           "Eastham"
          ],
          [
           "Easthampton"
          ],
          [
           "East Longmeadow"
          ],
          [
           "Easton"
          ],
          [
           "Edgartown"
          ],
          [
           "Erving"
          ],
          [
           "Everett"
          ],
          [
           "Fairhaven"
          ],
          [
           "Fall River"
          ],
          [
           "Falmouth"
          ],
          [
           "Fitchburg"
          ],
          [
           "Florida"
          ],
          [
           "Foxborough"
          ],
          [
           "Framingham"
          ],
          [
           "Franklin"
          ],
          [
           "Gardner"
          ],
          [
           "Georgetown"
          ],
          [
           "Gloucester"
          ],
          [
           "Grafton"
          ],
          [
           "Granby"
          ],
          [
           "Greenfield"
          ],
          [
           "Hadley"
          ],
          [
           "Halifax"
          ],
          [
           "Hanover"
          ],
          [
           "Harvard"
          ],
          [
           "Hatfield"
          ],
          [
           "Haverhill"
          ],
          [
           "Hingham"
          ],
          [
           "Holbrook"
          ],
          [
           "Holland"
          ],
          [
           "Holliston"
          ],
          [
           "Holyoke"
          ],
          [
           "Hopedale"
          ],
          [
           "Hopkinton"
          ],
          [
           "Hudson"
          ],
          [
           "Hull"
          ],
          [
           "Ipswich"
          ],
          [
           "Kingston"
          ],
          [
           "Lawrence"
          ],
          [
           "Lee"
          ],
          [
           "Leicester"
          ],
          [
           "Lenox"
          ],
          [
           "Leominster"
          ],
          [
           "Leverett"
          ],
          [
           "Lexington"
          ],
          [
           "Lincoln"
          ],
          [
           "Littleton"
          ],
          [
           "Longmeadow"
          ],
          [
           "Lowell"
          ],
          [
           "Ludlow"
          ],
          [
           "Lunenburg"
          ],
          [
           "Lynn"
          ],
          [
           "Lynnfield"
          ],
          [
           "Malden"
          ],
          [
           "Mansfield"
          ],
          [
           "Marblehead"
          ],
          [
           "Marion"
          ],
          [
           "Marlborough"
          ],
          [
           "Marshfield"
          ],
          [
           "Mashpee"
          ],
          [
           "Mattapoisett"
          ],
          [
           "Maynard"
          ],
          [
           "Medfield"
          ],
          [
           "Medford"
          ],
          [
           "Medway"
          ],
          [
           "Melrose"
          ],
          [
           "Methuen"
          ],
          [
           "Middleborough"
          ],
          [
           "Middleton"
          ],
          [
           "Milford"
          ],
          [
           "Millbury"
          ],
          [
           "Millis"
          ],
          [
           "Milton"
          ],
          [
           "Monson"
          ],
          [
           "Nahant"
          ],
          [
           "Nantucket"
          ],
          [
           "Natick"
          ],
          [
           "Needham"
          ],
          [
           "New Bedford"
          ],
          [
           "Newburyport"
          ],
          [
           "Newton"
          ],
          [
           "Norfolk"
          ],
          [
           "North Adams"
          ],
          [
           "Northampton"
          ],
          [
           "North Andover"
          ],
          [
           "North Attleborough"
          ],
          [
           "Northborough"
          ],
          [
           "Northbridge"
          ],
          [
           "North Brookfield"
          ],
          [
           "North Reading"
          ],
          [
           "Norton"
          ],
          [
           "Norwell"
          ],
          [
           "Norwood"
          ],
          [
           "Oak Bluffs"
          ],
          [
           "Orange"
          ],
          [
           "Orleans"
          ],
          [
           "Oxford"
          ],
          [
           "Palmer"
          ],
          [
           "Peabody"
          ],
          [
           "Pelham"
          ],
          [
           "Pembroke"
          ],
          [
           "Petersham"
          ],
          [
           "Pittsfield"
          ],
          [
           "Plainville"
          ],
          [
           "Plymouth"
          ],
          [
           "Plympton"
          ],
          [
           "Provincetown"
          ],
          [
           "Quincy"
          ],
          [
           "Randolph"
          ],
          [
           "Reading"
          ],
          [
           "Revere"
          ],
          [
           "Richmond"
          ],
          [
           "Rochester"
          ],
          [
           "Rockland"
          ],
          [
           "Rockport"
          ],
          [
           "Rowe"
          ],
          [
           "Salem"
          ],
          [
           "Sandwich"
          ],
          [
           "Saugus"
          ],
          [
           "Scituate"
          ],
          [
           "Seekonk"
          ],
          [
           "Sharon"
          ],
          [
           "Sherborn"
          ],
          [
           "Shrewsbury"
          ],
          [
           "Shutesbury"
          ],
          [
           "Somerset"
          ],
          [
           "Somerville"
          ],
          [
           "Southampton"
          ],
          [
           "Southborough"
          ],
          [
           "Southbridge"
          ],
          [
           "South Hadley"
          ],
          [
           "Springfield"
          ],
          [
           "Stoneham"
          ],
          [
           "Stoughton"
          ],
          [
           "Sturbridge"
          ],
          [
           "Sudbury"
          ],
          [
           "Sunderland"
          ],
          [
           "Sutton"
          ],
          [
           "Swampscott"
          ],
          [
           "Swansea"
          ],
          [
           "Taunton"
          ],
          [
           "Tewksbury"
          ],
          [
           "Tisbury"
          ],
          [
           "Topsfield"
          ],
          [
           "Truro"
          ],
          [
           "Tyngsborough"
          ],
          [
           "Uxbridge"
          ],
          [
           "Wakefield"
          ],
          [
           "Wales"
          ],
          [
           "Walpole"
          ],
          [
           "Waltham"
          ],
          [
           "Ware"
          ],
          [
           "Wareham"
          ],
          [
           "Watertown"
          ],
          [
           "Wayland"
          ],
          [
           "Webster"
          ],
          [
           "Wellesley"
          ],
          [
           "Wellfleet"
          ],
          [
           "Westborough"
          ],
          [
           "West Boylston"
          ],
          [
           "West Bridgewater"
          ],
          [
           "Westfield"
          ],
          [
           "Westford"
          ],
          [
           "Westhampton"
          ],
          [
           "Weston"
          ],
          [
           "Westport"
          ],
          [
           "West Springfield"
          ],
          [
           "Westwood"
          ],
          [
           "Weymouth"
          ],
          [
           "Whately"
          ],
          [
           "Williamsburg"
          ],
          [
           "Wilmington"
          ],
          [
           "Winchendon"
          ],
          [
           "Winchester"
          ],
          [
           "Winthrop"
          ],
          [
           "Woburn"
          ],
          [
           "Worcester"
          ],
          [
           "Wrentham"
          ]
         ],
         "hovertemplate": "In-District Expenditures per Pupil=%{x}<br>Passing %=%{y}<br>district_name=%{customdata[0]}<extra></extra>",
         "legendgroup": "",
         "marker": {
          "color": "#636efa",
          "symbol": "circle"
         },
         "mode": "markers",
         "name": "",
         "orientation": "v",
         "showlegend": false,
         "type": "scatter",
         "x": [
          14014.17,
          12674.68,
          17043.05,
          16683.19,
          23693.93,
          17595.51,
          13642.69,
          13637.18,
          13574.98,
          13522.12,
          16132.48,
          17103.86,
          18324.74,
          14016.57,
          16308.06,
          13379.49,
          12217.56,
          13572.53,
          16604.96,
          24140.54,
          15988.14,
          18954.56,
          14507.04,
          21191.98,
          14741.61,
          15114.46,
          12408.29,
          19818.97,
          20128.76,
          27853.22,
          16013.01,
          20561.32,
          15070.67,
          14477.15,
          14760.39,
          15297.88,
          15200.77,
          13602.62,
          16871.2,
          20085.65,
          22107.88,
          16315.71,
          13534.47,
          19502.83,
          16746.6,
          14607.44,
          18895.02,
          11697.93,
          15935.03,
          12395.95,
          27628.71,
          13620.22,
          15150.6,
          13726.58,
          28533.13,
          33003.74,
          13834.09,
          12473.23,
          15059.01,
          18514.5,
          14192.57,
          23271.89,
          17343.37,
          18389.1,
          14276.06,
          13912.34,
          14693.29,
          17014.09,
          12780.82,
          13919.07,
          16224.88,
          17307.26,
          11129.41,
          14106.34,
          19092.48,
          13297.06,
          13360.89,
          14028.77,
          13956.6,
          13665.78,
          13561.2,
          17686.94,
          15202.04,
          14572.08,
          16588.16,
          21527.79,
          17464.09,
          12342.24,
          15599.18,
          19081.14,
          13877.97,
          20177.35,
          13960.84,
          19866.76,
          17340.42,
          23092.84,
          14592.97,
          15111.1,
          14728.31,
          16771.73,
          13547.63,
          13959.46,
          15650,
          14656.91,
          16480.39,
          16540.96,
          15327.82,
          16385.86,
          13611.14,
          18323.56,
          19253.55,
          18898.33,
          16013.4,
          18067.62,
          15010.46,
          11771.38,
          12906.71,
          14705.45,
          17932.88,
          14708.35,
          16176.75,
          16191.96,
          14506.42,
          17212.33,
          18373.9,
          22710.57,
          15192.62,
          17882.77,
          14383.18,
          17142.6,
          19297.42,
          16149.86,
          18395.52,
          15148.28,
          13171.89,
          13405.92,
          17887.05,
          14535.49,
          14323.68,
          16211.12,
          14487.45,
          15764.41,
          16031.07,
          23180.93,
          14988.78,
          24751.35,
          13936.52,
          15822.88,
          14319.08,
          17303.38,
          14217.33,
          16959.02,
          16750.77,
          17059.38,
          17849.89,
          16941.04,
          44860.71,
          15402.72,
          18050.8,
          13901.12,
          13696.96,
          18349.29,
          14076.82,
          15846.76,
          19362.18,
          29745.62,
          19734.64,
          18523.43,
          16594.64,
          15150.29,
          15465.36,
          16278.19,
          18944.92,
          13540.37,
          21056.8,
          14945.9,
          19350.54,
          12327.92,
          19279.2,
          17675.36,
          14652.62,
          17008.62,
          16232.79,
          15111.69,
          14450.33,
          16347.68,
          16668.87,
          14516.33,
          16427.05,
          13879.99,
          13704.17,
          16824.91,
          29259.29,
          16222.66,
          42833.77,
          15155.45,
          15795.83,
          15280.52,
          15281.97,
          15690.26,
          21331.61,
          15422.12,
          18376.14,
          21078.25,
          18726.37,
          15520.19,
          19734.45,
          33774.81,
          16341.44,
          16760.61,
          12697.98,
          14917.16,
          14317.63,
          18547.48,
          24972.42,
          15583.14,
          13936,
          18823.65,
          15198.07,
          17016.96,
          17986.63,
          16997.07,
          14272.06,
          14012.99,
          13401.85,
          17537.59,
          14807.5,
          16956.9
         ],
         "xaxis": "x",
         "y": [
          50,
          52.666666666666664,
          50,
          55.333333333333336,
          47.333333333333336,
          70.66666666666667,
          69.66666666666667,
          63.666666666666664,
          50.666666666666664,
          59,
          50,
          44.666666666666664,
          70.66666666666667,
          40.666666666666664,
          44.333333333333336,
          81.33333333333333,
          56,
          53,
          50.666666666666664,
          30.666666666666668,
          45,
          67.66666666666667,
          63.666666666666664,
          60.333333333333336,
          70.33333333333333,
          24,
          56,
          72.66666666666667,
          58,
          54,
          61.333333333333336,
          80,
          46,
          65.33333333333333,
          26.666666666666668,
          42,
          38.666666666666664,
          33,
          64.66666666666667,
          73.33333333333333,
          64,
          47.333333333333336,
          54.666666666666664,
          50.333333333333336,
          61.666666666666664,
          53.666666666666664,
          85,
          48.333333333333336,
          66,
          51,
          53.666666666666664,
          42.666666666666664,
          57.333333333333336,
          65,
          59.666666666666664,
          31.333333333333332,
          34.333333333333336,
          52,
          30.666666666666668,
          59,
          31,
          44,
          58,
          37,
          65.33333333333333,
          27,
          59.666666666666664,
          45,
          65.66666666666667,
          46.333333333333336,
          31,
          52,
          53.666666666666664,
          64,
          76.66666666666667,
          58.333333333333336,
          35.666666666666664,
          78.33333333333333,
          45,
          51.666666666666664,
          62.333333333333336,
          14.666666666666666,
          64.66666666666667,
          76.66666666666667,
          47.333333333333336,
          53.333333333333336,
          65.33333333333333,
          58,
          28.333333333333332,
          45,
          41,
          65.33333333333333,
          46.333333333333336,
          63.666666666666664,
          79.66666666666667,
          58.333333333333336,
          64.66666666666667,
          68.33333333333333,
          33.333333333333336,
          41,
          53.333333333333336,
          38.666666666666664,
          75.66666666666667,
          44,
          57.333333333333336,
          63,
          60,
          38,
          68.66666666666667,
          49,
          75.66666666666667,
          51.333333333333336,
          71.66666666666667,
          43.333333333333336,
          61.333333333333336,
          66.33333333333333,
          38.666666666666664,
          48.333333333333336,
          68.33333333333333,
          47.333333333333336,
          43.666666666666664,
          59,
          68.33333333333333,
          48,
          47.666666666666664,
          41,
          65,
          73,
          30.666666666666668,
          56.666666666666664,
          70.66666666666667,
          68.33333333333333,
          28.666666666666668,
          49,
          58.666666666666664,
          59.333333333333336,
          66.66666666666667,
          46.333333333333336,
          31.333333333333332,
          74.33333333333333,
          48.333333333333336,
          72,
          49.333333333333336,
          59.333333333333336,
          22,
          70.66666666666667,
          40.333333333333336,
          31.333333333333332,
          43.666666666666664,
          71.66666666666667,
          59,
          54.666666666666664,
          31.333333333333332,
          51.333333333333336,
          49,
          68,
          44.333333333333336,
          55,
          34.666666666666664,
          66.33333333333333,
          44.333333333333336,
          62,
          53,
          43,
          53.333333333333336,
          34,
          38,
          56,
          46.333333333333336,
          68.33333333333333,
          59.666666666666664,
          72.66666666666667,
          77,
          68.66666666666667,
          65.33333333333333,
          51.666666666666664,
          43.666666666666664,
          47.333333333333336,
          81,
          14.333333333333334,
          45.333333333333336,
          26,
          60.666666666666664,
          49,
          64.33333333333333,
          73.33333333333333,
          58.333333333333336,
          61.333333333333336,
          58.333333333333336,
          51.666666666666664,
          35.666666666666664,
          56.333333333333336,
          67.66666666666667,
          64.33333333333333,
          41.666666666666664,
          53.333333333333336,
          47.666666666666664,
          52.333333333333336,
          54.333333333333336,
          65.66666666666667,
          47.333333333333336,
          37.333333333333336,
          32.333333333333336,
          49.333333333333336,
          76,
          28,
          75.66666666666667,
          65.66666666666667,
          74.66666666666667,
          62.666666666666664,
          49.666666666666664,
          43,
          77,
          83,
          80.66666666666667,
          54.333333333333336,
          47.666666666666664,
          76.33333333333333,
          43.666666666666664,
          58.333333333333336,
          46.666666666666664,
          59.666666666666664,
          31.333333333333332,
          79.33333333333333,
          52,
          49,
          31.666666666666668,
          65.33333333333333
         ],
         "yaxis": "y"
        },
        {
         "hovertemplate": "<b>OLS trendline</b><br>Passing % = 9.66625e-05 * In-District Expenditures per Pupil + 52.4798<br>R<sup>2</sup>=0.000858<br><br>In-District Expenditures per Pupil=%{x}<br>Passing %=%{y} <b>(trend)</b><extra></extra>",
         "legendgroup": "",
         "marker": {
          "color": "#636efa",
          "symbol": "circle"
         },
         "mode": "lines",
         "name": "",
         "showlegend": false,
         "type": "scatter",
         "x": [
          11129.41,
          11697.93,
          11771.38,
          12217.56,
          12327.92,
          12342.24,
          12395.95,
          12408.29,
          12473.23,
          12674.68,
          12697.98,
          12780.82,
          12906.71,
          13171.89,
          13297.06,
          13360.89,
          13379.49,
          13401.85,
          13405.92,
          13522.12,
          13534.47,
          13540.37,
          13547.63,
          13561.2,
          13572.53,
          13574.98,
          13602.62,
          13611.14,
          13620.22,
          13637.18,
          13642.69,
          13665.78,
          13696.96,
          13704.17,
          13726.58,
          13834.09,
          13877.97,
          13879.99,
          13901.12,
          13912.34,
          13919.07,
          13936,
          13936.52,
          13956.6,
          13959.46,
          13960.84,
          14012.99,
          14014.17,
          14016.57,
          14028.77,
          14076.82,
          14106.34,
          14192.57,
          14217.33,
          14272.06,
          14276.06,
          14317.63,
          14319.08,
          14323.68,
          14383.18,
          14450.33,
          14477.15,
          14487.45,
          14506.42,
          14507.04,
          14516.33,
          14535.49,
          14572.08,
          14592.97,
          14607.44,
          14652.62,
          14656.91,
          14693.29,
          14705.45,
          14708.35,
          14728.31,
          14741.61,
          14760.39,
          14807.5,
          14917.16,
          14945.9,
          14988.78,
          15010.46,
          15059.01,
          15070.67,
          15111.1,
          15111.69,
          15114.46,
          15148.28,
          15150.29,
          15150.6,
          15155.45,
          15192.62,
          15198.07,
          15200.77,
          15202.04,
          15280.52,
          15281.97,
          15297.88,
          15327.82,
          15402.72,
          15422.12,
          15465.36,
          15520.19,
          15583.14,
          15599.18,
          15650,
          15690.26,
          15764.41,
          15795.83,
          15822.88,
          15846.76,
          15935.03,
          15988.14,
          16013.01,
          16013.4,
          16031.07,
          16132.48,
          16149.86,
          16176.75,
          16191.96,
          16211.12,
          16222.66,
          16224.88,
          16232.79,
          16278.19,
          16308.06,
          16315.71,
          16341.44,
          16347.68,
          16385.86,
          16427.05,
          16480.39,
          16540.96,
          16588.16,
          16594.64,
          16604.96,
          16668.87,
          16683.19,
          16746.6,
          16750.77,
          16760.61,
          16771.73,
          16824.91,
          16871.2,
          16941.04,
          16956.9,
          16959.02,
          16997.07,
          17008.62,
          17014.09,
          17016.96,
          17043.05,
          17059.38,
          17103.86,
          17142.6,
          17212.33,
          17303.38,
          17307.26,
          17340.42,
          17343.37,
          17464.09,
          17537.59,
          17595.51,
          17675.36,
          17686.94,
          17849.89,
          17882.77,
          17887.05,
          17932.88,
          17986.63,
          18050.8,
          18067.62,
          18323.56,
          18324.74,
          18349.29,
          18373.9,
          18376.14,
          18389.1,
          18395.52,
          18514.5,
          18523.43,
          18547.48,
          18726.37,
          18823.65,
          18895.02,
          18898.33,
          18944.92,
          18954.56,
          19081.14,
          19092.48,
          19253.55,
          19279.2,
          19297.42,
          19350.54,
          19362.18,
          19502.83,
          19734.45,
          19734.64,
          19818.97,
          19866.76,
          20085.65,
          20128.76,
          20177.35,
          20561.32,
          21056.8,
          21078.25,
          21191.98,
          21331.61,
          21527.79,
          22107.88,
          22710.57,
          23092.84,
          23180.93,
          23271.89,
          23693.93,
          24140.54,
          24751.35,
          24972.42,
          27628.71,
          27853.22,
          28533.13,
          29259.29,
          29745.62,
          33003.74,
          33774.81,
          42833.77,
          44860.71
         ],
         "xaxis": "x",
         "y": [
          53.555562921549395,
          53.61051751398276,
          53.617617378216615,
          53.660746274388984,
          53.67141395331136,
          53.672798161014946,
          53.67798990652891,
          53.679182722385214,
          53.685459988325945,
          53.70493265884888,
          53.70718489624369,
          53.71519242181391,
          53.72736127012432,
          53.75299424490354,
          53.76509349617857,
          53.77126346668977,
          53.77306139010365,
          53.77522276470227,
          53.77561618127724,
          53.786848369486556,
          53.788042151968355,
          53.78861246100824,
          53.78931423111495,
          53.79062594190669,
          53.79172112858837,
          53.79195795183375,
          53.7946297046918,
          53.79545326961042,
          53.79633096555655,
          53.797970362389854,
          53.798502973035575,
          53.800734911295066,
          53.803748849577055,
          53.8044457865563,
          53.806611994282385,
          53.81700418493973,
          53.8212457375957,
          53.821440995944954,
          53.82348347560814,
          53.82456802940942,
          53.82521856836509,
          53.826855065321915,
          53.82690532984747,
          53.82884631383407,
          53.82912276872459,
          53.829256163042395,
          53.834297114979705,
          53.83441117678768,
          53.8346431669056,
          53.83582245000503,
          53.84046708549089,
          53.84332056394131,
          53.85165577555309,
          53.85404914026964,
          53.85933948158372,
          53.85972613178025,
          53.86374439394773,
          53.86388455464397,
          53.86432920236999,
          53.870080624043425,
          53.87657151421774,
          53.8791640037855,
          53.880159628041575,
          53.88199331659864,
          53.8820532473791,
          53.88295124246055,
          53.88480329690194,
          53.88834017957474,
          53.890359460226136,
          53.8917581673121,
          53.89612538128195,
          53.896540063617735,
          53.90005664715521,
          53.90123206375267,
          53.90151238514516,
          53.903441769625864,
          53.90472738152934,
          53.90654270420207,
          53.91109647689174,
          53.92169649202972,
          53.92447457369182,
          53.92861946379866,
          53.930715107863875,
          53.935408074624306,
          53.9365351599472,
          53.94044322680867,
          53.94050025771266,
          53.940768012973756,
          53.94403714038545,
          53.944231432109206,
          53.94426139749944,
          53.94473021086274,
          53.94832315781403,
          53.9488499687068,
          53.94911095758947,
          53.949233719026864,
          53.95681979588286,
          53.956959956579105,
          53.958497857735814,
          53.96139193445687,
          53.96863195938697,
          53.97050721284016,
          53.97468690146469,
          53.97998690903368,
          53.986071816501635,
          53.98762228378973,
          53.9925346745367,
          53.99642630876481,
          54.00359383678306,
          54.006630974076835,
          54.009245696030895,
          54.0115539977042,
          54.02008640091621,
          54.025220148900694,
          54.027624146497644,
          54.0276618448918,
          54.02936987213499,
          54.03917242124262,
          54.04085241634655,
          54.043451672292754,
          54.04492190966508,
          54.04677396410647,
          54.047889449923474,
          54.04810404078255,
          54.04886864154619,
          54.05325712127686,
          54.05614443161947,
          54.05688390012034,
          54.05937102750955,
          54.05997420181614,
          54.06366477794206,
          54.06764630834086,
          54.07280228871164,
          54.07865713931266,
          54.08321961163176,
          54.083845984950145,
          54.0848435424572,
          54.09102124597232,
          54.092405453675916,
          54.09853482591647,
          54.09893790874635,
          54.09988906822983,
          54.100963955776194,
          54.10610447013911,
          54.110578979538495,
          54.11732989196998,
          54.118862959999234,
          54.1190678846034,
          54.12274589459793,
          54.12386234704042,
          54.12439109118418,
          54.1246685127002,
          54.12719043860709,
          54.12876893803443,
          54.13306848821989,
          54.13681319537332,
          54.1435534749244,
          54.152354600023,
          54.15272965071364,
          54.15593498084291,
          54.15622013536285,
          54.167889238294244,
          54.17499393565556,
          54.180592630501366,
          54.18831113504967,
          54.18943048736864,
          54.20518164974994,
          54.20835991436545,
          54.20877363007574,
          54.21320367470253,
          54.21839928671845,
          54.22460212249635,
          54.22622798657277,
          54.250967799398,
          54.251081861205975,
          54.2534549267872,
          54.25583379212137,
          54.25605031623143,
          54.2573030628682,
          54.25792363643364,
          54.26942454652954,
          54.270287743093306,
          54.27261247739996,
          54.28990444081445,
          54.29930777359416,
          54.30620657972581,
          54.30652653276344,
          54.31103004092757,
          54.31196186790122,
          54.324197413370534,
          54.32529356667771,
          54.34086300346664,
          54.34334239785191,
          54.34510358949712,
          54.350238304107094,
          54.35136345617901,
          54.36495904371463,
          54.38734802334493,
          54.38736638922926,
          54.39551794199769,
          54.40013744522078,
          54.421295910600605,
          54.42546303309375,
          54.43015986635614,
          54.46727538534692,
          54.51516974519158,
          54.51724315687049,
          54.52823658858344,
          54.54173358031895,
          54.56069683920796,
          54.61676981733479,
          54.67502736907205,
          54.7119785617293,
          54.72049356568247,
          54.72928599115165,
          54.770081453387945,
          54.813251914456444,
          54.87229436609266,
          54.893663555829605,
          55.150427318467365,
          55.17212902737332,
          55.23785086115466,
          55.30804333783343,
          55.35505323535351,
          55.669991419936274,
          55.74452501169662,
          56.620187177794826,
          56.816116365135436
         ],
         "yaxis": "y"
        }
       ],
       "layout": {
        "legend": {
         "tracegroupgap": 0
        },
        "margin": {
         "t": 60
        },
        "template": {
         "data": {
          "bar": [
           {
            "error_x": {
             "color": "#2a3f5f"
            },
            "error_y": {
             "color": "#2a3f5f"
            },
            "marker": {
             "line": {
              "color": "#E5ECF6",
              "width": 0.5
             },
             "pattern": {
              "fillmode": "overlay",
              "size": 10,
              "solidity": 0.2
             }
            },
            "type": "bar"
           }
          ],
          "barpolar": [
           {
            "marker": {
             "line": {
              "color": "#E5ECF6",
              "width": 0.5
             },
             "pattern": {
              "fillmode": "overlay",
              "size": 10,
              "solidity": 0.2
             }
            },
            "type": "barpolar"
           }
          ],
          "carpet": [
           {
            "aaxis": {
             "endlinecolor": "#2a3f5f",
             "gridcolor": "white",
             "linecolor": "white",
             "minorgridcolor": "white",
             "startlinecolor": "#2a3f5f"
            },
            "baxis": {
             "endlinecolor": "#2a3f5f",
             "gridcolor": "white",
             "linecolor": "white",
             "minorgridcolor": "white",
             "startlinecolor": "#2a3f5f"
            },
            "type": "carpet"
           }
          ],
          "choropleth": [
           {
            "colorbar": {
             "outlinewidth": 0,
             "ticks": ""
            },
            "type": "choropleth"
           }
          ],
          "contour": [
           {
            "colorbar": {
             "outlinewidth": 0,
             "ticks": ""
            },
            "colorscale": [
             [
              0,
              "#0d0887"
             ],
             [
              0.1111111111111111,
              "#46039f"
             ],
             [
              0.2222222222222222,
              "#7201a8"
             ],
             [
              0.3333333333333333,
              "#9c179e"
             ],
             [
              0.4444444444444444,
              "#bd3786"
             ],
             [
              0.5555555555555556,
              "#d8576b"
             ],
             [
              0.6666666666666666,
              "#ed7953"
             ],
             [
              0.7777777777777778,
              "#fb9f3a"
             ],
             [
              0.8888888888888888,
              "#fdca26"
             ],
             [
              1,
              "#f0f921"
             ]
            ],
            "type": "contour"
           }
          ],
          "contourcarpet": [
           {
            "colorbar": {
             "outlinewidth": 0,
             "ticks": ""
            },
            "type": "contourcarpet"
           }
          ],
          "heatmap": [
           {
            "colorbar": {
             "outlinewidth": 0,
             "ticks": ""
            },
            "colorscale": [
             [
              0,
              "#0d0887"
             ],
             [
              0.1111111111111111,
              "#46039f"
             ],
             [
              0.2222222222222222,
              "#7201a8"
             ],
             [
              0.3333333333333333,
              "#9c179e"
             ],
             [
              0.4444444444444444,
              "#bd3786"
             ],
             [
              0.5555555555555556,
              "#d8576b"
             ],
             [
              0.6666666666666666,
              "#ed7953"
             ],
             [
              0.7777777777777778,
              "#fb9f3a"
             ],
             [
              0.8888888888888888,
              "#fdca26"
             ],
             [
              1,
              "#f0f921"
             ]
            ],
            "type": "heatmap"
           }
          ],
          "heatmapgl": [
           {
            "colorbar": {
             "outlinewidth": 0,
             "ticks": ""
            },
            "colorscale": [
             [
              0,
              "#0d0887"
             ],
             [
              0.1111111111111111,
              "#46039f"
             ],
             [
              0.2222222222222222,
              "#7201a8"
             ],
             [
              0.3333333333333333,
              "#9c179e"
             ],
             [
              0.4444444444444444,
              "#bd3786"
             ],
             [
              0.5555555555555556,
              "#d8576b"
             ],
             [
              0.6666666666666666,
              "#ed7953"
             ],
             [
              0.7777777777777778,
              "#fb9f3a"
             ],
             [
              0.8888888888888888,
              "#fdca26"
             ],
             [
              1,
              "#f0f921"
             ]
            ],
            "type": "heatmapgl"
           }
          ],
          "histogram": [
           {
            "marker": {
             "pattern": {
              "fillmode": "overlay",
              "size": 10,
              "solidity": 0.2
             }
            },
            "type": "histogram"
           }
          ],
          "histogram2d": [
           {
            "colorbar": {
             "outlinewidth": 0,
             "ticks": ""
            },
            "colorscale": [
             [
              0,
              "#0d0887"
             ],
             [
              0.1111111111111111,
              "#46039f"
             ],
             [
              0.2222222222222222,
              "#7201a8"
             ],
             [
              0.3333333333333333,
              "#9c179e"
             ],
             [
              0.4444444444444444,
              "#bd3786"
             ],
             [
              0.5555555555555556,
              "#d8576b"
             ],
             [
              0.6666666666666666,
              "#ed7953"
             ],
             [
              0.7777777777777778,
              "#fb9f3a"
             ],
             [
              0.8888888888888888,
              "#fdca26"
             ],
             [
              1,
              "#f0f921"
             ]
            ],
            "type": "histogram2d"
           }
          ],
          "histogram2dcontour": [
           {
            "colorbar": {
             "outlinewidth": 0,
             "ticks": ""
            },
            "colorscale": [
             [
              0,
              "#0d0887"
             ],
             [
              0.1111111111111111,
              "#46039f"
             ],
             [
              0.2222222222222222,
              "#7201a8"
             ],
             [
              0.3333333333333333,
              "#9c179e"
             ],
             [
              0.4444444444444444,
              "#bd3786"
             ],
             [
              0.5555555555555556,
              "#d8576b"
             ],
             [
              0.6666666666666666,
              "#ed7953"
             ],
             [
              0.7777777777777778,
              "#fb9f3a"
             ],
             [
              0.8888888888888888,
              "#fdca26"
             ],
             [
              1,
              "#f0f921"
             ]
            ],
            "type": "histogram2dcontour"
           }
          ],
          "mesh3d": [
           {
            "colorbar": {
             "outlinewidth": 0,
             "ticks": ""
            },
            "type": "mesh3d"
           }
          ],
          "parcoords": [
           {
            "line": {
             "colorbar": {
              "outlinewidth": 0,
              "ticks": ""
             }
            },
            "type": "parcoords"
           }
          ],
          "pie": [
           {
            "automargin": true,
            "type": "pie"
           }
          ],
          "scatter": [
           {
            "fillpattern": {
             "fillmode": "overlay",
             "size": 10,
             "solidity": 0.2
            },
            "type": "scatter"
           }
          ],
          "scatter3d": [
           {
            "line": {
             "colorbar": {
              "outlinewidth": 0,
              "ticks": ""
             }
            },
            "marker": {
             "colorbar": {
              "outlinewidth": 0,
              "ticks": ""
             }
            },
            "type": "scatter3d"
           }
          ],
          "scattercarpet": [
           {
            "marker": {
             "colorbar": {
              "outlinewidth": 0,
              "ticks": ""
             }
            },
            "type": "scattercarpet"
           }
          ],
          "scattergeo": [
           {
            "marker": {
             "colorbar": {
              "outlinewidth": 0,
              "ticks": ""
             }
            },
            "type": "scattergeo"
           }
          ],
          "scattergl": [
           {
            "marker": {
             "colorbar": {
              "outlinewidth": 0,
              "ticks": ""
             }
            },
            "type": "scattergl"
           }
          ],
          "scattermapbox": [
           {
            "marker": {
             "colorbar": {
              "outlinewidth": 0,
              "ticks": ""
             }
            },
            "type": "scattermapbox"
           }
          ],
          "scatterpolar": [
           {
            "marker": {
             "colorbar": {
              "outlinewidth": 0,
              "ticks": ""
             }
            },
            "type": "scatterpolar"
           }
          ],
          "scatterpolargl": [
           {
            "marker": {
             "colorbar": {
              "outlinewidth": 0,
              "ticks": ""
             }
            },
            "type": "scatterpolargl"
           }
          ],
          "scatterternary": [
           {
            "marker": {
             "colorbar": {
              "outlinewidth": 0,
              "ticks": ""
             }
            },
            "type": "scatterternary"
           }
          ],
          "surface": [
           {
            "colorbar": {
             "outlinewidth": 0,
             "ticks": ""
            },
            "colorscale": [
             [
              0,
              "#0d0887"
             ],
             [
              0.1111111111111111,
              "#46039f"
             ],
             [
              0.2222222222222222,
              "#7201a8"
             ],
             [
              0.3333333333333333,
              "#9c179e"
             ],
             [
              0.4444444444444444,
              "#bd3786"
             ],
             [
              0.5555555555555556,
              "#d8576b"
             ],
             [
              0.6666666666666666,
              "#ed7953"
             ],
             [
              0.7777777777777778,
              "#fb9f3a"
             ],
             [
              0.8888888888888888,
              "#fdca26"
             ],
             [
              1,
              "#f0f921"
             ]
            ],
            "type": "surface"
           }
          ],
          "table": [
           {
            "cells": {
             "fill": {
              "color": "#EBF0F8"
             },
             "line": {
              "color": "white"
             }
            },
            "header": {
             "fill": {
              "color": "#C8D4E3"
             },
             "line": {
              "color": "white"
             }
            },
            "type": "table"
           }
          ]
         },
         "layout": {
          "annotationdefaults": {
           "arrowcolor": "#2a3f5f",
           "arrowhead": 0,
           "arrowwidth": 1
          },
          "autotypenumbers": "strict",
          "coloraxis": {
           "colorbar": {
            "outlinewidth": 0,
            "ticks": ""
           }
          },
          "colorscale": {
           "diverging": [
            [
             0,
             "#8e0152"
            ],
            [
             0.1,
             "#c51b7d"
            ],
            [
             0.2,
             "#de77ae"
            ],
            [
             0.3,
             "#f1b6da"
            ],
            [
             0.4,
             "#fde0ef"
            ],
            [
             0.5,
             "#f7f7f7"
            ],
            [
             0.6,
             "#e6f5d0"
            ],
            [
             0.7,
             "#b8e186"
            ],
            [
             0.8,
             "#7fbc41"
            ],
            [
             0.9,
             "#4d9221"
            ],
            [
             1,
             "#276419"
            ]
           ],
           "sequential": [
            [
             0,
             "#0d0887"
            ],
            [
             0.1111111111111111,
             "#46039f"
            ],
            [
             0.2222222222222222,
             "#7201a8"
            ],
            [
             0.3333333333333333,
             "#9c179e"
            ],
            [
             0.4444444444444444,
             "#bd3786"
            ],
            [
             0.5555555555555556,
             "#d8576b"
            ],
            [
             0.6666666666666666,
             "#ed7953"
            ],
            [
             0.7777777777777778,
             "#fb9f3a"
            ],
            [
             0.8888888888888888,
             "#fdca26"
            ],
            [
             1,
             "#f0f921"
            ]
           ],
           "sequentialminus": [
            [
             0,
             "#0d0887"
            ],
            [
             0.1111111111111111,
             "#46039f"
            ],
            [
             0.2222222222222222,
             "#7201a8"
            ],
            [
             0.3333333333333333,
             "#9c179e"
            ],
            [
             0.4444444444444444,
             "#bd3786"
            ],
            [
             0.5555555555555556,
             "#d8576b"
            ],
            [
             0.6666666666666666,
             "#ed7953"
            ],
            [
             0.7777777777777778,
             "#fb9f3a"
            ],
            [
             0.8888888888888888,
             "#fdca26"
            ],
            [
             1,
             "#f0f921"
            ]
           ]
          },
          "colorway": [
           "#636efa",
           "#EF553B",
           "#00cc96",
           "#ab63fa",
           "#FFA15A",
           "#19d3f3",
           "#FF6692",
           "#B6E880",
           "#FF97FF",
           "#FECB52"
          ],
          "font": {
           "color": "#2a3f5f"
          },
          "geo": {
           "bgcolor": "white",
           "lakecolor": "white",
           "landcolor": "#E5ECF6",
           "showlakes": true,
           "showland": true,
           "subunitcolor": "white"
          },
          "hoverlabel": {
           "align": "left"
          },
          "hovermode": "closest",
          "mapbox": {
           "style": "light"
          },
          "paper_bgcolor": "white",
          "plot_bgcolor": "#E5ECF6",
          "polar": {
           "angularaxis": {
            "gridcolor": "white",
            "linecolor": "white",
            "ticks": ""
           },
           "bgcolor": "#E5ECF6",
           "radialaxis": {
            "gridcolor": "white",
            "linecolor": "white",
            "ticks": ""
           }
          },
          "scene": {
           "xaxis": {
            "backgroundcolor": "#E5ECF6",
            "gridcolor": "white",
            "gridwidth": 2,
            "linecolor": "white",
            "showbackground": true,
            "ticks": "",
            "zerolinecolor": "white"
           },
           "yaxis": {
            "backgroundcolor": "#E5ECF6",
            "gridcolor": "white",
            "gridwidth": 2,
            "linecolor": "white",
            "showbackground": true,
            "ticks": "",
            "zerolinecolor": "white"
           },
           "zaxis": {
            "backgroundcolor": "#E5ECF6",
            "gridcolor": "white",
            "gridwidth": 2,
            "linecolor": "white",
            "showbackground": true,
            "ticks": "",
            "zerolinecolor": "white"
           }
          },
          "shapedefaults": {
           "line": {
            "color": "#2a3f5f"
           }
          },
          "ternary": {
           "aaxis": {
            "gridcolor": "white",
            "linecolor": "white",
            "ticks": ""
           },
           "baxis": {
            "gridcolor": "white",
            "linecolor": "white",
            "ticks": ""
           },
           "bgcolor": "#E5ECF6",
           "caxis": {
            "gridcolor": "white",
            "linecolor": "white",
            "ticks": ""
           }
          },
          "title": {
           "x": 0.05
          },
          "xaxis": {
           "automargin": true,
           "gridcolor": "white",
           "linecolor": "white",
           "ticks": "",
           "title": {
            "standoff": 15
           },
           "zerolinecolor": "white",
           "zerolinewidth": 2
          },
          "yaxis": {
           "automargin": true,
           "gridcolor": "white",
           "linecolor": "white",
           "ticks": "",
           "title": {
            "standoff": 15
           },
           "zerolinecolor": "white",
           "zerolinewidth": 2
          }
         }
        },
        "xaxis": {
         "anchor": "y",
         "domain": [
          0,
          1
         ],
         "title": {
          "text": "In-District Expenditures per Pupil"
         }
        },
        "yaxis": {
         "anchor": "x",
         "domain": [
          0,
          1
         ],
         "title": {
          "text": "Passing %"
         }
        }
       }
      },
      "text/html": [
       "<div>                            <div id=\"bd44d4b0-6ef5-4c86-add8-4be7692a20da\" class=\"plotly-graph-div\" style=\"height:525px; width:100%;\"></div>            <script type=\"text/javascript\">                require([\"plotly\"], function(Plotly) {                    window.PLOTLYENV=window.PLOTLYENV || {};                                    if (document.getElementById(\"bd44d4b0-6ef5-4c86-add8-4be7692a20da\")) {                    Plotly.newPlot(                        \"bd44d4b0-6ef5-4c86-add8-4be7692a20da\",                        [{\"customdata\":[[\"Abington\"],[\"Acushnet\"],[\"Agawam\"],[\"Amesbury\"],[\"Amherst\"],[\"Andover\"],[\"Arlington\"],[\"Ashland\"],[\"Attleboro\"],[\"Auburn\"],[\"Avon\"],[\"Barnstable\"],[\"Bedford\"],[\"Belchertown\"],[\"Bellingham\"],[\"Belmont\"],[\"Berkley\"],[\"Beverly\"],[\"Billerica\"],[\"Boston\"],[\"Bourne\"],[\"Boxford\"],[\"Braintree\"],[\"Brewster\"],[\"Brimfield\"],[\"Brockton\"],[\"Brookfield\"],[\"Brookline\"],[\"Burlington\"],[\"Cambridge\"],[\"Canton\"],[\"Carlisle\"],[\"Carver\"],[\"Chelmsford\"],[\"Chelsea\"],[\"Chicopee\"],[\"Clarksburg\"],[\"Clinton\"],[\"Cohasset\"],[\"Concord\"],[\"Conway\"],[\"Danvers\"],[\"Dartmouth\"],[\"Dedham\"],[\"Deerfield\"],[\"Douglas\"],[\"Dover\"],[\"Dracut\"],[\"Duxbury\"],[\"East Bridgewater\"],[\"Eastham\"],[\"Easthampton\"],[\"East Longmeadow\"],[\"Easton\"],[\"Edgartown\"],[\"Erving\"],[\"Everett\"],[\"Fairhaven\"],[\"Fall River\"],[\"Falmouth\"],[\"Fitchburg\"],[\"Florida\"],[\"Foxborough\"],[\"Framingham\"],[\"Franklin\"],[\"Gardner\"],[\"Georgetown\"],[\"Gloucester\"],[\"Grafton\"],[\"Granby\"],[\"Greenfield\"],[\"Hadley\"],[\"Halifax\"],[\"Hanover\"],[\"Harvard\"],[\"Hatfield\"],[\"Haverhill\"],[\"Hingham\"],[\"Holbrook\"],[\"Holland\"],[\"Holliston\"],[\"Holyoke\"],[\"Hopedale\"],[\"Hopkinton\"],[\"Hudson\"],[\"Hull\"],[\"Ipswich\"],[\"Kingston\"],[\"Lawrence\"],[\"Lee\"],[\"Leicester\"],[\"Lenox\"],[\"Leominster\"],[\"Leverett\"],[\"Lexington\"],[\"Lincoln\"],[\"Littleton\"],[\"Longmeadow\"],[\"Lowell\"],[\"Ludlow\"],[\"Lunenburg\"],[\"Lynn\"],[\"Lynnfield\"],[\"Malden\"],[\"Mansfield\"],[\"Marblehead\"],[\"Marion\"],[\"Marlborough\"],[\"Marshfield\"],[\"Mashpee\"],[\"Mattapoisett\"],[\"Maynard\"],[\"Medfield\"],[\"Medford\"],[\"Medway\"],[\"Melrose\"],[\"Methuen\"],[\"Middleborough\"],[\"Middleton\"],[\"Milford\"],[\"Millbury\"],[\"Millis\"],[\"Milton\"],[\"Monson\"],[\"Nahant\"],[\"Nantucket\"],[\"Natick\"],[\"Needham\"],[\"New Bedford\"],[\"Newburyport\"],[\"Newton\"],[\"Norfolk\"],[\"North Adams\"],[\"Northampton\"],[\"North Andover\"],[\"North Attleborough\"],[\"Northborough\"],[\"Northbridge\"],[\"North Brookfield\"],[\"North Reading\"],[\"Norton\"],[\"Norwell\"],[\"Norwood\"],[\"Oak Bluffs\"],[\"Orange\"],[\"Orleans\"],[\"Oxford\"],[\"Palmer\"],[\"Peabody\"],[\"Pelham\"],[\"Pembroke\"],[\"Petersham\"],[\"Pittsfield\"],[\"Plainville\"],[\"Plymouth\"],[\"Plympton\"],[\"Provincetown\"],[\"Quincy\"],[\"Randolph\"],[\"Reading\"],[\"Revere\"],[\"Richmond\"],[\"Rochester\"],[\"Rockland\"],[\"Rockport\"],[\"Rowe\"],[\"Salem\"],[\"Sandwich\"],[\"Saugus\"],[\"Scituate\"],[\"Seekonk\"],[\"Sharon\"],[\"Sherborn\"],[\"Shrewsbury\"],[\"Shutesbury\"],[\"Somerset\"],[\"Somerville\"],[\"Southampton\"],[\"Southborough\"],[\"Southbridge\"],[\"South Hadley\"],[\"Springfield\"],[\"Stoneham\"],[\"Stoughton\"],[\"Sturbridge\"],[\"Sudbury\"],[\"Sunderland\"],[\"Sutton\"],[\"Swampscott\"],[\"Swansea\"],[\"Taunton\"],[\"Tewksbury\"],[\"Tisbury\"],[\"Topsfield\"],[\"Truro\"],[\"Tyngsborough\"],[\"Uxbridge\"],[\"Wakefield\"],[\"Wales\"],[\"Walpole\"],[\"Waltham\"],[\"Ware\"],[\"Wareham\"],[\"Watertown\"],[\"Wayland\"],[\"Webster\"],[\"Wellesley\"],[\"Wellfleet\"],[\"Westborough\"],[\"West Boylston\"],[\"West Bridgewater\"],[\"Westfield\"],[\"Westford\"],[\"Westhampton\"],[\"Weston\"],[\"Westport\"],[\"West Springfield\"],[\"Westwood\"],[\"Weymouth\"],[\"Whately\"],[\"Williamsburg\"],[\"Wilmington\"],[\"Winchendon\"],[\"Winchester\"],[\"Winthrop\"],[\"Woburn\"],[\"Worcester\"],[\"Wrentham\"]],\"hovertemplate\":\"In-District Expenditures per Pupil=%{x}<br>Passing %=%{y}<br>district_name=%{customdata[0]}<extra></extra>\",\"legendgroup\":\"\",\"marker\":{\"color\":\"#636efa\",\"symbol\":\"circle\"},\"mode\":\"markers\",\"name\":\"\",\"orientation\":\"v\",\"showlegend\":false,\"x\":[14014.17,12674.68,17043.05,16683.19,23693.93,17595.51,13642.69,13637.18,13574.98,13522.12,16132.48,17103.86,18324.74,14016.57,16308.06,13379.49,12217.56,13572.53,16604.96,24140.54,15988.14,18954.56,14507.04,21191.98,14741.61,15114.46,12408.29,19818.97,20128.76,27853.22,16013.01,20561.32,15070.67,14477.15,14760.39,15297.88,15200.77,13602.62,16871.2,20085.65,22107.88,16315.71,13534.47,19502.83,16746.6,14607.44,18895.02,11697.93,15935.03,12395.95,27628.71,13620.22,15150.6,13726.58,28533.13,33003.74,13834.09,12473.23,15059.01,18514.5,14192.57,23271.89,17343.37,18389.1,14276.06,13912.34,14693.29,17014.09,12780.82,13919.07,16224.88,17307.26,11129.41,14106.34,19092.48,13297.06,13360.89,14028.77,13956.6,13665.78,13561.2,17686.94,15202.04,14572.08,16588.16,21527.79,17464.09,12342.24,15599.18,19081.14,13877.97,20177.35,13960.84,19866.76,17340.42,23092.84,14592.97,15111.1,14728.31,16771.73,13547.63,13959.46,15650.0,14656.91,16480.39,16540.96,15327.82,16385.86,13611.14,18323.56,19253.55,18898.33,16013.4,18067.62,15010.46,11771.38,12906.71,14705.45,17932.88,14708.35,16176.75,16191.96,14506.42,17212.33,18373.9,22710.57,15192.62,17882.77,14383.18,17142.6,19297.42,16149.86,18395.52,15148.28,13171.89,13405.92,17887.05,14535.49,14323.68,16211.12,14487.45,15764.41,16031.07,23180.93,14988.78,24751.35,13936.52,15822.88,14319.08,17303.38,14217.33,16959.02,16750.77,17059.38,17849.89,16941.04,44860.71,15402.72,18050.8,13901.12,13696.96,18349.29,14076.82,15846.76,19362.18,29745.62,19734.64,18523.43,16594.64,15150.29,15465.36,16278.19,18944.92,13540.37,21056.8,14945.9,19350.54,12327.92,19279.2,17675.36,14652.62,17008.62,16232.79,15111.69,14450.33,16347.68,16668.87,14516.33,16427.05,13879.99,13704.17,16824.91,29259.29,16222.66,42833.77,15155.45,15795.83,15280.52,15281.97,15690.26,21331.61,15422.12,18376.14,21078.25,18726.37,15520.19,19734.45,33774.81,16341.44,16760.61,12697.98,14917.16,14317.63,18547.48,24972.42,15583.14,13936.0,18823.65,15198.07,17016.96,17986.63,16997.07,14272.06,14012.99,13401.85,17537.59,14807.5,16956.9],\"xaxis\":\"x\",\"y\":[50.0,52.666666666666664,50.0,55.333333333333336,47.333333333333336,70.66666666666667,69.66666666666667,63.666666666666664,50.666666666666664,59.0,50.0,44.666666666666664,70.66666666666667,40.666666666666664,44.333333333333336,81.33333333333333,56.0,53.0,50.666666666666664,30.666666666666668,45.0,67.66666666666667,63.666666666666664,60.333333333333336,70.33333333333333,24.0,56.0,72.66666666666667,58.0,54.0,61.333333333333336,80.0,46.0,65.33333333333333,26.666666666666668,42.0,38.666666666666664,33.0,64.66666666666667,73.33333333333333,64.0,47.333333333333336,54.666666666666664,50.333333333333336,61.666666666666664,53.666666666666664,85.0,48.333333333333336,66.0,51.0,53.666666666666664,42.666666666666664,57.333333333333336,65.0,59.666666666666664,31.333333333333332,34.333333333333336,52.0,30.666666666666668,59.0,31.0,44.0,58.0,37.0,65.33333333333333,27.0,59.666666666666664,45.0,65.66666666666667,46.333333333333336,31.0,52.0,53.666666666666664,64.0,76.66666666666667,58.333333333333336,35.666666666666664,78.33333333333333,45.0,51.666666666666664,62.333333333333336,14.666666666666666,64.66666666666667,76.66666666666667,47.333333333333336,53.333333333333336,65.33333333333333,58.0,28.333333333333332,45.0,41.0,65.33333333333333,46.333333333333336,63.666666666666664,79.66666666666667,58.333333333333336,64.66666666666667,68.33333333333333,33.333333333333336,41.0,53.333333333333336,38.666666666666664,75.66666666666667,44.0,57.333333333333336,63.0,60.0,38.0,68.66666666666667,49.0,75.66666666666667,51.333333333333336,71.66666666666667,43.333333333333336,61.333333333333336,66.33333333333333,38.666666666666664,48.333333333333336,68.33333333333333,47.333333333333336,43.666666666666664,59.0,68.33333333333333,48.0,47.666666666666664,41.0,65.0,73.0,30.666666666666668,56.666666666666664,70.66666666666667,68.33333333333333,28.666666666666668,49.0,58.666666666666664,59.333333333333336,66.66666666666667,46.333333333333336,31.333333333333332,74.33333333333333,48.333333333333336,72.0,49.333333333333336,59.333333333333336,22.0,70.66666666666667,40.333333333333336,31.333333333333332,43.666666666666664,71.66666666666667,59.0,54.666666666666664,31.333333333333332,51.333333333333336,49.0,68.0,44.333333333333336,55.0,34.666666666666664,66.33333333333333,44.333333333333336,62.0,53.0,43.0,53.333333333333336,34.0,38.0,56.0,46.333333333333336,68.33333333333333,59.666666666666664,72.66666666666667,77.0,68.66666666666667,65.33333333333333,51.666666666666664,43.666666666666664,47.333333333333336,81.0,14.333333333333334,45.333333333333336,26.0,60.666666666666664,49.0,64.33333333333333,73.33333333333333,58.333333333333336,61.333333333333336,58.333333333333336,51.666666666666664,35.666666666666664,56.333333333333336,67.66666666666667,64.33333333333333,41.666666666666664,53.333333333333336,47.666666666666664,52.333333333333336,54.333333333333336,65.66666666666667,47.333333333333336,37.333333333333336,32.333333333333336,49.333333333333336,76.0,28.0,75.66666666666667,65.66666666666667,74.66666666666667,62.666666666666664,49.666666666666664,43.0,77.0,83.0,80.66666666666667,54.333333333333336,47.666666666666664,76.33333333333333,43.666666666666664,58.333333333333336,46.666666666666664,59.666666666666664,31.333333333333332,79.33333333333333,52.0,49.0,31.666666666666668,65.33333333333333],\"yaxis\":\"y\",\"type\":\"scatter\"},{\"hovertemplate\":\"<b>OLS trendline</b><br>Passing % = 9.66625e-05 * In-District Expenditures per Pupil + 52.4798<br>R<sup>2</sup>=0.000858<br><br>In-District Expenditures per Pupil=%{x}<br>Passing %=%{y} <b>(trend)</b><extra></extra>\",\"legendgroup\":\"\",\"marker\":{\"color\":\"#636efa\",\"symbol\":\"circle\"},\"mode\":\"lines\",\"name\":\"\",\"showlegend\":false,\"x\":[11129.41,11697.93,11771.38,12217.56,12327.92,12342.24,12395.95,12408.29,12473.23,12674.68,12697.98,12780.82,12906.71,13171.89,13297.06,13360.89,13379.49,13401.85,13405.92,13522.12,13534.47,13540.37,13547.63,13561.2,13572.53,13574.98,13602.62,13611.14,13620.22,13637.18,13642.69,13665.78,13696.96,13704.17,13726.58,13834.09,13877.97,13879.99,13901.12,13912.34,13919.07,13936.0,13936.52,13956.6,13959.46,13960.84,14012.99,14014.17,14016.57,14028.77,14076.82,14106.34,14192.57,14217.33,14272.06,14276.06,14317.63,14319.08,14323.68,14383.18,14450.33,14477.15,14487.45,14506.42,14507.04,14516.33,14535.49,14572.08,14592.97,14607.44,14652.62,14656.91,14693.29,14705.45,14708.35,14728.31,14741.61,14760.39,14807.5,14917.16,14945.9,14988.78,15010.46,15059.01,15070.67,15111.1,15111.69,15114.46,15148.28,15150.29,15150.6,15155.45,15192.62,15198.07,15200.77,15202.04,15280.52,15281.97,15297.88,15327.82,15402.72,15422.12,15465.36,15520.19,15583.14,15599.18,15650.0,15690.26,15764.41,15795.83,15822.88,15846.76,15935.03,15988.14,16013.01,16013.4,16031.07,16132.48,16149.86,16176.75,16191.96,16211.12,16222.66,16224.88,16232.79,16278.19,16308.06,16315.71,16341.44,16347.68,16385.86,16427.05,16480.39,16540.96,16588.16,16594.64,16604.96,16668.87,16683.19,16746.6,16750.77,16760.61,16771.73,16824.91,16871.2,16941.04,16956.9,16959.02,16997.07,17008.62,17014.09,17016.96,17043.05,17059.38,17103.86,17142.6,17212.33,17303.38,17307.26,17340.42,17343.37,17464.09,17537.59,17595.51,17675.36,17686.94,17849.89,17882.77,17887.05,17932.88,17986.63,18050.8,18067.62,18323.56,18324.74,18349.29,18373.9,18376.14,18389.1,18395.52,18514.5,18523.43,18547.48,18726.37,18823.65,18895.02,18898.33,18944.92,18954.56,19081.14,19092.48,19253.55,19279.2,19297.42,19350.54,19362.18,19502.83,19734.45,19734.64,19818.97,19866.76,20085.65,20128.76,20177.35,20561.32,21056.8,21078.25,21191.98,21331.61,21527.79,22107.88,22710.57,23092.84,23180.93,23271.89,23693.93,24140.54,24751.35,24972.42,27628.71,27853.22,28533.13,29259.29,29745.62,33003.74,33774.81,42833.77,44860.71],\"xaxis\":\"x\",\"y\":[53.555562921549395,53.61051751398276,53.617617378216615,53.660746274388984,53.67141395331136,53.672798161014946,53.67798990652891,53.679182722385214,53.685459988325945,53.70493265884888,53.70718489624369,53.71519242181391,53.72736127012432,53.75299424490354,53.76509349617857,53.77126346668977,53.77306139010365,53.77522276470227,53.77561618127724,53.786848369486556,53.788042151968355,53.78861246100824,53.78931423111495,53.79062594190669,53.79172112858837,53.79195795183375,53.7946297046918,53.79545326961042,53.79633096555655,53.797970362389854,53.798502973035575,53.800734911295066,53.803748849577055,53.8044457865563,53.806611994282385,53.81700418493973,53.8212457375957,53.821440995944954,53.82348347560814,53.82456802940942,53.82521856836509,53.826855065321915,53.82690532984747,53.82884631383407,53.82912276872459,53.829256163042395,53.834297114979705,53.83441117678768,53.8346431669056,53.83582245000503,53.84046708549089,53.84332056394131,53.85165577555309,53.85404914026964,53.85933948158372,53.85972613178025,53.86374439394773,53.86388455464397,53.86432920236999,53.870080624043425,53.87657151421774,53.8791640037855,53.880159628041575,53.88199331659864,53.8820532473791,53.88295124246055,53.88480329690194,53.88834017957474,53.890359460226136,53.8917581673121,53.89612538128195,53.896540063617735,53.90005664715521,53.90123206375267,53.90151238514516,53.903441769625864,53.90472738152934,53.90654270420207,53.91109647689174,53.92169649202972,53.92447457369182,53.92861946379866,53.930715107863875,53.935408074624306,53.9365351599472,53.94044322680867,53.94050025771266,53.940768012973756,53.94403714038545,53.944231432109206,53.94426139749944,53.94473021086274,53.94832315781403,53.9488499687068,53.94911095758947,53.949233719026864,53.95681979588286,53.956959956579105,53.958497857735814,53.96139193445687,53.96863195938697,53.97050721284016,53.97468690146469,53.97998690903368,53.986071816501635,53.98762228378973,53.9925346745367,53.99642630876481,54.00359383678306,54.006630974076835,54.009245696030895,54.0115539977042,54.02008640091621,54.025220148900694,54.027624146497644,54.0276618448918,54.02936987213499,54.03917242124262,54.04085241634655,54.043451672292754,54.04492190966508,54.04677396410647,54.047889449923474,54.04810404078255,54.04886864154619,54.05325712127686,54.05614443161947,54.05688390012034,54.05937102750955,54.05997420181614,54.06366477794206,54.06764630834086,54.07280228871164,54.07865713931266,54.08321961163176,54.083845984950145,54.0848435424572,54.09102124597232,54.092405453675916,54.09853482591647,54.09893790874635,54.09988906822983,54.100963955776194,54.10610447013911,54.110578979538495,54.11732989196998,54.118862959999234,54.1190678846034,54.12274589459793,54.12386234704042,54.12439109118418,54.1246685127002,54.12719043860709,54.12876893803443,54.13306848821989,54.13681319537332,54.1435534749244,54.152354600023,54.15272965071364,54.15593498084291,54.15622013536285,54.167889238294244,54.17499393565556,54.180592630501366,54.18831113504967,54.18943048736864,54.20518164974994,54.20835991436545,54.20877363007574,54.21320367470253,54.21839928671845,54.22460212249635,54.22622798657277,54.250967799398,54.251081861205975,54.2534549267872,54.25583379212137,54.25605031623143,54.2573030628682,54.25792363643364,54.26942454652954,54.270287743093306,54.27261247739996,54.28990444081445,54.29930777359416,54.30620657972581,54.30652653276344,54.31103004092757,54.31196186790122,54.324197413370534,54.32529356667771,54.34086300346664,54.34334239785191,54.34510358949712,54.350238304107094,54.35136345617901,54.36495904371463,54.38734802334493,54.38736638922926,54.39551794199769,54.40013744522078,54.421295910600605,54.42546303309375,54.43015986635614,54.46727538534692,54.51516974519158,54.51724315687049,54.52823658858344,54.54173358031895,54.56069683920796,54.61676981733479,54.67502736907205,54.7119785617293,54.72049356568247,54.72928599115165,54.770081453387945,54.813251914456444,54.87229436609266,54.893663555829605,55.150427318467365,55.17212902737332,55.23785086115466,55.30804333783343,55.35505323535351,55.669991419936274,55.74452501169662,56.620187177794826,56.816116365135436],\"yaxis\":\"y\",\"type\":\"scatter\"}],                        {\"template\":{\"data\":{\"histogram2dcontour\":[{\"type\":\"histogram2dcontour\",\"colorbar\":{\"outlinewidth\":0,\"ticks\":\"\"},\"colorscale\":[[0.0,\"#0d0887\"],[0.1111111111111111,\"#46039f\"],[0.2222222222222222,\"#7201a8\"],[0.3333333333333333,\"#9c179e\"],[0.4444444444444444,\"#bd3786\"],[0.5555555555555556,\"#d8576b\"],[0.6666666666666666,\"#ed7953\"],[0.7777777777777778,\"#fb9f3a\"],[0.8888888888888888,\"#fdca26\"],[1.0,\"#f0f921\"]]}],\"choropleth\":[{\"type\":\"choropleth\",\"colorbar\":{\"outlinewidth\":0,\"ticks\":\"\"}}],\"histogram2d\":[{\"type\":\"histogram2d\",\"colorbar\":{\"outlinewidth\":0,\"ticks\":\"\"},\"colorscale\":[[0.0,\"#0d0887\"],[0.1111111111111111,\"#46039f\"],[0.2222222222222222,\"#7201a8\"],[0.3333333333333333,\"#9c179e\"],[0.4444444444444444,\"#bd3786\"],[0.5555555555555556,\"#d8576b\"],[0.6666666666666666,\"#ed7953\"],[0.7777777777777778,\"#fb9f3a\"],[0.8888888888888888,\"#fdca26\"],[1.0,\"#f0f921\"]]}],\"heatmap\":[{\"type\":\"heatmap\",\"colorbar\":{\"outlinewidth\":0,\"ticks\":\"\"},\"colorscale\":[[0.0,\"#0d0887\"],[0.1111111111111111,\"#46039f\"],[0.2222222222222222,\"#7201a8\"],[0.3333333333333333,\"#9c179e\"],[0.4444444444444444,\"#bd3786\"],[0.5555555555555556,\"#d8576b\"],[0.6666666666666666,\"#ed7953\"],[0.7777777777777778,\"#fb9f3a\"],[0.8888888888888888,\"#fdca26\"],[1.0,\"#f0f921\"]]}],\"heatmapgl\":[{\"type\":\"heatmapgl\",\"colorbar\":{\"outlinewidth\":0,\"ticks\":\"\"},\"colorscale\":[[0.0,\"#0d0887\"],[0.1111111111111111,\"#46039f\"],[0.2222222222222222,\"#7201a8\"],[0.3333333333333333,\"#9c179e\"],[0.4444444444444444,\"#bd3786\"],[0.5555555555555556,\"#d8576b\"],[0.6666666666666666,\"#ed7953\"],[0.7777777777777778,\"#fb9f3a\"],[0.8888888888888888,\"#fdca26\"],[1.0,\"#f0f921\"]]}],\"contourcarpet\":[{\"type\":\"contourcarpet\",\"colorbar\":{\"outlinewidth\":0,\"ticks\":\"\"}}],\"contour\":[{\"type\":\"contour\",\"colorbar\":{\"outlinewidth\":0,\"ticks\":\"\"},\"colorscale\":[[0.0,\"#0d0887\"],[0.1111111111111111,\"#46039f\"],[0.2222222222222222,\"#7201a8\"],[0.3333333333333333,\"#9c179e\"],[0.4444444444444444,\"#bd3786\"],[0.5555555555555556,\"#d8576b\"],[0.6666666666666666,\"#ed7953\"],[0.7777777777777778,\"#fb9f3a\"],[0.8888888888888888,\"#fdca26\"],[1.0,\"#f0f921\"]]}],\"surface\":[{\"type\":\"surface\",\"colorbar\":{\"outlinewidth\":0,\"ticks\":\"\"},\"colorscale\":[[0.0,\"#0d0887\"],[0.1111111111111111,\"#46039f\"],[0.2222222222222222,\"#7201a8\"],[0.3333333333333333,\"#9c179e\"],[0.4444444444444444,\"#bd3786\"],[0.5555555555555556,\"#d8576b\"],[0.6666666666666666,\"#ed7953\"],[0.7777777777777778,\"#fb9f3a\"],[0.8888888888888888,\"#fdca26\"],[1.0,\"#f0f921\"]]}],\"mesh3d\":[{\"type\":\"mesh3d\",\"colorbar\":{\"outlinewidth\":0,\"ticks\":\"\"}}],\"scatter\":[{\"fillpattern\":{\"fillmode\":\"overlay\",\"size\":10,\"solidity\":0.2},\"type\":\"scatter\"}],\"parcoords\":[{\"type\":\"parcoords\",\"line\":{\"colorbar\":{\"outlinewidth\":0,\"ticks\":\"\"}}}],\"scatterpolargl\":[{\"type\":\"scatterpolargl\",\"marker\":{\"colorbar\":{\"outlinewidth\":0,\"ticks\":\"\"}}}],\"bar\":[{\"error_x\":{\"color\":\"#2a3f5f\"},\"error_y\":{\"color\":\"#2a3f5f\"},\"marker\":{\"line\":{\"color\":\"#E5ECF6\",\"width\":0.5},\"pattern\":{\"fillmode\":\"overlay\",\"size\":10,\"solidity\":0.2}},\"type\":\"bar\"}],\"scattergeo\":[{\"type\":\"scattergeo\",\"marker\":{\"colorbar\":{\"outlinewidth\":0,\"ticks\":\"\"}}}],\"scatterpolar\":[{\"type\":\"scatterpolar\",\"marker\":{\"colorbar\":{\"outlinewidth\":0,\"ticks\":\"\"}}}],\"histogram\":[{\"marker\":{\"pattern\":{\"fillmode\":\"overlay\",\"size\":10,\"solidity\":0.2}},\"type\":\"histogram\"}],\"scattergl\":[{\"type\":\"scattergl\",\"marker\":{\"colorbar\":{\"outlinewidth\":0,\"ticks\":\"\"}}}],\"scatter3d\":[{\"type\":\"scatter3d\",\"line\":{\"colorbar\":{\"outlinewidth\":0,\"ticks\":\"\"}},\"marker\":{\"colorbar\":{\"outlinewidth\":0,\"ticks\":\"\"}}}],\"scattermapbox\":[{\"type\":\"scattermapbox\",\"marker\":{\"colorbar\":{\"outlinewidth\":0,\"ticks\":\"\"}}}],\"scatterternary\":[{\"type\":\"scatterternary\",\"marker\":{\"colorbar\":{\"outlinewidth\":0,\"ticks\":\"\"}}}],\"scattercarpet\":[{\"type\":\"scattercarpet\",\"marker\":{\"colorbar\":{\"outlinewidth\":0,\"ticks\":\"\"}}}],\"carpet\":[{\"aaxis\":{\"endlinecolor\":\"#2a3f5f\",\"gridcolor\":\"white\",\"linecolor\":\"white\",\"minorgridcolor\":\"white\",\"startlinecolor\":\"#2a3f5f\"},\"baxis\":{\"endlinecolor\":\"#2a3f5f\",\"gridcolor\":\"white\",\"linecolor\":\"white\",\"minorgridcolor\":\"white\",\"startlinecolor\":\"#2a3f5f\"},\"type\":\"carpet\"}],\"table\":[{\"cells\":{\"fill\":{\"color\":\"#EBF0F8\"},\"line\":{\"color\":\"white\"}},\"header\":{\"fill\":{\"color\":\"#C8D4E3\"},\"line\":{\"color\":\"white\"}},\"type\":\"table\"}],\"barpolar\":[{\"marker\":{\"line\":{\"color\":\"#E5ECF6\",\"width\":0.5},\"pattern\":{\"fillmode\":\"overlay\",\"size\":10,\"solidity\":0.2}},\"type\":\"barpolar\"}],\"pie\":[{\"automargin\":true,\"type\":\"pie\"}]},\"layout\":{\"autotypenumbers\":\"strict\",\"colorway\":[\"#636efa\",\"#EF553B\",\"#00cc96\",\"#ab63fa\",\"#FFA15A\",\"#19d3f3\",\"#FF6692\",\"#B6E880\",\"#FF97FF\",\"#FECB52\"],\"font\":{\"color\":\"#2a3f5f\"},\"hovermode\":\"closest\",\"hoverlabel\":{\"align\":\"left\"},\"paper_bgcolor\":\"white\",\"plot_bgcolor\":\"#E5ECF6\",\"polar\":{\"bgcolor\":\"#E5ECF6\",\"angularaxis\":{\"gridcolor\":\"white\",\"linecolor\":\"white\",\"ticks\":\"\"},\"radialaxis\":{\"gridcolor\":\"white\",\"linecolor\":\"white\",\"ticks\":\"\"}},\"ternary\":{\"bgcolor\":\"#E5ECF6\",\"aaxis\":{\"gridcolor\":\"white\",\"linecolor\":\"white\",\"ticks\":\"\"},\"baxis\":{\"gridcolor\":\"white\",\"linecolor\":\"white\",\"ticks\":\"\"},\"caxis\":{\"gridcolor\":\"white\",\"linecolor\":\"white\",\"ticks\":\"\"}},\"coloraxis\":{\"colorbar\":{\"outlinewidth\":0,\"ticks\":\"\"}},\"colorscale\":{\"sequential\":[[0.0,\"#0d0887\"],[0.1111111111111111,\"#46039f\"],[0.2222222222222222,\"#7201a8\"],[0.3333333333333333,\"#9c179e\"],[0.4444444444444444,\"#bd3786\"],[0.5555555555555556,\"#d8576b\"],[0.6666666666666666,\"#ed7953\"],[0.7777777777777778,\"#fb9f3a\"],[0.8888888888888888,\"#fdca26\"],[1.0,\"#f0f921\"]],\"sequentialminus\":[[0.0,\"#0d0887\"],[0.1111111111111111,\"#46039f\"],[0.2222222222222222,\"#7201a8\"],[0.3333333333333333,\"#9c179e\"],[0.4444444444444444,\"#bd3786\"],[0.5555555555555556,\"#d8576b\"],[0.6666666666666666,\"#ed7953\"],[0.7777777777777778,\"#fb9f3a\"],[0.8888888888888888,\"#fdca26\"],[1.0,\"#f0f921\"]],\"diverging\":[[0,\"#8e0152\"],[0.1,\"#c51b7d\"],[0.2,\"#de77ae\"],[0.3,\"#f1b6da\"],[0.4,\"#fde0ef\"],[0.5,\"#f7f7f7\"],[0.6,\"#e6f5d0\"],[0.7,\"#b8e186\"],[0.8,\"#7fbc41\"],[0.9,\"#4d9221\"],[1,\"#276419\"]]},\"xaxis\":{\"gridcolor\":\"white\",\"linecolor\":\"white\",\"ticks\":\"\",\"title\":{\"standoff\":15},\"zerolinecolor\":\"white\",\"automargin\":true,\"zerolinewidth\":2},\"yaxis\":{\"gridcolor\":\"white\",\"linecolor\":\"white\",\"ticks\":\"\",\"title\":{\"standoff\":15},\"zerolinecolor\":\"white\",\"automargin\":true,\"zerolinewidth\":2},\"scene\":{\"xaxis\":{\"backgroundcolor\":\"#E5ECF6\",\"gridcolor\":\"white\",\"linecolor\":\"white\",\"showbackground\":true,\"ticks\":\"\",\"zerolinecolor\":\"white\",\"gridwidth\":2},\"yaxis\":{\"backgroundcolor\":\"#E5ECF6\",\"gridcolor\":\"white\",\"linecolor\":\"white\",\"showbackground\":true,\"ticks\":\"\",\"zerolinecolor\":\"white\",\"gridwidth\":2},\"zaxis\":{\"backgroundcolor\":\"#E5ECF6\",\"gridcolor\":\"white\",\"linecolor\":\"white\",\"showbackground\":true,\"ticks\":\"\",\"zerolinecolor\":\"white\",\"gridwidth\":2}},\"shapedefaults\":{\"line\":{\"color\":\"#2a3f5f\"}},\"annotationdefaults\":{\"arrowcolor\":\"#2a3f5f\",\"arrowhead\":0,\"arrowwidth\":1},\"geo\":{\"bgcolor\":\"white\",\"landcolor\":\"#E5ECF6\",\"subunitcolor\":\"white\",\"showland\":true,\"showlakes\":true,\"lakecolor\":\"white\"},\"title\":{\"x\":0.05},\"mapbox\":{\"style\":\"light\"}}},\"xaxis\":{\"anchor\":\"y\",\"domain\":[0.0,1.0],\"title\":{\"text\":\"In-District Expenditures per Pupil\"}},\"yaxis\":{\"anchor\":\"x\",\"domain\":[0.0,1.0],\"title\":{\"text\":\"Passing %\"}},\"legend\":{\"tracegroupgap\":0},\"margin\":{\"t\":60}},                        {\"responsive\": true}                    ).then(function(){\n",
       "                            \n",
       "var gd = document.getElementById('bd44d4b0-6ef5-4c86-add8-4be7692a20da');\n",
       "var x = new MutationObserver(function (mutations, observer) {{\n",
       "        var display = window.getComputedStyle(gd).display;\n",
       "        if (!display || display === 'none') {{\n",
       "            console.log([gd, 'removed!']);\n",
       "            Plotly.purge(gd);\n",
       "            observer.disconnect();\n",
       "        }}\n",
       "}});\n",
       "\n",
       "// Listen for the removal of the full notebook cells\n",
       "var notebookContainer = gd.closest('#notebook-container');\n",
       "if (notebookContainer) {{\n",
       "    x.observe(notebookContainer, {childList: true});\n",
       "}}\n",
       "\n",
       "// Listen for the clearing of the current output cell\n",
       "var outputEl = gd.closest('.output');\n",
       "if (outputEl) {{\n",
       "    x.observe(outputEl, {childList: true});\n",
       "}}\n",
       "\n",
       "                        })                };                });            </script>        </div>"
      ]
     },
     "metadata": {},
     "output_type": "display_data"
    }
   ],
   "source": [
    "#Analyze the data on town income and school spending\n",
    "import plotly\n",
    "import plotly.express as px\n",
    "p1=px.scatter(df,x=\"DOR Income Per Capita\",y=\"Passing %\",log_x=True,hover_data=\n",
    "              {\"district_name\",\"Passing %\"},trendline=\"ols\",trendline_options=dict(log_x=True))\n",
    "p1.update_xaxes(range=[4,5.60206],dtick=\"D1\",title=\"city/town income per capita (dollars/year)\")\n",
    "p1.show()\n",
    "p2=px.scatter(df,x=\"In-District Expenditures per Pupil\",y=\"Passing %\",hover_data=\n",
    "              {\"district_name\",\"Passing %\"},trendline=\"ols\")\n",
    "p2.show()"
   ]
  },
  {
   "cell_type": "markdown",
   "id": "1db48e6a",
   "metadata": {},
   "source": [
    "There is a modest correlation (R<sup>2</sup>=0.62) between per capita income and MCAS scores, but no correlation between district educational spending and MCAS performance. This suggests something other than school spending causes the higher score districts to outperform others."
   ]
  },
  {
   "cell_type": "code",
   "execution_count": 63,
   "id": "3f27af8e",
   "metadata": {},
   "outputs": [
    {
     "name": "stdout",
     "output_type": "stream",
     "text": [
      "                               x          y  correlation\n",
      "12  Economically Disadvantaged %  Passing %     0.736020\n",
      "14         DOR Income Per Capita  Passing %     0.415541\n",
      "1                           dem2  Passing %     0.326032\n",
      "10    English Language Learner %  Passing %     0.207176\n",
      "11  Students With Disabilities %  Passing %     0.206712\n",
      "7                           dem8  Passing %     0.168617\n",
      "5                           dem6  Passing %     0.138964\n",
      "9   First Language Not English %  Passing %     0.124293\n"
     ]
    }
   ],
   "source": [
    "#Finding the strongest correlations\n",
    "import numpy\n",
    "import sklearn\n",
    "from sklearn.linear_model import LinearRegression as LinReg\n",
    "dfreg=df.copy()\n",
    "X=dfreg[[\"dem1\",\"dem2\",\"dem3\",\"dem4\",\"dem5\",\"dem6\",\"dem7\",\"dem8\",\"dem9\",\"First Language Not English %\",\n",
    "       \"English Language Learner %\",\"Students With Disabilities %\",\"Economically Disadvantaged %\",\n",
    "       \"In-District Expenditures per Pupil\",\"DOR Income Per Capita\",\"EQV Per Capita\"]].copy()\n",
    "Y=dfreg[[\"Passing %\"]].copy()\n",
    "\n",
    "xnames=[]\n",
    "ynames=[]\n",
    "Rsq=[]\n",
    "for x in X.columns:\n",
    "    for y in Y.columns:\n",
    "        xnames.append(x)\n",
    "        xdata=numpy.array(X[x]).reshape((-1,1))\n",
    "        ynames.append(y)\n",
    "        ydata=Y[y]\n",
    "        Lregression=LinReg().fit(xdata,ydata)\n",
    "        Rsq.append(Lregression.score(xdata,ydata))\n",
    "correlation_df=pandas.DataFrame(dict([(\"x\",xnames),(\"y\",ynames),(\"correlation\",Rsq)])).sort_values(by=\"correlation\",ascending=False)\n",
    "print(correlation_df.head(8))"
   ]
  },
  {
   "cell_type": "code",
   "execution_count": 64,
   "id": "1a34f0b4",
   "metadata": {},
   "outputs": [
    {
     "data": {
      "application/vnd.plotly.v1+json": {
       "config": {
        "plotlyServerURL": "https://plot.ly"
       },
       "data": [
        {
         "customdata": [
          [
           "Abington"
          ],
          [
           "Acushnet"
          ],
          [
           "Agawam"
          ],
          [
           "Amesbury"
          ],
          [
           "Amherst"
          ],
          [
           "Andover"
          ],
          [
           "Arlington"
          ],
          [
           "Ashland"
          ],
          [
           "Attleboro"
          ],
          [
           "Auburn"
          ],
          [
           "Avon"
          ],
          [
           "Barnstable"
          ],
          [
           "Bedford"
          ],
          [
           "Belchertown"
          ],
          [
           "Bellingham"
          ],
          [
           "Belmont"
          ],
          [
           "Berkley"
          ],
          [
           "Beverly"
          ],
          [
           "Billerica"
          ],
          [
           "Boston"
          ],
          [
           "Bourne"
          ],
          [
           "Boxford"
          ],
          [
           "Braintree"
          ],
          [
           "Brewster"
          ],
          [
           "Brimfield"
          ],
          [
           "Brockton"
          ],
          [
           "Brookfield"
          ],
          [
           "Brookline"
          ],
          [
           "Burlington"
          ],
          [
           "Cambridge"
          ],
          [
           "Canton"
          ],
          [
           "Carlisle"
          ],
          [
           "Carver"
          ],
          [
           "Chelmsford"
          ],
          [
           "Chelsea"
          ],
          [
           "Chicopee"
          ],
          [
           "Clarksburg"
          ],
          [
           "Clinton"
          ],
          [
           "Cohasset"
          ],
          [
           "Concord"
          ],
          [
           "Conway"
          ],
          [
           "Danvers"
          ],
          [
           "Dartmouth"
          ],
          [
           "Dedham"
          ],
          [
           "Deerfield"
          ],
          [
           "Douglas"
          ],
          [
           "Dover"
          ],
          [
           "Dracut"
          ],
          [
           "Duxbury"
          ],
          [
           "East Bridgewater"
          ],
          [
           "Eastham"
          ],
          [
           "Easthampton"
          ],
          [
           "East Longmeadow"
          ],
          [
           "Easton"
          ],
          [
           "Edgartown"
          ],
          [
           "Erving"
          ],
          [
           "Everett"
          ],
          [
           "Fairhaven"
          ],
          [
           "Fall River"
          ],
          [
           "Falmouth"
          ],
          [
           "Fitchburg"
          ],
          [
           "Florida"
          ],
          [
           "Foxborough"
          ],
          [
           "Framingham"
          ],
          [
           "Franklin"
          ],
          [
           "Gardner"
          ],
          [
           "Georgetown"
          ],
          [
           "Gloucester"
          ],
          [
           "Grafton"
          ],
          [
           "Granby"
          ],
          [
           "Greenfield"
          ],
          [
           "Hadley"
          ],
          [
           "Halifax"
          ],
          [
           "Hanover"
          ],
          [
           "Harvard"
          ],
          [
           "Hatfield"
          ],
          [
           "Haverhill"
          ],
          [
           "Hingham"
          ],
          [
           "Holbrook"
          ],
          [
           "Holland"
          ],
          [
           "Holliston"
          ],
          [
           "Holyoke"
          ],
          [
           "Hopedale"
          ],
          [
           "Hopkinton"
          ],
          [
           "Hudson"
          ],
          [
           "Hull"
          ],
          [
           "Ipswich"
          ],
          [
           "Kingston"
          ],
          [
           "Lawrence"
          ],
          [
           "Lee"
          ],
          [
           "Leicester"
          ],
          [
           "Lenox"
          ],
          [
           "Leominster"
          ],
          [
           "Leverett"
          ],
          [
           "Lexington"
          ],
          [
           "Lincoln"
          ],
          [
           "Littleton"
          ],
          [
           "Longmeadow"
          ],
          [
           "Lowell"
          ],
          [
           "Ludlow"
          ],
          [
           "Lunenburg"
          ],
          [
           "Lynn"
          ],
          [
           "Lynnfield"
          ],
          [
           "Malden"
          ],
          [
           "Mansfield"
          ],
          [
           "Marblehead"
          ],
          [
           "Marion"
          ],
          [
           "Marlborough"
          ],
          [
           "Marshfield"
          ],
          [
           "Mashpee"
          ],
          [
           "Mattapoisett"
          ],
          [
           "Maynard"
          ],
          [
           "Medfield"
          ],
          [
           "Medford"
          ],
          [
           "Medway"
          ],
          [
           "Melrose"
          ],
          [
           "Methuen"
          ],
          [
           "Middleborough"
          ],
          [
           "Middleton"
          ],
          [
           "Milford"
          ],
          [
           "Millbury"
          ],
          [
           "Millis"
          ],
          [
           "Milton"
          ],
          [
           "Monson"
          ],
          [
           "Nahant"
          ],
          [
           "Nantucket"
          ],
          [
           "Natick"
          ],
          [
           "Needham"
          ],
          [
           "New Bedford"
          ],
          [
           "Newburyport"
          ],
          [
           "Newton"
          ],
          [
           "Norfolk"
          ],
          [
           "North Adams"
          ],
          [
           "Northampton"
          ],
          [
           "North Andover"
          ],
          [
           "North Attleborough"
          ],
          [
           "Northborough"
          ],
          [
           "Northbridge"
          ],
          [
           "North Brookfield"
          ],
          [
           "North Reading"
          ],
          [
           "Norton"
          ],
          [
           "Norwell"
          ],
          [
           "Norwood"
          ],
          [
           "Oak Bluffs"
          ],
          [
           "Orange"
          ],
          [
           "Orleans"
          ],
          [
           "Oxford"
          ],
          [
           "Palmer"
          ],
          [
           "Peabody"
          ],
          [
           "Pelham"
          ],
          [
           "Pembroke"
          ],
          [
           "Petersham"
          ],
          [
           "Pittsfield"
          ],
          [
           "Plainville"
          ],
          [
           "Plymouth"
          ],
          [
           "Plympton"
          ],
          [
           "Provincetown"
          ],
          [
           "Quincy"
          ],
          [
           "Randolph"
          ],
          [
           "Reading"
          ],
          [
           "Revere"
          ],
          [
           "Richmond"
          ],
          [
           "Rochester"
          ],
          [
           "Rockland"
          ],
          [
           "Rockport"
          ],
          [
           "Rowe"
          ],
          [
           "Salem"
          ],
          [
           "Sandwich"
          ],
          [
           "Saugus"
          ],
          [
           "Scituate"
          ],
          [
           "Seekonk"
          ],
          [
           "Sharon"
          ],
          [
           "Sherborn"
          ],
          [
           "Shrewsbury"
          ],
          [
           "Shutesbury"
          ],
          [
           "Somerset"
          ],
          [
           "Somerville"
          ],
          [
           "Southampton"
          ],
          [
           "Southborough"
          ],
          [
           "Southbridge"
          ],
          [
           "South Hadley"
          ],
          [
           "Springfield"
          ],
          [
           "Stoneham"
          ],
          [
           "Stoughton"
          ],
          [
           "Sturbridge"
          ],
          [
           "Sudbury"
          ],
          [
           "Sunderland"
          ],
          [
           "Sutton"
          ],
          [
           "Swampscott"
          ],
          [
           "Swansea"
          ],
          [
           "Taunton"
          ],
          [
           "Tewksbury"
          ],
          [
           "Tisbury"
          ],
          [
           "Topsfield"
          ],
          [
           "Truro"
          ],
          [
           "Tyngsborough"
          ],
          [
           "Uxbridge"
          ],
          [
           "Wakefield"
          ],
          [
           "Wales"
          ],
          [
           "Walpole"
          ],
          [
           "Waltham"
          ],
          [
           "Ware"
          ],
          [
           "Wareham"
          ],
          [
           "Watertown"
          ],
          [
           "Wayland"
          ],
          [
           "Webster"
          ],
          [
           "Wellesley"
          ],
          [
           "Wellfleet"
          ],
          [
           "Westborough"
          ],
          [
           "West Boylston"
          ],
          [
           "West Bridgewater"
          ],
          [
           "Westfield"
          ],
          [
           "Westford"
          ],
          [
           "Westhampton"
          ],
          [
           "Weston"
          ],
          [
           "Westport"
          ],
          [
           "West Springfield"
          ],
          [
           "Westwood"
          ],
          [
           "Weymouth"
          ],
          [
           "Whately"
          ],
          [
           "Williamsburg"
          ],
          [
           "Wilmington"
          ],
          [
           "Winchendon"
          ],
          [
           "Winchester"
          ],
          [
           "Winthrop"
          ],
          [
           "Woburn"
          ],
          [
           "Worcester"
          ],
          [
           "Wrentham"
          ]
         ],
         "hovertemplate": "Economically Disadvantaged %=%{x}<br>Passing %=%{y}<br>district_name=%{customdata[0]}<extra></extra>",
         "legendgroup": "",
         "marker": {
          "color": "#636efa",
          "symbol": "circle"
         },
         "mode": "markers",
         "name": "",
         "orientation": "v",
         "showlegend": false,
         "type": "scatter",
         "x": [
          21.7999992371,
          24.8999996185,
          29,
          23,
          31.7000007629,
          7.5,
          7.5,
          13,
          30.2999992371,
          18.3999996185,
          29.5,
          31.8999996185,
          8.6999998093,
          18,
          19,
          7.0999999046,
          17.2000007629,
          25.3999996185,
          15.6000003815,
          56.5,
          26.3999996185,
          4,
          17.8999996185,
          22.6000003815,
          20.5,
          54,
          30.3999996185,
          9.3000001907,
          11.3999996185,
          28.6000003815,
          13.1000003815,
          3.2000000477,
          21.8999996185,
          12.1999998093,
          62.5,
          52.2000007629,
          30.7999992371,
          36.0999984741,
          5.1999998093,
          6.6999998093,
          24.3999996185,
          15.8999996185,
          22.1000003815,
          23,
          19.3999996185,
          15.3999996185,
          2,
          21.8999996185,
          5.1999998093,
          18.1000003815,
          26.8999996185,
          28.8999996185,
          19.2999992371,
          12.8999996185,
          28.8999996185,
          25.7999992371,
          48.0999984741,
          28.1000003815,
          67.0999984741,
          28.3999996185,
          60.9000015259,
          27.6000003815,
          15.3999996185,
          33,
          9.6999998093,
          53.0999984741,
          8.8000001907,
          35.2999992371,
          11.8000001907,
          25,
          49.4000015259,
          17.3999996185,
          16.3999996185,
          8.3999996185,
          4.6999998093,
          14,
          45.5,
          4.6999998093,
          31.5,
          31.8999996185,
          6.6999998093,
          77.8000030518,
          10.8999996185,
          4.5,
          20.7999992371,
          30.3999996185,
          13.6999998093,
          16.8999996185,
          63.2999992371,
          33.9000015259,
          25.7000007629,
          16,
          38.5999984741,
          23,
          5.4000000954,
          5.5999999046,
          6.9000000954,
          7,
          53.7999992371,
          27.3999996185,
          16.7000007629,
          56.7000007629,
          7.1999998093,
          43.5,
          13.3999996185,
          9.3999996185,
          18.7999992371,
          34.9000015259,
          11.8000001907,
          29.7999992371,
          16.1000003815,
          17.7000007629,
          5,
          28.8999996185,
          10.1000003815,
          10.5,
          34.5,
          29,
          7.5999999046,
          33.2000007629,
          26.3999996185,
          11.8000001907,
          8.8999996185,
          26.8999996185,
          17.2000007629,
          21.7000007629,
          9.1000003815,
          5.3000001907,
          66.0999984741,
          8.1999998093,
          8.6999998093,
          5.0999999046,
          57.4000015259,
          26.5,
          14.6000003815,
          16.6000003815,
          10.8000001907,
          29.3999996185,
          31.8999996185,
          7.8000001907,
          19.1000003815,
          3.7999999523,
          23.5,
          23.3999996185,
          55.4000015259,
          27.5,
          32.5,
          39.2000007629,
          30.2999992371,
          19.2999992371,
          12.3999996185,
          23.5,
          51.2000007629,
          19.7999992371,
          23.2000007629,
          13.6000003815,
          31.2000007629,
          34.5,
          44.5999984741,
          8.3000001907,
          47.0999984741,
          20.1000003815,
          14.1000003815,
          32.5,
          19.3999996185,
          37.9000015259,
          48.2000007629,
          15.8999996185,
          29.7000007629,
          10.3999996185,
          13.8000001907,
          7.9000000954,
          4.8000001907,
          10.5,
          39.0999984741,
          22,
          39.2000007629,
          12.8000001907,
          5.5,
          69.6999969482,
          24.8999996185,
          76.6999969482,
          16.1000003815,
          28.5,
          15.6000003815,
          5.1999998093,
          31.5,
          10.3999996185,
          14.8999996185,
          19.2999992371,
          43.4000015259,
          15.1000003815,
          27.6000003815,
          3.5999999046,
          34.9000015259,
          11.8000001907,
          18.8999996185,
          12.1999998093,
          34.7000007629,
          9.6999998093,
          33.7000007629,
          51.0999984741,
          50.7999992371,
          24.8999996185,
          5.6999998093,
          52.9000015259,
          5.5999999046,
          28.6000003815,
          8.1999998093,
          20.2000007629,
          15.6000003815,
          37.7000007629,
          5.1999998093,
          14,
          5.1999998093,
          24.1000003815,
          44.5,
          4.8000001907,
          28.6000003815,
          25.8999996185,
          25.8999996185,
          9.1999998093,
          40.9000015259,
          5,
          24.2999992371,
          25.1000003815,
          57.9000015259,
          9.8999996185
         ],
         "xaxis": "x",
         "y": [
          50,
          52.666666666666664,
          50,
          55.333333333333336,
          47.333333333333336,
          70.66666666666667,
          69.66666666666667,
          63.666666666666664,
          50.666666666666664,
          59,
          50,
          44.666666666666664,
          70.66666666666667,
          40.666666666666664,
          44.333333333333336,
          81.33333333333333,
          56,
          53,
          50.666666666666664,
          30.666666666666668,
          45,
          67.66666666666667,
          63.666666666666664,
          60.333333333333336,
          70.33333333333333,
          24,
          56,
          72.66666666666667,
          58,
          54,
          61.333333333333336,
          80,
          46,
          65.33333333333333,
          26.666666666666668,
          42,
          38.666666666666664,
          33,
          64.66666666666667,
          73.33333333333333,
          64,
          47.333333333333336,
          54.666666666666664,
          50.333333333333336,
          61.666666666666664,
          53.666666666666664,
          85,
          48.333333333333336,
          66,
          51,
          53.666666666666664,
          42.666666666666664,
          57.333333333333336,
          65,
          59.666666666666664,
          31.333333333333332,
          34.333333333333336,
          52,
          30.666666666666668,
          59,
          31,
          44,
          58,
          37,
          65.33333333333333,
          27,
          59.666666666666664,
          45,
          65.66666666666667,
          46.333333333333336,
          31,
          52,
          53.666666666666664,
          64,
          76.66666666666667,
          58.333333333333336,
          35.666666666666664,
          78.33333333333333,
          45,
          51.666666666666664,
          62.333333333333336,
          14.666666666666666,
          64.66666666666667,
          76.66666666666667,
          47.333333333333336,
          53.333333333333336,
          65.33333333333333,
          58,
          28.333333333333332,
          45,
          41,
          65.33333333333333,
          46.333333333333336,
          63.666666666666664,
          79.66666666666667,
          58.333333333333336,
          64.66666666666667,
          68.33333333333333,
          33.333333333333336,
          41,
          53.333333333333336,
          38.666666666666664,
          75.66666666666667,
          44,
          57.333333333333336,
          63,
          60,
          38,
          68.66666666666667,
          49,
          75.66666666666667,
          51.333333333333336,
          71.66666666666667,
          43.333333333333336,
          61.333333333333336,
          66.33333333333333,
          38.666666666666664,
          48.333333333333336,
          68.33333333333333,
          47.333333333333336,
          43.666666666666664,
          59,
          68.33333333333333,
          48,
          47.666666666666664,
          41,
          65,
          73,
          30.666666666666668,
          56.666666666666664,
          70.66666666666667,
          68.33333333333333,
          28.666666666666668,
          49,
          58.666666666666664,
          59.333333333333336,
          66.66666666666667,
          46.333333333333336,
          31.333333333333332,
          74.33333333333333,
          48.333333333333336,
          72,
          49.333333333333336,
          59.333333333333336,
          22,
          70.66666666666667,
          40.333333333333336,
          31.333333333333332,
          43.666666666666664,
          71.66666666666667,
          59,
          54.666666666666664,
          31.333333333333332,
          51.333333333333336,
          49,
          68,
          44.333333333333336,
          55,
          34.666666666666664,
          66.33333333333333,
          44.333333333333336,
          62,
          53,
          43,
          53.333333333333336,
          34,
          38,
          56,
          46.333333333333336,
          68.33333333333333,
          59.666666666666664,
          72.66666666666667,
          77,
          68.66666666666667,
          65.33333333333333,
          51.666666666666664,
          43.666666666666664,
          47.333333333333336,
          81,
          14.333333333333334,
          45.333333333333336,
          26,
          60.666666666666664,
          49,
          64.33333333333333,
          73.33333333333333,
          58.333333333333336,
          61.333333333333336,
          58.333333333333336,
          51.666666666666664,
          35.666666666666664,
          56.333333333333336,
          67.66666666666667,
          64.33333333333333,
          41.666666666666664,
          53.333333333333336,
          47.666666666666664,
          52.333333333333336,
          54.333333333333336,
          65.66666666666667,
          47.333333333333336,
          37.333333333333336,
          32.333333333333336,
          49.333333333333336,
          76,
          28,
          75.66666666666667,
          65.66666666666667,
          74.66666666666667,
          62.666666666666664,
          49.666666666666664,
          43,
          77,
          83,
          80.66666666666667,
          54.333333333333336,
          47.666666666666664,
          76.33333333333333,
          43.666666666666664,
          58.333333333333336,
          46.666666666666664,
          59.666666666666664,
          31.333333333333332,
          79.33333333333333,
          52,
          49,
          31.666666666666668,
          65.33333333333333
         ],
         "yaxis": "y"
        },
        {
         "hovertemplate": "<b>OLS trendline</b><br>Passing % = -0.777904 * Economically Disadvantaged % + 72.5427<br>R<sup>2</sup>=0.736020<br><br>Economically Disadvantaged %=%{x}<br>Passing %=%{y} <b>(trend)</b><extra></extra>",
         "legendgroup": "",
         "marker": {
          "color": "#636efa",
          "symbol": "circle"
         },
         "mode": "lines",
         "name": "",
         "showlegend": false,
         "type": "scatter",
         "x": [
          2,
          3.2000000477,
          3.5999999046,
          3.7999999523,
          4,
          4.5,
          4.6999998093,
          4.6999998093,
          4.8000001907,
          4.8000001907,
          5,
          5,
          5.0999999046,
          5.1999998093,
          5.1999998093,
          5.1999998093,
          5.1999998093,
          5.1999998093,
          5.3000001907,
          5.4000000954,
          5.5,
          5.5999999046,
          5.5999999046,
          5.6999998093,
          6.6999998093,
          6.6999998093,
          6.9000000954,
          7,
          7.0999999046,
          7.1999998093,
          7.5,
          7.5,
          7.5999999046,
          7.8000001907,
          7.9000000954,
          8.1999998093,
          8.1999998093,
          8.3000001907,
          8.3999996185,
          8.6999998093,
          8.6999998093,
          8.8000001907,
          8.8999996185,
          9.1000003815,
          9.1999998093,
          9.3000001907,
          9.3999996185,
          9.6999998093,
          9.6999998093,
          9.8999996185,
          10.1000003815,
          10.3999996185,
          10.3999996185,
          10.5,
          10.5,
          10.8000001907,
          10.8999996185,
          11.3999996185,
          11.8000001907,
          11.8000001907,
          11.8000001907,
          11.8000001907,
          12.1999998093,
          12.1999998093,
          12.3999996185,
          12.8000001907,
          12.8999996185,
          13,
          13.1000003815,
          13.3999996185,
          13.6000003815,
          13.6999998093,
          13.8000001907,
          14,
          14,
          14.1000003815,
          14.6000003815,
          14.8999996185,
          15.1000003815,
          15.3999996185,
          15.3999996185,
          15.6000003815,
          15.6000003815,
          15.6000003815,
          15.8999996185,
          15.8999996185,
          16,
          16.1000003815,
          16.1000003815,
          16.3999996185,
          16.6000003815,
          16.7000007629,
          16.8999996185,
          17.2000007629,
          17.2000007629,
          17.3999996185,
          17.7000007629,
          17.8999996185,
          18,
          18.1000003815,
          18.3999996185,
          18.7999992371,
          18.8999996185,
          19,
          19.1000003815,
          19.2999992371,
          19.2999992371,
          19.2999992371,
          19.3999996185,
          19.3999996185,
          19.7999992371,
          20.1000003815,
          20.2000007629,
          20.5,
          20.7999992371,
          21.7000007629,
          21.7999992371,
          21.8999996185,
          21.8999996185,
          22,
          22.1000003815,
          22.6000003815,
          23,
          23,
          23,
          23.2000007629,
          23.3999996185,
          23.5,
          23.5,
          24.1000003815,
          24.2999992371,
          24.3999996185,
          24.8999996185,
          24.8999996185,
          24.8999996185,
          25,
          25.1000003815,
          25.3999996185,
          25.7000007629,
          25.7999992371,
          25.8999996185,
          25.8999996185,
          26.3999996185,
          26.3999996185,
          26.5,
          26.8999996185,
          26.8999996185,
          27.3999996185,
          27.5,
          27.6000003815,
          27.6000003815,
          28.1000003815,
          28.3999996185,
          28.5,
          28.6000003815,
          28.6000003815,
          28.6000003815,
          28.8999996185,
          28.8999996185,
          28.8999996185,
          29,
          29,
          29.3999996185,
          29.5,
          29.7000007629,
          29.7999992371,
          30.2999992371,
          30.2999992371,
          30.3999996185,
          30.3999996185,
          30.7999992371,
          31.2000007629,
          31.5,
          31.5,
          31.7000007629,
          31.8999996185,
          31.8999996185,
          31.8999996185,
          32.5,
          32.5,
          33,
          33.2000007629,
          33.7000007629,
          33.9000015259,
          34.5,
          34.5,
          34.7000007629,
          34.9000015259,
          34.9000015259,
          35.2999992371,
          36.0999984741,
          37.7000007629,
          37.9000015259,
          38.5999984741,
          39.0999984741,
          39.2000007629,
          39.2000007629,
          40.9000015259,
          43.4000015259,
          43.5,
          44.5,
          44.5999984741,
          45.5,
          47.0999984741,
          48.0999984741,
          48.2000007629,
          49.4000015259,
          50.7999992371,
          51.0999984741,
          51.2000007629,
          52.2000007629,
          52.9000015259,
          53.0999984741,
          53.7999992371,
          54,
          55.4000015259,
          56.5,
          56.7000007629,
          57.4000015259,
          57.9000015259,
          60.9000015259,
          62.5,
          63.2999992371,
          66.0999984741,
          67.0999984741,
          69.6999969482,
          76.6999969482,
          77.8000030518
         ],
         "xaxis": "x",
         "y": [
          70.9868544695763,
          70.05336945617906,
          69.7422079087334,
          69.58662704224551,
          69.43104617575761,
          69.04209410230294,
          68.8865134212674,
          68.8865134212674,
          68.80872270988382,
          68.80872270988382,
          68.65314202884826,
          68.65314202884826,
          68.5753516883694,
          68.49756134781272,
          68.49756134781272,
          68.49756134781272,
          68.49756134781272,
          68.49756134781272,
          68.41977063642915,
          68.34198029587247,
          68.2641899553936,
          68.18639961491472,
          68.18639961491472,
          68.10860927435805,
          67.33070512744871,
          67.33070512744871,
          67.17512407550846,
          67.09733373502958,
          67.01954339455071,
          66.94175305399403,
          66.70838166157492,
          66.70838166157492,
          66.63059132109603,
          66.47501026915579,
          66.39721992859911,
          66.1638489070847,
          66.1638489070847,
          66.08605819570111,
          66.00826822612693,
          65.77489683363002,
          65.77489683363002,
          65.69710612224644,
          65.61931615267227,
          65.46373472974953,
          65.38594476017535,
          65.30815404879178,
          65.2303640792176,
          64.99699268672067,
          64.99699268672067,
          64.84141200576292,
          64.68583058284018,
          64.45245993230824,
          64.45245993230824,
          64.37466922084688,
          64.37466922084688,
          64.14129782842775,
          64.06350785885357,
          63.67455578539891,
          63.36339368151842,
          63.36339368151842,
          63.36339368151842,
          63.36339368151842,
          63.05223231944732,
          63.05223231944732,
          62.89665163848956,
          62.58548953460907,
          62.50769956503489,
          62.42990885357352,
          62.35211814211216,
          62.118747491580216,
          61.963166068657486,
          61.8853760990833,
          61.80758538769973,
          61.65200470666418,
          61.65200470666418,
          61.57421399520281,
          61.18526192174814,
          60.951891271216205,
          60.796309848293475,
          60.56293919776153,
          60.56293919776153,
          60.4073577748388,
          60.4073577748388,
          60.4073577748388,
          60.17398712430686,
          60.17398712430686,
          60.096196412845494,
          60.018405701384125,
          60.018405701384125,
          59.78503505085219,
          59.62945362792946,
          59.55166291654588,
          59.39608297739751,
          59.162710843091205,
          59.162710843091205,
          59.007130903942844,
          58.77375876963654,
          58.618178830488176,
          58.54038811902681,
          58.46259740756544,
          58.2292267570335,
          57.918065394962404,
          57.840274683578826,
          57.762483972117465,
          57.6846932606561,
          57.52911332150774,
          57.52911332150774,
          57.52911332150774,
          57.45132261012416,
          57.45132261012416,
          57.14016124805306,
          56.906789113746754,
          56.828998402363176,
          56.59562775175345,
          56.36225710114372,
          55.66214218199916,
          55.584352954234376,
          55.506562242850805,
          55.506562242850805,
          55.42877153138943,
          55.35098081992807,
          54.96202874647339,
          54.650867384480094,
          54.650867384480094,
          54.650867384480094,
          54.49528596163515,
          54.33970602248678,
          54.26191531102542,
          54.26191531102542,
          53.79517252610938,
          53.639592586961015,
          53.561801875577444,
          53.17284980212277,
          53.17284980212277,
          53.17284980212277,
          53.09505909066141,
          53.01726837920004,
          52.783897728668094,
          52.55052559436179,
          52.472736366597005,
          52.39494565521343,
          52.39494565521343,
          52.00599358175876,
          52.00599358175876,
          51.92820287029739,
          51.617041508304084,
          51.617041508304084,
          51.22808943484941,
          51.15029872338805,
          51.07250801192668,
          51.07250801192668,
          50.68355593847201,
          50.45018528794007,
          50.3723945764787,
          50.294603865017336,
          50.294603865017336,
          50.294603865017336,
          50.0612332144854,
          50.0612332144854,
          50.0612332144854,
          49.98344250302403,
          49.98344250302403,
          49.67228114103072,
          49.59449042956936,
          49.438909006724415,
          49.36111977895963,
          48.97216770550496,
          48.97216770550496,
          48.89437699412138,
          48.89437699412138,
          48.58321563205028,
          48.272052786360405,
          48.038682135750676,
          48.038682135750676,
          47.88310071290573,
          47.72752077375736,
          47.72752077375736,
          47.72752077375736,
          47.260777988841326,
          47.260777988841326,
          46.87182591538666,
          46.71624449254172,
          46.327292419087044,
          46.17171099616431,
          45.70496969502264,
          45.70496969502264,
          45.54938827217771,
          45.393806849254965,
          45.393806849254965,
          45.08264697095824,
          44.46032424697164,
          43.21567583144967,
          43.060094408526936,
          42.51556387969828,
          42.1266118062436,
          42.04881961108566,
          42.04881961108566,
          40.72638196779891,
          38.78162160052555,
          38.703832372838555,
          37.92592822592921,
          37.84813899824221,
          37.14802407901987,
          35.90337863096886,
          35.12547448405952,
          35.04768228890157,
          34.11419671906949,
          33.02513269386342,
          32.79176204333148,
          32.71396984817354,
          31.936065701264198,
          31.391532204886786,
          31.235953749512795,
          30.69142025313539,
          30.53583883029045,
          29.446771837613426,
          28.59107846301709,
          28.43549704017215,
          27.89096354379474,
          27.502011470340072,
          25.168299029612044,
          23.923653581561034,
          23.30133085749663,
          21.12319983969133,
          20.34529569278199,
          18.322746097821636,
          12.877417069456236,
          12.0217177598402
         ],
         "yaxis": "y"
        }
       ],
       "layout": {
        "legend": {
         "tracegroupgap": 0
        },
        "margin": {
         "t": 60
        },
        "template": {
         "data": {
          "bar": [
           {
            "error_x": {
             "color": "#2a3f5f"
            },
            "error_y": {
             "color": "#2a3f5f"
            },
            "marker": {
             "line": {
              "color": "#E5ECF6",
              "width": 0.5
             },
             "pattern": {
              "fillmode": "overlay",
              "size": 10,
              "solidity": 0.2
             }
            },
            "type": "bar"
           }
          ],
          "barpolar": [
           {
            "marker": {
             "line": {
              "color": "#E5ECF6",
              "width": 0.5
             },
             "pattern": {
              "fillmode": "overlay",
              "size": 10,
              "solidity": 0.2
             }
            },
            "type": "barpolar"
           }
          ],
          "carpet": [
           {
            "aaxis": {
             "endlinecolor": "#2a3f5f",
             "gridcolor": "white",
             "linecolor": "white",
             "minorgridcolor": "white",
             "startlinecolor": "#2a3f5f"
            },
            "baxis": {
             "endlinecolor": "#2a3f5f",
             "gridcolor": "white",
             "linecolor": "white",
             "minorgridcolor": "white",
             "startlinecolor": "#2a3f5f"
            },
            "type": "carpet"
           }
          ],
          "choropleth": [
           {
            "colorbar": {
             "outlinewidth": 0,
             "ticks": ""
            },
            "type": "choropleth"
           }
          ],
          "contour": [
           {
            "colorbar": {
             "outlinewidth": 0,
             "ticks": ""
            },
            "colorscale": [
             [
              0,
              "#0d0887"
             ],
             [
              0.1111111111111111,
              "#46039f"
             ],
             [
              0.2222222222222222,
              "#7201a8"
             ],
             [
              0.3333333333333333,
              "#9c179e"
             ],
             [
              0.4444444444444444,
              "#bd3786"
             ],
             [
              0.5555555555555556,
              "#d8576b"
             ],
             [
              0.6666666666666666,
              "#ed7953"
             ],
             [
              0.7777777777777778,
              "#fb9f3a"
             ],
             [
              0.8888888888888888,
              "#fdca26"
             ],
             [
              1,
              "#f0f921"
             ]
            ],
            "type": "contour"
           }
          ],
          "contourcarpet": [
           {
            "colorbar": {
             "outlinewidth": 0,
             "ticks": ""
            },
            "type": "contourcarpet"
           }
          ],
          "heatmap": [
           {
            "colorbar": {
             "outlinewidth": 0,
             "ticks": ""
            },
            "colorscale": [
             [
              0,
              "#0d0887"
             ],
             [
              0.1111111111111111,
              "#46039f"
             ],
             [
              0.2222222222222222,
              "#7201a8"
             ],
             [
              0.3333333333333333,
              "#9c179e"
             ],
             [
              0.4444444444444444,
              "#bd3786"
             ],
             [
              0.5555555555555556,
              "#d8576b"
             ],
             [
              0.6666666666666666,
              "#ed7953"
             ],
             [
              0.7777777777777778,
              "#fb9f3a"
             ],
             [
              0.8888888888888888,
              "#fdca26"
             ],
             [
              1,
              "#f0f921"
             ]
            ],
            "type": "heatmap"
           }
          ],
          "heatmapgl": [
           {
            "colorbar": {
             "outlinewidth": 0,
             "ticks": ""
            },
            "colorscale": [
             [
              0,
              "#0d0887"
             ],
             [
              0.1111111111111111,
              "#46039f"
             ],
             [
              0.2222222222222222,
              "#7201a8"
             ],
             [
              0.3333333333333333,
              "#9c179e"
             ],
             [
              0.4444444444444444,
              "#bd3786"
             ],
             [
              0.5555555555555556,
              "#d8576b"
             ],
             [
              0.6666666666666666,
              "#ed7953"
             ],
             [
              0.7777777777777778,
              "#fb9f3a"
             ],
             [
              0.8888888888888888,
              "#fdca26"
             ],
             [
              1,
              "#f0f921"
             ]
            ],
            "type": "heatmapgl"
           }
          ],
          "histogram": [
           {
            "marker": {
             "pattern": {
              "fillmode": "overlay",
              "size": 10,
              "solidity": 0.2
             }
            },
            "type": "histogram"
           }
          ],
          "histogram2d": [
           {
            "colorbar": {
             "outlinewidth": 0,
             "ticks": ""
            },
            "colorscale": [
             [
              0,
              "#0d0887"
             ],
             [
              0.1111111111111111,
              "#46039f"
             ],
             [
              0.2222222222222222,
              "#7201a8"
             ],
             [
              0.3333333333333333,
              "#9c179e"
             ],
             [
              0.4444444444444444,
              "#bd3786"
             ],
             [
              0.5555555555555556,
              "#d8576b"
             ],
             [
              0.6666666666666666,
              "#ed7953"
             ],
             [
              0.7777777777777778,
              "#fb9f3a"
             ],
             [
              0.8888888888888888,
              "#fdca26"
             ],
             [
              1,
              "#f0f921"
             ]
            ],
            "type": "histogram2d"
           }
          ],
          "histogram2dcontour": [
           {
            "colorbar": {
             "outlinewidth": 0,
             "ticks": ""
            },
            "colorscale": [
             [
              0,
              "#0d0887"
             ],
             [
              0.1111111111111111,
              "#46039f"
             ],
             [
              0.2222222222222222,
              "#7201a8"
             ],
             [
              0.3333333333333333,
              "#9c179e"
             ],
             [
              0.4444444444444444,
              "#bd3786"
             ],
             [
              0.5555555555555556,
              "#d8576b"
             ],
             [
              0.6666666666666666,
              "#ed7953"
             ],
             [
              0.7777777777777778,
              "#fb9f3a"
             ],
             [
              0.8888888888888888,
              "#fdca26"
             ],
             [
              1,
              "#f0f921"
             ]
            ],
            "type": "histogram2dcontour"
           }
          ],
          "mesh3d": [
           {
            "colorbar": {
             "outlinewidth": 0,
             "ticks": ""
            },
            "type": "mesh3d"
           }
          ],
          "parcoords": [
           {
            "line": {
             "colorbar": {
              "outlinewidth": 0,
              "ticks": ""
             }
            },
            "type": "parcoords"
           }
          ],
          "pie": [
           {
            "automargin": true,
            "type": "pie"
           }
          ],
          "scatter": [
           {
            "fillpattern": {
             "fillmode": "overlay",
             "size": 10,
             "solidity": 0.2
            },
            "type": "scatter"
           }
          ],
          "scatter3d": [
           {
            "line": {
             "colorbar": {
              "outlinewidth": 0,
              "ticks": ""
             }
            },
            "marker": {
             "colorbar": {
              "outlinewidth": 0,
              "ticks": ""
             }
            },
            "type": "scatter3d"
           }
          ],
          "scattercarpet": [
           {
            "marker": {
             "colorbar": {
              "outlinewidth": 0,
              "ticks": ""
             }
            },
            "type": "scattercarpet"
           }
          ],
          "scattergeo": [
           {
            "marker": {
             "colorbar": {
              "outlinewidth": 0,
              "ticks": ""
             }
            },
            "type": "scattergeo"
           }
          ],
          "scattergl": [
           {
            "marker": {
             "colorbar": {
              "outlinewidth": 0,
              "ticks": ""
             }
            },
            "type": "scattergl"
           }
          ],
          "scattermapbox": [
           {
            "marker": {
             "colorbar": {
              "outlinewidth": 0,
              "ticks": ""
             }
            },
            "type": "scattermapbox"
           }
          ],
          "scatterpolar": [
           {
            "marker": {
             "colorbar": {
              "outlinewidth": 0,
              "ticks": ""
             }
            },
            "type": "scatterpolar"
           }
          ],
          "scatterpolargl": [
           {
            "marker": {
             "colorbar": {
              "outlinewidth": 0,
              "ticks": ""
             }
            },
            "type": "scatterpolargl"
           }
          ],
          "scatterternary": [
           {
            "marker": {
             "colorbar": {
              "outlinewidth": 0,
              "ticks": ""
             }
            },
            "type": "scatterternary"
           }
          ],
          "surface": [
           {
            "colorbar": {
             "outlinewidth": 0,
             "ticks": ""
            },
            "colorscale": [
             [
              0,
              "#0d0887"
             ],
             [
              0.1111111111111111,
              "#46039f"
             ],
             [
              0.2222222222222222,
              "#7201a8"
             ],
             [
              0.3333333333333333,
              "#9c179e"
             ],
             [
              0.4444444444444444,
              "#bd3786"
             ],
             [
              0.5555555555555556,
              "#d8576b"
             ],
             [
              0.6666666666666666,
              "#ed7953"
             ],
             [
              0.7777777777777778,
              "#fb9f3a"
             ],
             [
              0.8888888888888888,
              "#fdca26"
             ],
             [
              1,
              "#f0f921"
             ]
            ],
            "type": "surface"
           }
          ],
          "table": [
           {
            "cells": {
             "fill": {
              "color": "#EBF0F8"
             },
             "line": {
              "color": "white"
             }
            },
            "header": {
             "fill": {
              "color": "#C8D4E3"
             },
             "line": {
              "color": "white"
             }
            },
            "type": "table"
           }
          ]
         },
         "layout": {
          "annotationdefaults": {
           "arrowcolor": "#2a3f5f",
           "arrowhead": 0,
           "arrowwidth": 1
          },
          "autotypenumbers": "strict",
          "coloraxis": {
           "colorbar": {
            "outlinewidth": 0,
            "ticks": ""
           }
          },
          "colorscale": {
           "diverging": [
            [
             0,
             "#8e0152"
            ],
            [
             0.1,
             "#c51b7d"
            ],
            [
             0.2,
             "#de77ae"
            ],
            [
             0.3,
             "#f1b6da"
            ],
            [
             0.4,
             "#fde0ef"
            ],
            [
             0.5,
             "#f7f7f7"
            ],
            [
             0.6,
             "#e6f5d0"
            ],
            [
             0.7,
             "#b8e186"
            ],
            [
             0.8,
             "#7fbc41"
            ],
            [
             0.9,
             "#4d9221"
            ],
            [
             1,
             "#276419"
            ]
           ],
           "sequential": [
            [
             0,
             "#0d0887"
            ],
            [
             0.1111111111111111,
             "#46039f"
            ],
            [
             0.2222222222222222,
             "#7201a8"
            ],
            [
             0.3333333333333333,
             "#9c179e"
            ],
            [
             0.4444444444444444,
             "#bd3786"
            ],
            [
             0.5555555555555556,
             "#d8576b"
            ],
            [
             0.6666666666666666,
             "#ed7953"
            ],
            [
             0.7777777777777778,
             "#fb9f3a"
            ],
            [
             0.8888888888888888,
             "#fdca26"
            ],
            [
             1,
             "#f0f921"
            ]
           ],
           "sequentialminus": [
            [
             0,
             "#0d0887"
            ],
            [
             0.1111111111111111,
             "#46039f"
            ],
            [
             0.2222222222222222,
             "#7201a8"
            ],
            [
             0.3333333333333333,
             "#9c179e"
            ],
            [
             0.4444444444444444,
             "#bd3786"
            ],
            [
             0.5555555555555556,
             "#d8576b"
            ],
            [
             0.6666666666666666,
             "#ed7953"
            ],
            [
             0.7777777777777778,
             "#fb9f3a"
            ],
            [
             0.8888888888888888,
             "#fdca26"
            ],
            [
             1,
             "#f0f921"
            ]
           ]
          },
          "colorway": [
           "#636efa",
           "#EF553B",
           "#00cc96",
           "#ab63fa",
           "#FFA15A",
           "#19d3f3",
           "#FF6692",
           "#B6E880",
           "#FF97FF",
           "#FECB52"
          ],
          "font": {
           "color": "#2a3f5f"
          },
          "geo": {
           "bgcolor": "white",
           "lakecolor": "white",
           "landcolor": "#E5ECF6",
           "showlakes": true,
           "showland": true,
           "subunitcolor": "white"
          },
          "hoverlabel": {
           "align": "left"
          },
          "hovermode": "closest",
          "mapbox": {
           "style": "light"
          },
          "paper_bgcolor": "white",
          "plot_bgcolor": "#E5ECF6",
          "polar": {
           "angularaxis": {
            "gridcolor": "white",
            "linecolor": "white",
            "ticks": ""
           },
           "bgcolor": "#E5ECF6",
           "radialaxis": {
            "gridcolor": "white",
            "linecolor": "white",
            "ticks": ""
           }
          },
          "scene": {
           "xaxis": {
            "backgroundcolor": "#E5ECF6",
            "gridcolor": "white",
            "gridwidth": 2,
            "linecolor": "white",
            "showbackground": true,
            "ticks": "",
            "zerolinecolor": "white"
           },
           "yaxis": {
            "backgroundcolor": "#E5ECF6",
            "gridcolor": "white",
            "gridwidth": 2,
            "linecolor": "white",
            "showbackground": true,
            "ticks": "",
            "zerolinecolor": "white"
           },
           "zaxis": {
            "backgroundcolor": "#E5ECF6",
            "gridcolor": "white",
            "gridwidth": 2,
            "linecolor": "white",
            "showbackground": true,
            "ticks": "",
            "zerolinecolor": "white"
           }
          },
          "shapedefaults": {
           "line": {
            "color": "#2a3f5f"
           }
          },
          "ternary": {
           "aaxis": {
            "gridcolor": "white",
            "linecolor": "white",
            "ticks": ""
           },
           "baxis": {
            "gridcolor": "white",
            "linecolor": "white",
            "ticks": ""
           },
           "bgcolor": "#E5ECF6",
           "caxis": {
            "gridcolor": "white",
            "linecolor": "white",
            "ticks": ""
           }
          },
          "title": {
           "x": 0.05
          },
          "xaxis": {
           "automargin": true,
           "gridcolor": "white",
           "linecolor": "white",
           "ticks": "",
           "title": {
            "standoff": 15
           },
           "zerolinecolor": "white",
           "zerolinewidth": 2
          },
          "yaxis": {
           "automargin": true,
           "gridcolor": "white",
           "linecolor": "white",
           "ticks": "",
           "title": {
            "standoff": 15
           },
           "zerolinecolor": "white",
           "zerolinewidth": 2
          }
         }
        },
        "xaxis": {
         "anchor": "y",
         "domain": [
          0,
          1
         ],
         "title": {
          "text": "Economically Disadvantaged %"
         }
        },
        "yaxis": {
         "anchor": "x",
         "domain": [
          0,
          1
         ],
         "title": {
          "text": "Passing %"
         }
        }
       }
      },
      "text/html": [
       "<div>                            <div id=\"c566b28e-0987-4bfd-b40e-ac93e4b15062\" class=\"plotly-graph-div\" style=\"height:525px; width:100%;\"></div>            <script type=\"text/javascript\">                require([\"plotly\"], function(Plotly) {                    window.PLOTLYENV=window.PLOTLYENV || {};                                    if (document.getElementById(\"c566b28e-0987-4bfd-b40e-ac93e4b15062\")) {                    Plotly.newPlot(                        \"c566b28e-0987-4bfd-b40e-ac93e4b15062\",                        [{\"customdata\":[[\"Abington\"],[\"Acushnet\"],[\"Agawam\"],[\"Amesbury\"],[\"Amherst\"],[\"Andover\"],[\"Arlington\"],[\"Ashland\"],[\"Attleboro\"],[\"Auburn\"],[\"Avon\"],[\"Barnstable\"],[\"Bedford\"],[\"Belchertown\"],[\"Bellingham\"],[\"Belmont\"],[\"Berkley\"],[\"Beverly\"],[\"Billerica\"],[\"Boston\"],[\"Bourne\"],[\"Boxford\"],[\"Braintree\"],[\"Brewster\"],[\"Brimfield\"],[\"Brockton\"],[\"Brookfield\"],[\"Brookline\"],[\"Burlington\"],[\"Cambridge\"],[\"Canton\"],[\"Carlisle\"],[\"Carver\"],[\"Chelmsford\"],[\"Chelsea\"],[\"Chicopee\"],[\"Clarksburg\"],[\"Clinton\"],[\"Cohasset\"],[\"Concord\"],[\"Conway\"],[\"Danvers\"],[\"Dartmouth\"],[\"Dedham\"],[\"Deerfield\"],[\"Douglas\"],[\"Dover\"],[\"Dracut\"],[\"Duxbury\"],[\"East Bridgewater\"],[\"Eastham\"],[\"Easthampton\"],[\"East Longmeadow\"],[\"Easton\"],[\"Edgartown\"],[\"Erving\"],[\"Everett\"],[\"Fairhaven\"],[\"Fall River\"],[\"Falmouth\"],[\"Fitchburg\"],[\"Florida\"],[\"Foxborough\"],[\"Framingham\"],[\"Franklin\"],[\"Gardner\"],[\"Georgetown\"],[\"Gloucester\"],[\"Grafton\"],[\"Granby\"],[\"Greenfield\"],[\"Hadley\"],[\"Halifax\"],[\"Hanover\"],[\"Harvard\"],[\"Hatfield\"],[\"Haverhill\"],[\"Hingham\"],[\"Holbrook\"],[\"Holland\"],[\"Holliston\"],[\"Holyoke\"],[\"Hopedale\"],[\"Hopkinton\"],[\"Hudson\"],[\"Hull\"],[\"Ipswich\"],[\"Kingston\"],[\"Lawrence\"],[\"Lee\"],[\"Leicester\"],[\"Lenox\"],[\"Leominster\"],[\"Leverett\"],[\"Lexington\"],[\"Lincoln\"],[\"Littleton\"],[\"Longmeadow\"],[\"Lowell\"],[\"Ludlow\"],[\"Lunenburg\"],[\"Lynn\"],[\"Lynnfield\"],[\"Malden\"],[\"Mansfield\"],[\"Marblehead\"],[\"Marion\"],[\"Marlborough\"],[\"Marshfield\"],[\"Mashpee\"],[\"Mattapoisett\"],[\"Maynard\"],[\"Medfield\"],[\"Medford\"],[\"Medway\"],[\"Melrose\"],[\"Methuen\"],[\"Middleborough\"],[\"Middleton\"],[\"Milford\"],[\"Millbury\"],[\"Millis\"],[\"Milton\"],[\"Monson\"],[\"Nahant\"],[\"Nantucket\"],[\"Natick\"],[\"Needham\"],[\"New Bedford\"],[\"Newburyport\"],[\"Newton\"],[\"Norfolk\"],[\"North Adams\"],[\"Northampton\"],[\"North Andover\"],[\"North Attleborough\"],[\"Northborough\"],[\"Northbridge\"],[\"North Brookfield\"],[\"North Reading\"],[\"Norton\"],[\"Norwell\"],[\"Norwood\"],[\"Oak Bluffs\"],[\"Orange\"],[\"Orleans\"],[\"Oxford\"],[\"Palmer\"],[\"Peabody\"],[\"Pelham\"],[\"Pembroke\"],[\"Petersham\"],[\"Pittsfield\"],[\"Plainville\"],[\"Plymouth\"],[\"Plympton\"],[\"Provincetown\"],[\"Quincy\"],[\"Randolph\"],[\"Reading\"],[\"Revere\"],[\"Richmond\"],[\"Rochester\"],[\"Rockland\"],[\"Rockport\"],[\"Rowe\"],[\"Salem\"],[\"Sandwich\"],[\"Saugus\"],[\"Scituate\"],[\"Seekonk\"],[\"Sharon\"],[\"Sherborn\"],[\"Shrewsbury\"],[\"Shutesbury\"],[\"Somerset\"],[\"Somerville\"],[\"Southampton\"],[\"Southborough\"],[\"Southbridge\"],[\"South Hadley\"],[\"Springfield\"],[\"Stoneham\"],[\"Stoughton\"],[\"Sturbridge\"],[\"Sudbury\"],[\"Sunderland\"],[\"Sutton\"],[\"Swampscott\"],[\"Swansea\"],[\"Taunton\"],[\"Tewksbury\"],[\"Tisbury\"],[\"Topsfield\"],[\"Truro\"],[\"Tyngsborough\"],[\"Uxbridge\"],[\"Wakefield\"],[\"Wales\"],[\"Walpole\"],[\"Waltham\"],[\"Ware\"],[\"Wareham\"],[\"Watertown\"],[\"Wayland\"],[\"Webster\"],[\"Wellesley\"],[\"Wellfleet\"],[\"Westborough\"],[\"West Boylston\"],[\"West Bridgewater\"],[\"Westfield\"],[\"Westford\"],[\"Westhampton\"],[\"Weston\"],[\"Westport\"],[\"West Springfield\"],[\"Westwood\"],[\"Weymouth\"],[\"Whately\"],[\"Williamsburg\"],[\"Wilmington\"],[\"Winchendon\"],[\"Winchester\"],[\"Winthrop\"],[\"Woburn\"],[\"Worcester\"],[\"Wrentham\"]],\"hovertemplate\":\"Economically Disadvantaged %=%{x}<br>Passing %=%{y}<br>district_name=%{customdata[0]}<extra></extra>\",\"legendgroup\":\"\",\"marker\":{\"color\":\"#636efa\",\"symbol\":\"circle\"},\"mode\":\"markers\",\"name\":\"\",\"orientation\":\"v\",\"showlegend\":false,\"x\":[21.7999992371,24.8999996185,29.0,23.0,31.7000007629,7.5,7.5,13.0,30.2999992371,18.3999996185,29.5,31.8999996185,8.6999998093,18.0,19.0,7.0999999046,17.2000007629,25.3999996185,15.6000003815,56.5,26.3999996185,4.0,17.8999996185,22.6000003815,20.5,54.0,30.3999996185,9.3000001907,11.3999996185,28.6000003815,13.1000003815,3.2000000477,21.8999996185,12.1999998093,62.5,52.2000007629,30.7999992371,36.0999984741,5.1999998093,6.6999998093,24.3999996185,15.8999996185,22.1000003815,23.0,19.3999996185,15.3999996185,2.0,21.8999996185,5.1999998093,18.1000003815,26.8999996185,28.8999996185,19.2999992371,12.8999996185,28.8999996185,25.7999992371,48.0999984741,28.1000003815,67.0999984741,28.3999996185,60.9000015259,27.6000003815,15.3999996185,33.0,9.6999998093,53.0999984741,8.8000001907,35.2999992371,11.8000001907,25.0,49.4000015259,17.3999996185,16.3999996185,8.3999996185,4.6999998093,14.0,45.5,4.6999998093,31.5,31.8999996185,6.6999998093,77.8000030518,10.8999996185,4.5,20.7999992371,30.3999996185,13.6999998093,16.8999996185,63.2999992371,33.9000015259,25.7000007629,16.0,38.5999984741,23.0,5.4000000954,5.5999999046,6.9000000954,7.0,53.7999992371,27.3999996185,16.7000007629,56.7000007629,7.1999998093,43.5,13.3999996185,9.3999996185,18.7999992371,34.9000015259,11.8000001907,29.7999992371,16.1000003815,17.7000007629,5.0,28.8999996185,10.1000003815,10.5,34.5,29.0,7.5999999046,33.2000007629,26.3999996185,11.8000001907,8.8999996185,26.8999996185,17.2000007629,21.7000007629,9.1000003815,5.3000001907,66.0999984741,8.1999998093,8.6999998093,5.0999999046,57.4000015259,26.5,14.6000003815,16.6000003815,10.8000001907,29.3999996185,31.8999996185,7.8000001907,19.1000003815,3.7999999523,23.5,23.3999996185,55.4000015259,27.5,32.5,39.2000007629,30.2999992371,19.2999992371,12.3999996185,23.5,51.2000007629,19.7999992371,23.2000007629,13.6000003815,31.2000007629,34.5,44.5999984741,8.3000001907,47.0999984741,20.1000003815,14.1000003815,32.5,19.3999996185,37.9000015259,48.2000007629,15.8999996185,29.7000007629,10.3999996185,13.8000001907,7.9000000954,4.8000001907,10.5,39.0999984741,22.0,39.2000007629,12.8000001907,5.5,69.6999969482,24.8999996185,76.6999969482,16.1000003815,28.5,15.6000003815,5.1999998093,31.5,10.3999996185,14.8999996185,19.2999992371,43.4000015259,15.1000003815,27.6000003815,3.5999999046,34.9000015259,11.8000001907,18.8999996185,12.1999998093,34.7000007629,9.6999998093,33.7000007629,51.0999984741,50.7999992371,24.8999996185,5.6999998093,52.9000015259,5.5999999046,28.6000003815,8.1999998093,20.2000007629,15.6000003815,37.7000007629,5.1999998093,14.0,5.1999998093,24.1000003815,44.5,4.8000001907,28.6000003815,25.8999996185,25.8999996185,9.1999998093,40.9000015259,5.0,24.2999992371,25.1000003815,57.9000015259,9.8999996185],\"xaxis\":\"x\",\"y\":[50.0,52.666666666666664,50.0,55.333333333333336,47.333333333333336,70.66666666666667,69.66666666666667,63.666666666666664,50.666666666666664,59.0,50.0,44.666666666666664,70.66666666666667,40.666666666666664,44.333333333333336,81.33333333333333,56.0,53.0,50.666666666666664,30.666666666666668,45.0,67.66666666666667,63.666666666666664,60.333333333333336,70.33333333333333,24.0,56.0,72.66666666666667,58.0,54.0,61.333333333333336,80.0,46.0,65.33333333333333,26.666666666666668,42.0,38.666666666666664,33.0,64.66666666666667,73.33333333333333,64.0,47.333333333333336,54.666666666666664,50.333333333333336,61.666666666666664,53.666666666666664,85.0,48.333333333333336,66.0,51.0,53.666666666666664,42.666666666666664,57.333333333333336,65.0,59.666666666666664,31.333333333333332,34.333333333333336,52.0,30.666666666666668,59.0,31.0,44.0,58.0,37.0,65.33333333333333,27.0,59.666666666666664,45.0,65.66666666666667,46.333333333333336,31.0,52.0,53.666666666666664,64.0,76.66666666666667,58.333333333333336,35.666666666666664,78.33333333333333,45.0,51.666666666666664,62.333333333333336,14.666666666666666,64.66666666666667,76.66666666666667,47.333333333333336,53.333333333333336,65.33333333333333,58.0,28.333333333333332,45.0,41.0,65.33333333333333,46.333333333333336,63.666666666666664,79.66666666666667,58.333333333333336,64.66666666666667,68.33333333333333,33.333333333333336,41.0,53.333333333333336,38.666666666666664,75.66666666666667,44.0,57.333333333333336,63.0,60.0,38.0,68.66666666666667,49.0,75.66666666666667,51.333333333333336,71.66666666666667,43.333333333333336,61.333333333333336,66.33333333333333,38.666666666666664,48.333333333333336,68.33333333333333,47.333333333333336,43.666666666666664,59.0,68.33333333333333,48.0,47.666666666666664,41.0,65.0,73.0,30.666666666666668,56.666666666666664,70.66666666666667,68.33333333333333,28.666666666666668,49.0,58.666666666666664,59.333333333333336,66.66666666666667,46.333333333333336,31.333333333333332,74.33333333333333,48.333333333333336,72.0,49.333333333333336,59.333333333333336,22.0,70.66666666666667,40.333333333333336,31.333333333333332,43.666666666666664,71.66666666666667,59.0,54.666666666666664,31.333333333333332,51.333333333333336,49.0,68.0,44.333333333333336,55.0,34.666666666666664,66.33333333333333,44.333333333333336,62.0,53.0,43.0,53.333333333333336,34.0,38.0,56.0,46.333333333333336,68.33333333333333,59.666666666666664,72.66666666666667,77.0,68.66666666666667,65.33333333333333,51.666666666666664,43.666666666666664,47.333333333333336,81.0,14.333333333333334,45.333333333333336,26.0,60.666666666666664,49.0,64.33333333333333,73.33333333333333,58.333333333333336,61.333333333333336,58.333333333333336,51.666666666666664,35.666666666666664,56.333333333333336,67.66666666666667,64.33333333333333,41.666666666666664,53.333333333333336,47.666666666666664,52.333333333333336,54.333333333333336,65.66666666666667,47.333333333333336,37.333333333333336,32.333333333333336,49.333333333333336,76.0,28.0,75.66666666666667,65.66666666666667,74.66666666666667,62.666666666666664,49.666666666666664,43.0,77.0,83.0,80.66666666666667,54.333333333333336,47.666666666666664,76.33333333333333,43.666666666666664,58.333333333333336,46.666666666666664,59.666666666666664,31.333333333333332,79.33333333333333,52.0,49.0,31.666666666666668,65.33333333333333],\"yaxis\":\"y\",\"type\":\"scatter\"},{\"hovertemplate\":\"<b>OLS trendline</b><br>Passing % = -0.777904 * Economically Disadvantaged % + 72.5427<br>R<sup>2</sup>=0.736020<br><br>Economically Disadvantaged %=%{x}<br>Passing %=%{y} <b>(trend)</b><extra></extra>\",\"legendgroup\":\"\",\"marker\":{\"color\":\"#636efa\",\"symbol\":\"circle\"},\"mode\":\"lines\",\"name\":\"\",\"showlegend\":false,\"x\":[2.0,3.2000000477,3.5999999046,3.7999999523,4.0,4.5,4.6999998093,4.6999998093,4.8000001907,4.8000001907,5.0,5.0,5.0999999046,5.1999998093,5.1999998093,5.1999998093,5.1999998093,5.1999998093,5.3000001907,5.4000000954,5.5,5.5999999046,5.5999999046,5.6999998093,6.6999998093,6.6999998093,6.9000000954,7.0,7.0999999046,7.1999998093,7.5,7.5,7.5999999046,7.8000001907,7.9000000954,8.1999998093,8.1999998093,8.3000001907,8.3999996185,8.6999998093,8.6999998093,8.8000001907,8.8999996185,9.1000003815,9.1999998093,9.3000001907,9.3999996185,9.6999998093,9.6999998093,9.8999996185,10.1000003815,10.3999996185,10.3999996185,10.5,10.5,10.8000001907,10.8999996185,11.3999996185,11.8000001907,11.8000001907,11.8000001907,11.8000001907,12.1999998093,12.1999998093,12.3999996185,12.8000001907,12.8999996185,13.0,13.1000003815,13.3999996185,13.6000003815,13.6999998093,13.8000001907,14.0,14.0,14.1000003815,14.6000003815,14.8999996185,15.1000003815,15.3999996185,15.3999996185,15.6000003815,15.6000003815,15.6000003815,15.8999996185,15.8999996185,16.0,16.1000003815,16.1000003815,16.3999996185,16.6000003815,16.7000007629,16.8999996185,17.2000007629,17.2000007629,17.3999996185,17.7000007629,17.8999996185,18.0,18.1000003815,18.3999996185,18.7999992371,18.8999996185,19.0,19.1000003815,19.2999992371,19.2999992371,19.2999992371,19.3999996185,19.3999996185,19.7999992371,20.1000003815,20.2000007629,20.5,20.7999992371,21.7000007629,21.7999992371,21.8999996185,21.8999996185,22.0,22.1000003815,22.6000003815,23.0,23.0,23.0,23.2000007629,23.3999996185,23.5,23.5,24.1000003815,24.2999992371,24.3999996185,24.8999996185,24.8999996185,24.8999996185,25.0,25.1000003815,25.3999996185,25.7000007629,25.7999992371,25.8999996185,25.8999996185,26.3999996185,26.3999996185,26.5,26.8999996185,26.8999996185,27.3999996185,27.5,27.6000003815,27.6000003815,28.1000003815,28.3999996185,28.5,28.6000003815,28.6000003815,28.6000003815,28.8999996185,28.8999996185,28.8999996185,29.0,29.0,29.3999996185,29.5,29.7000007629,29.7999992371,30.2999992371,30.2999992371,30.3999996185,30.3999996185,30.7999992371,31.2000007629,31.5,31.5,31.7000007629,31.8999996185,31.8999996185,31.8999996185,32.5,32.5,33.0,33.2000007629,33.7000007629,33.9000015259,34.5,34.5,34.7000007629,34.9000015259,34.9000015259,35.2999992371,36.0999984741,37.7000007629,37.9000015259,38.5999984741,39.0999984741,39.2000007629,39.2000007629,40.9000015259,43.4000015259,43.5,44.5,44.5999984741,45.5,47.0999984741,48.0999984741,48.2000007629,49.4000015259,50.7999992371,51.0999984741,51.2000007629,52.2000007629,52.9000015259,53.0999984741,53.7999992371,54.0,55.4000015259,56.5,56.7000007629,57.4000015259,57.9000015259,60.9000015259,62.5,63.2999992371,66.0999984741,67.0999984741,69.6999969482,76.6999969482,77.8000030518],\"xaxis\":\"x\",\"y\":[70.9868544695763,70.05336945617906,69.7422079087334,69.58662704224551,69.43104617575761,69.04209410230294,68.8865134212674,68.8865134212674,68.80872270988382,68.80872270988382,68.65314202884826,68.65314202884826,68.5753516883694,68.49756134781272,68.49756134781272,68.49756134781272,68.49756134781272,68.49756134781272,68.41977063642915,68.34198029587247,68.2641899553936,68.18639961491472,68.18639961491472,68.10860927435805,67.33070512744871,67.33070512744871,67.17512407550846,67.09733373502958,67.01954339455071,66.94175305399403,66.70838166157492,66.70838166157492,66.63059132109603,66.47501026915579,66.39721992859911,66.1638489070847,66.1638489070847,66.08605819570111,66.00826822612693,65.77489683363002,65.77489683363002,65.69710612224644,65.61931615267227,65.46373472974953,65.38594476017535,65.30815404879178,65.2303640792176,64.99699268672067,64.99699268672067,64.84141200576292,64.68583058284018,64.45245993230824,64.45245993230824,64.37466922084688,64.37466922084688,64.14129782842775,64.06350785885357,63.67455578539891,63.36339368151842,63.36339368151842,63.36339368151842,63.36339368151842,63.05223231944732,63.05223231944732,62.89665163848956,62.58548953460907,62.50769956503489,62.42990885357352,62.35211814211216,62.118747491580216,61.963166068657486,61.8853760990833,61.80758538769973,61.65200470666418,61.65200470666418,61.57421399520281,61.18526192174814,60.951891271216205,60.796309848293475,60.56293919776153,60.56293919776153,60.4073577748388,60.4073577748388,60.4073577748388,60.17398712430686,60.17398712430686,60.096196412845494,60.018405701384125,60.018405701384125,59.78503505085219,59.62945362792946,59.55166291654588,59.39608297739751,59.162710843091205,59.162710843091205,59.007130903942844,58.77375876963654,58.618178830488176,58.54038811902681,58.46259740756544,58.2292267570335,57.918065394962404,57.840274683578826,57.762483972117465,57.6846932606561,57.52911332150774,57.52911332150774,57.52911332150774,57.45132261012416,57.45132261012416,57.14016124805306,56.906789113746754,56.828998402363176,56.59562775175345,56.36225710114372,55.66214218199916,55.584352954234376,55.506562242850805,55.506562242850805,55.42877153138943,55.35098081992807,54.96202874647339,54.650867384480094,54.650867384480094,54.650867384480094,54.49528596163515,54.33970602248678,54.26191531102542,54.26191531102542,53.79517252610938,53.639592586961015,53.561801875577444,53.17284980212277,53.17284980212277,53.17284980212277,53.09505909066141,53.01726837920004,52.783897728668094,52.55052559436179,52.472736366597005,52.39494565521343,52.39494565521343,52.00599358175876,52.00599358175876,51.92820287029739,51.617041508304084,51.617041508304084,51.22808943484941,51.15029872338805,51.07250801192668,51.07250801192668,50.68355593847201,50.45018528794007,50.3723945764787,50.294603865017336,50.294603865017336,50.294603865017336,50.0612332144854,50.0612332144854,50.0612332144854,49.98344250302403,49.98344250302403,49.67228114103072,49.59449042956936,49.438909006724415,49.36111977895963,48.97216770550496,48.97216770550496,48.89437699412138,48.89437699412138,48.58321563205028,48.272052786360405,48.038682135750676,48.038682135750676,47.88310071290573,47.72752077375736,47.72752077375736,47.72752077375736,47.260777988841326,47.260777988841326,46.87182591538666,46.71624449254172,46.327292419087044,46.17171099616431,45.70496969502264,45.70496969502264,45.54938827217771,45.393806849254965,45.393806849254965,45.08264697095824,44.46032424697164,43.21567583144967,43.060094408526936,42.51556387969828,42.1266118062436,42.04881961108566,42.04881961108566,40.72638196779891,38.78162160052555,38.703832372838555,37.92592822592921,37.84813899824221,37.14802407901987,35.90337863096886,35.12547448405952,35.04768228890157,34.11419671906949,33.02513269386342,32.79176204333148,32.71396984817354,31.936065701264198,31.391532204886786,31.235953749512795,30.69142025313539,30.53583883029045,29.446771837613426,28.59107846301709,28.43549704017215,27.89096354379474,27.502011470340072,25.168299029612044,23.923653581561034,23.30133085749663,21.12319983969133,20.34529569278199,18.322746097821636,12.877417069456236,12.0217177598402],\"yaxis\":\"y\",\"type\":\"scatter\"}],                        {\"template\":{\"data\":{\"histogram2dcontour\":[{\"type\":\"histogram2dcontour\",\"colorbar\":{\"outlinewidth\":0,\"ticks\":\"\"},\"colorscale\":[[0.0,\"#0d0887\"],[0.1111111111111111,\"#46039f\"],[0.2222222222222222,\"#7201a8\"],[0.3333333333333333,\"#9c179e\"],[0.4444444444444444,\"#bd3786\"],[0.5555555555555556,\"#d8576b\"],[0.6666666666666666,\"#ed7953\"],[0.7777777777777778,\"#fb9f3a\"],[0.8888888888888888,\"#fdca26\"],[1.0,\"#f0f921\"]]}],\"choropleth\":[{\"type\":\"choropleth\",\"colorbar\":{\"outlinewidth\":0,\"ticks\":\"\"}}],\"histogram2d\":[{\"type\":\"histogram2d\",\"colorbar\":{\"outlinewidth\":0,\"ticks\":\"\"},\"colorscale\":[[0.0,\"#0d0887\"],[0.1111111111111111,\"#46039f\"],[0.2222222222222222,\"#7201a8\"],[0.3333333333333333,\"#9c179e\"],[0.4444444444444444,\"#bd3786\"],[0.5555555555555556,\"#d8576b\"],[0.6666666666666666,\"#ed7953\"],[0.7777777777777778,\"#fb9f3a\"],[0.8888888888888888,\"#fdca26\"],[1.0,\"#f0f921\"]]}],\"heatmap\":[{\"type\":\"heatmap\",\"colorbar\":{\"outlinewidth\":0,\"ticks\":\"\"},\"colorscale\":[[0.0,\"#0d0887\"],[0.1111111111111111,\"#46039f\"],[0.2222222222222222,\"#7201a8\"],[0.3333333333333333,\"#9c179e\"],[0.4444444444444444,\"#bd3786\"],[0.5555555555555556,\"#d8576b\"],[0.6666666666666666,\"#ed7953\"],[0.7777777777777778,\"#fb9f3a\"],[0.8888888888888888,\"#fdca26\"],[1.0,\"#f0f921\"]]}],\"heatmapgl\":[{\"type\":\"heatmapgl\",\"colorbar\":{\"outlinewidth\":0,\"ticks\":\"\"},\"colorscale\":[[0.0,\"#0d0887\"],[0.1111111111111111,\"#46039f\"],[0.2222222222222222,\"#7201a8\"],[0.3333333333333333,\"#9c179e\"],[0.4444444444444444,\"#bd3786\"],[0.5555555555555556,\"#d8576b\"],[0.6666666666666666,\"#ed7953\"],[0.7777777777777778,\"#fb9f3a\"],[0.8888888888888888,\"#fdca26\"],[1.0,\"#f0f921\"]]}],\"contourcarpet\":[{\"type\":\"contourcarpet\",\"colorbar\":{\"outlinewidth\":0,\"ticks\":\"\"}}],\"contour\":[{\"type\":\"contour\",\"colorbar\":{\"outlinewidth\":0,\"ticks\":\"\"},\"colorscale\":[[0.0,\"#0d0887\"],[0.1111111111111111,\"#46039f\"],[0.2222222222222222,\"#7201a8\"],[0.3333333333333333,\"#9c179e\"],[0.4444444444444444,\"#bd3786\"],[0.5555555555555556,\"#d8576b\"],[0.6666666666666666,\"#ed7953\"],[0.7777777777777778,\"#fb9f3a\"],[0.8888888888888888,\"#fdca26\"],[1.0,\"#f0f921\"]]}],\"surface\":[{\"type\":\"surface\",\"colorbar\":{\"outlinewidth\":0,\"ticks\":\"\"},\"colorscale\":[[0.0,\"#0d0887\"],[0.1111111111111111,\"#46039f\"],[0.2222222222222222,\"#7201a8\"],[0.3333333333333333,\"#9c179e\"],[0.4444444444444444,\"#bd3786\"],[0.5555555555555556,\"#d8576b\"],[0.6666666666666666,\"#ed7953\"],[0.7777777777777778,\"#fb9f3a\"],[0.8888888888888888,\"#fdca26\"],[1.0,\"#f0f921\"]]}],\"mesh3d\":[{\"type\":\"mesh3d\",\"colorbar\":{\"outlinewidth\":0,\"ticks\":\"\"}}],\"scatter\":[{\"fillpattern\":{\"fillmode\":\"overlay\",\"size\":10,\"solidity\":0.2},\"type\":\"scatter\"}],\"parcoords\":[{\"type\":\"parcoords\",\"line\":{\"colorbar\":{\"outlinewidth\":0,\"ticks\":\"\"}}}],\"scatterpolargl\":[{\"type\":\"scatterpolargl\",\"marker\":{\"colorbar\":{\"outlinewidth\":0,\"ticks\":\"\"}}}],\"bar\":[{\"error_x\":{\"color\":\"#2a3f5f\"},\"error_y\":{\"color\":\"#2a3f5f\"},\"marker\":{\"line\":{\"color\":\"#E5ECF6\",\"width\":0.5},\"pattern\":{\"fillmode\":\"overlay\",\"size\":10,\"solidity\":0.2}},\"type\":\"bar\"}],\"scattergeo\":[{\"type\":\"scattergeo\",\"marker\":{\"colorbar\":{\"outlinewidth\":0,\"ticks\":\"\"}}}],\"scatterpolar\":[{\"type\":\"scatterpolar\",\"marker\":{\"colorbar\":{\"outlinewidth\":0,\"ticks\":\"\"}}}],\"histogram\":[{\"marker\":{\"pattern\":{\"fillmode\":\"overlay\",\"size\":10,\"solidity\":0.2}},\"type\":\"histogram\"}],\"scattergl\":[{\"type\":\"scattergl\",\"marker\":{\"colorbar\":{\"outlinewidth\":0,\"ticks\":\"\"}}}],\"scatter3d\":[{\"type\":\"scatter3d\",\"line\":{\"colorbar\":{\"outlinewidth\":0,\"ticks\":\"\"}},\"marker\":{\"colorbar\":{\"outlinewidth\":0,\"ticks\":\"\"}}}],\"scattermapbox\":[{\"type\":\"scattermapbox\",\"marker\":{\"colorbar\":{\"outlinewidth\":0,\"ticks\":\"\"}}}],\"scatterternary\":[{\"type\":\"scatterternary\",\"marker\":{\"colorbar\":{\"outlinewidth\":0,\"ticks\":\"\"}}}],\"scattercarpet\":[{\"type\":\"scattercarpet\",\"marker\":{\"colorbar\":{\"outlinewidth\":0,\"ticks\":\"\"}}}],\"carpet\":[{\"aaxis\":{\"endlinecolor\":\"#2a3f5f\",\"gridcolor\":\"white\",\"linecolor\":\"white\",\"minorgridcolor\":\"white\",\"startlinecolor\":\"#2a3f5f\"},\"baxis\":{\"endlinecolor\":\"#2a3f5f\",\"gridcolor\":\"white\",\"linecolor\":\"white\",\"minorgridcolor\":\"white\",\"startlinecolor\":\"#2a3f5f\"},\"type\":\"carpet\"}],\"table\":[{\"cells\":{\"fill\":{\"color\":\"#EBF0F8\"},\"line\":{\"color\":\"white\"}},\"header\":{\"fill\":{\"color\":\"#C8D4E3\"},\"line\":{\"color\":\"white\"}},\"type\":\"table\"}],\"barpolar\":[{\"marker\":{\"line\":{\"color\":\"#E5ECF6\",\"width\":0.5},\"pattern\":{\"fillmode\":\"overlay\",\"size\":10,\"solidity\":0.2}},\"type\":\"barpolar\"}],\"pie\":[{\"automargin\":true,\"type\":\"pie\"}]},\"layout\":{\"autotypenumbers\":\"strict\",\"colorway\":[\"#636efa\",\"#EF553B\",\"#00cc96\",\"#ab63fa\",\"#FFA15A\",\"#19d3f3\",\"#FF6692\",\"#B6E880\",\"#FF97FF\",\"#FECB52\"],\"font\":{\"color\":\"#2a3f5f\"},\"hovermode\":\"closest\",\"hoverlabel\":{\"align\":\"left\"},\"paper_bgcolor\":\"white\",\"plot_bgcolor\":\"#E5ECF6\",\"polar\":{\"bgcolor\":\"#E5ECF6\",\"angularaxis\":{\"gridcolor\":\"white\",\"linecolor\":\"white\",\"ticks\":\"\"},\"radialaxis\":{\"gridcolor\":\"white\",\"linecolor\":\"white\",\"ticks\":\"\"}},\"ternary\":{\"bgcolor\":\"#E5ECF6\",\"aaxis\":{\"gridcolor\":\"white\",\"linecolor\":\"white\",\"ticks\":\"\"},\"baxis\":{\"gridcolor\":\"white\",\"linecolor\":\"white\",\"ticks\":\"\"},\"caxis\":{\"gridcolor\":\"white\",\"linecolor\":\"white\",\"ticks\":\"\"}},\"coloraxis\":{\"colorbar\":{\"outlinewidth\":0,\"ticks\":\"\"}},\"colorscale\":{\"sequential\":[[0.0,\"#0d0887\"],[0.1111111111111111,\"#46039f\"],[0.2222222222222222,\"#7201a8\"],[0.3333333333333333,\"#9c179e\"],[0.4444444444444444,\"#bd3786\"],[0.5555555555555556,\"#d8576b\"],[0.6666666666666666,\"#ed7953\"],[0.7777777777777778,\"#fb9f3a\"],[0.8888888888888888,\"#fdca26\"],[1.0,\"#f0f921\"]],\"sequentialminus\":[[0.0,\"#0d0887\"],[0.1111111111111111,\"#46039f\"],[0.2222222222222222,\"#7201a8\"],[0.3333333333333333,\"#9c179e\"],[0.4444444444444444,\"#bd3786\"],[0.5555555555555556,\"#d8576b\"],[0.6666666666666666,\"#ed7953\"],[0.7777777777777778,\"#fb9f3a\"],[0.8888888888888888,\"#fdca26\"],[1.0,\"#f0f921\"]],\"diverging\":[[0,\"#8e0152\"],[0.1,\"#c51b7d\"],[0.2,\"#de77ae\"],[0.3,\"#f1b6da\"],[0.4,\"#fde0ef\"],[0.5,\"#f7f7f7\"],[0.6,\"#e6f5d0\"],[0.7,\"#b8e186\"],[0.8,\"#7fbc41\"],[0.9,\"#4d9221\"],[1,\"#276419\"]]},\"xaxis\":{\"gridcolor\":\"white\",\"linecolor\":\"white\",\"ticks\":\"\",\"title\":{\"standoff\":15},\"zerolinecolor\":\"white\",\"automargin\":true,\"zerolinewidth\":2},\"yaxis\":{\"gridcolor\":\"white\",\"linecolor\":\"white\",\"ticks\":\"\",\"title\":{\"standoff\":15},\"zerolinecolor\":\"white\",\"automargin\":true,\"zerolinewidth\":2},\"scene\":{\"xaxis\":{\"backgroundcolor\":\"#E5ECF6\",\"gridcolor\":\"white\",\"linecolor\":\"white\",\"showbackground\":true,\"ticks\":\"\",\"zerolinecolor\":\"white\",\"gridwidth\":2},\"yaxis\":{\"backgroundcolor\":\"#E5ECF6\",\"gridcolor\":\"white\",\"linecolor\":\"white\",\"showbackground\":true,\"ticks\":\"\",\"zerolinecolor\":\"white\",\"gridwidth\":2},\"zaxis\":{\"backgroundcolor\":\"#E5ECF6\",\"gridcolor\":\"white\",\"linecolor\":\"white\",\"showbackground\":true,\"ticks\":\"\",\"zerolinecolor\":\"white\",\"gridwidth\":2}},\"shapedefaults\":{\"line\":{\"color\":\"#2a3f5f\"}},\"annotationdefaults\":{\"arrowcolor\":\"#2a3f5f\",\"arrowhead\":0,\"arrowwidth\":1},\"geo\":{\"bgcolor\":\"white\",\"landcolor\":\"#E5ECF6\",\"subunitcolor\":\"white\",\"showland\":true,\"showlakes\":true,\"lakecolor\":\"white\"},\"title\":{\"x\":0.05},\"mapbox\":{\"style\":\"light\"}}},\"xaxis\":{\"anchor\":\"y\",\"domain\":[0.0,1.0],\"title\":{\"text\":\"Economically Disadvantaged %\"}},\"yaxis\":{\"anchor\":\"x\",\"domain\":[0.0,1.0],\"title\":{\"text\":\"Passing %\"}},\"legend\":{\"tracegroupgap\":0},\"margin\":{\"t\":60}},                        {\"responsive\": true}                    ).then(function(){\n",
       "                            \n",
       "var gd = document.getElementById('c566b28e-0987-4bfd-b40e-ac93e4b15062');\n",
       "var x = new MutationObserver(function (mutations, observer) {{\n",
       "        var display = window.getComputedStyle(gd).display;\n",
       "        if (!display || display === 'none') {{\n",
       "            console.log([gd, 'removed!']);\n",
       "            Plotly.purge(gd);\n",
       "            observer.disconnect();\n",
       "        }}\n",
       "}});\n",
       "\n",
       "// Listen for the removal of the full notebook cells\n",
       "var notebookContainer = gd.closest('#notebook-container');\n",
       "if (notebookContainer) {{\n",
       "    x.observe(notebookContainer, {childList: true});\n",
       "}}\n",
       "\n",
       "// Listen for the clearing of the current output cell\n",
       "var outputEl = gd.closest('.output');\n",
       "if (outputEl) {{\n",
       "    x.observe(outputEl, {childList: true});\n",
       "}}\n",
       "\n",
       "                        })                };                });            </script>        </div>"
      ]
     },
     "metadata": {},
     "output_type": "display_data"
    }
   ],
   "source": [
    "#Strongest correlation graph\n",
    "p3=px.scatter(df,x=\"Economically Disadvantaged %\",y=\"Passing %\",hover_data=\n",
    "              {\"district_name\"},trendline=\"ols\")\n",
    "p3.show()"
   ]
  },
  {
   "cell_type": "code",
   "execution_count": 65,
   "id": "e444fade",
   "metadata": {},
   "outputs": [
    {
     "name": "stdout",
     "output_type": "stream",
     "text": [
      "16-factor linear regression: R sq =  0.8075823722468721\n"
     ]
    }
   ],
   "source": [
    "FullLinReg=LinReg().fit(X,Y[\"Passing %\"])\n",
    "print(\"16-factor linear regression: R sq = \",FullLinReg.score(X,Y[\"Passing %\"]))"
   ]
  },
  {
   "cell_type": "markdown",
   "id": "55ab6939",
   "metadata": {},
   "source": [
    "The overfit 16-factor linear regression offers little improvement over the correlation with just 1 factor: economic disadvantage of the students.\n",
    "\n",
    "To look at the effect of local per capita income and wealth, I looked only at school district. But what if I look at all the school districts in the MCAS data set?"
   ]
  },
  {
   "cell_type": "code",
   "execution_count": 66,
   "id": "9114ff47",
   "metadata": {},
   "outputs": [
    {
     "name": "stdout",
     "output_type": "stream",
     "text": [
      "                               x          y  correlation\n",
      "12  Economically Disadvantaged %  Passing %     0.612423\n",
      "1                           dem2  Passing %     0.167192\n",
      "7                           dem8  Passing %     0.154452\n",
      "10    English Language Learner %  Passing %     0.153489\n",
      "11  Students With Disabilities %  Passing %     0.147537\n",
      "2                           dem3  Passing %     0.137764\n",
      "5                           dem6  Passing %     0.136346\n",
      "9   First Language Not English %  Passing %     0.070975\n"
     ]
    },
    {
     "data": {
      "application/vnd.plotly.v1+json": {
       "config": {
        "plotlyServerURL": "https://plot.ly"
       },
       "data": [
        {
         "customdata": [
          [
           "State"
          ]
         ],
         "hovertemplate": "district_type=state average<br>Economically Disadvantaged %=%{x}<br>Passing %=%{y}<br>district_name=%{customdata[0]}<extra></extra>",
         "legendgroup": "state average",
         "marker": {
          "color": "#636efa",
          "symbol": "circle"
         },
         "mode": "markers",
         "name": "state average",
         "orientation": "v",
         "showlegend": true,
         "type": "scatter",
         "x": [
          31.2000007629
         ],
         "xaxis": "x",
         "y": [
          49.666666666666664
         ],
         "yaxis": "y"
        },
        {
         "customdata": [
          [
           "Abington"
          ],
          [
           "Acushnet"
          ],
          [
           "Agawam"
          ],
          [
           "Amesbury"
          ],
          [
           "Amherst"
          ],
          [
           "Andover"
          ],
          [
           "Arlington"
          ],
          [
           "Ashland"
          ],
          [
           "Attleboro"
          ],
          [
           "Auburn"
          ],
          [
           "Avon"
          ],
          [
           "Barnstable"
          ],
          [
           "Bedford"
          ],
          [
           "Belchertown"
          ],
          [
           "Bellingham"
          ],
          [
           "Belmont"
          ],
          [
           "Berkley"
          ],
          [
           "Berlin (non-op)"
          ],
          [
           "Beverly"
          ],
          [
           "Billerica"
          ],
          [
           "Boston"
          ],
          [
           "Bourne"
          ],
          [
           "Boxford"
          ],
          [
           "Boylston (non-op)"
          ],
          [
           "Braintree"
          ],
          [
           "Brewster"
          ],
          [
           "Brimfield"
          ],
          [
           "Brockton"
          ],
          [
           "Brookfield"
          ],
          [
           "Brookline"
          ],
          [
           "Burlington"
          ],
          [
           "Cambridge"
          ],
          [
           "Canton"
          ],
          [
           "Carlisle"
          ],
          [
           "Carver"
          ],
          [
           "Chelmsford"
          ],
          [
           "Chelsea"
          ],
          [
           "Chicopee"
          ],
          [
           "Clarksburg"
          ],
          [
           "Clinton"
          ],
          [
           "Cohasset"
          ],
          [
           "Concord"
          ],
          [
           "Conway"
          ],
          [
           "Danvers"
          ],
          [
           "Dartmouth"
          ],
          [
           "Dedham"
          ],
          [
           "Deerfield"
          ],
          [
           "Douglas"
          ],
          [
           "Dover"
          ],
          [
           "Dracut"
          ],
          [
           "Duxbury"
          ],
          [
           "East Bridgewater"
          ],
          [
           "Eastham"
          ],
          [
           "Easthampton"
          ],
          [
           "East Longmeadow"
          ],
          [
           "Easton"
          ],
          [
           "Edgartown"
          ],
          [
           "Erving"
          ],
          [
           "Everett"
          ],
          [
           "Fairhaven"
          ],
          [
           "Fall River"
          ],
          [
           "Falmouth"
          ],
          [
           "Fitchburg"
          ],
          [
           "Florida"
          ],
          [
           "Foxborough"
          ],
          [
           "Framingham"
          ],
          [
           "Franklin"
          ],
          [
           "Gardner"
          ],
          [
           "Georgetown"
          ],
          [
           "Gloucester"
          ],
          [
           "Grafton"
          ],
          [
           "Granby"
          ],
          [
           "Greenfield"
          ],
          [
           "Hadley"
          ],
          [
           "Halifax"
          ],
          [
           "Hancock"
          ],
          [
           "Hanover"
          ],
          [
           "Harvard"
          ],
          [
           "Hatfield"
          ],
          [
           "Haverhill"
          ],
          [
           "Hingham"
          ],
          [
           "Holbrook"
          ],
          [
           "Holland"
          ],
          [
           "Holliston"
          ],
          [
           "Holyoke"
          ],
          [
           "Hopedale"
          ],
          [
           "Hopkinton"
          ],
          [
           "Hudson"
          ],
          [
           "Hull"
          ],
          [
           "Ipswich"
          ],
          [
           "Kingston"
          ],
          [
           "Lawrence"
          ],
          [
           "Lee"
          ],
          [
           "Leicester"
          ],
          [
           "Lenox"
          ],
          [
           "Leominster"
          ],
          [
           "Leverett"
          ],
          [
           "Lexington"
          ],
          [
           "Lincoln"
          ],
          [
           "Littleton"
          ],
          [
           "Longmeadow"
          ],
          [
           "Lowell"
          ],
          [
           "Ludlow"
          ],
          [
           "Lunenburg"
          ],
          [
           "Lynn"
          ],
          [
           "Lynnfield"
          ],
          [
           "Malden"
          ],
          [
           "Mansfield"
          ],
          [
           "Marblehead"
          ],
          [
           "Marion"
          ],
          [
           "Marlborough"
          ],
          [
           "Marshfield"
          ],
          [
           "Mashpee"
          ],
          [
           "Mattapoisett"
          ],
          [
           "Maynard"
          ],
          [
           "Medfield"
          ],
          [
           "Medford"
          ],
          [
           "Medway"
          ],
          [
           "Melrose"
          ],
          [
           "Methuen"
          ],
          [
           "Middleborough"
          ],
          [
           "Middleton"
          ],
          [
           "Milford"
          ],
          [
           "Millbury"
          ],
          [
           "Millis"
          ],
          [
           "Milton"
          ],
          [
           "Monson"
          ],
          [
           "Nahant"
          ],
          [
           "Nantucket"
          ],
          [
           "Natick"
          ],
          [
           "Needham"
          ],
          [
           "New Bedford"
          ],
          [
           "Newburyport"
          ],
          [
           "Newton"
          ],
          [
           "Norfolk"
          ],
          [
           "North Adams"
          ],
          [
           "Northampton"
          ],
          [
           "North Andover"
          ],
          [
           "North Attleborough"
          ],
          [
           "Northborough"
          ],
          [
           "Northbridge"
          ],
          [
           "North Brookfield"
          ],
          [
           "North Reading"
          ],
          [
           "Norton"
          ],
          [
           "Norwell"
          ],
          [
           "Norwood"
          ],
          [
           "Oak Bluffs"
          ],
          [
           "Orange"
          ],
          [
           "Orleans"
          ],
          [
           "Oxford"
          ],
          [
           "Palmer"
          ],
          [
           "Peabody"
          ],
          [
           "Pelham"
          ],
          [
           "Pembroke"
          ],
          [
           "Petersham"
          ],
          [
           "Pittsfield"
          ],
          [
           "Plainville"
          ],
          [
           "Plymouth"
          ],
          [
           "Plympton"
          ],
          [
           "Provincetown"
          ],
          [
           "Quincy"
          ],
          [
           "Randolph"
          ],
          [
           "Reading"
          ],
          [
           "Revere"
          ],
          [
           "Richmond"
          ],
          [
           "Rochester"
          ],
          [
           "Rockland"
          ],
          [
           "Rockport"
          ],
          [
           "Rowe"
          ],
          [
           "Salem"
          ],
          [
           "Sandwich"
          ],
          [
           "Saugus"
          ],
          [
           "Savoy"
          ],
          [
           "Scituate"
          ],
          [
           "Seekonk"
          ],
          [
           "Sharon"
          ],
          [
           "Sherborn"
          ],
          [
           "Shrewsbury"
          ],
          [
           "Shutesbury"
          ],
          [
           "Somerset"
          ],
          [
           "Somerville"
          ],
          [
           "Southampton"
          ],
          [
           "Southborough"
          ],
          [
           "Southbridge"
          ],
          [
           "South Hadley"
          ],
          [
           "Springfield"
          ],
          [
           "Stoneham"
          ],
          [
           "Stoughton"
          ],
          [
           "Sturbridge"
          ],
          [
           "Sudbury"
          ],
          [
           "Sunderland"
          ],
          [
           "Sutton"
          ],
          [
           "Swampscott"
          ],
          [
           "Swansea"
          ],
          [
           "Taunton"
          ],
          [
           "Tewksbury"
          ],
          [
           "Tisbury"
          ],
          [
           "Topsfield"
          ],
          [
           "Truro"
          ],
          [
           "Tyngsborough"
          ],
          [
           "Uxbridge"
          ],
          [
           "Wakefield"
          ],
          [
           "Wales"
          ],
          [
           "Walpole"
          ],
          [
           "Waltham"
          ],
          [
           "Ware"
          ],
          [
           "Wareham"
          ],
          [
           "Watertown"
          ],
          [
           "Wayland"
          ],
          [
           "Webster"
          ],
          [
           "Wellesley"
          ],
          [
           "Wellfleet"
          ],
          [
           "Westborough"
          ],
          [
           "West Boylston"
          ],
          [
           "West Bridgewater"
          ],
          [
           "Westfield"
          ],
          [
           "Westford"
          ],
          [
           "Westhampton"
          ],
          [
           "Weston"
          ],
          [
           "Westport"
          ],
          [
           "West Springfield"
          ],
          [
           "Westwood"
          ],
          [
           "Weymouth"
          ],
          [
           "Whately"
          ],
          [
           "Williamsburg"
          ],
          [
           "Wilmington"
          ],
          [
           "Winchendon"
          ],
          [
           "Winchester"
          ],
          [
           "Winthrop"
          ],
          [
           "Woburn"
          ],
          [
           "Worcester"
          ],
          [
           "Worthington"
          ],
          [
           "Wrentham"
          ]
         ],
         "hovertemplate": "district_type=local<br>Economically Disadvantaged %=%{x}<br>Passing %=%{y}<br>district_name=%{customdata[0]}<extra></extra>",
         "legendgroup": "local",
         "marker": {
          "color": "#EF553B",
          "symbol": "circle"
         },
         "mode": "markers",
         "name": "local",
         "orientation": "v",
         "showlegend": true,
         "type": "scatter",
         "x": [
          21.7999992371,
          24.8999996185,
          29,
          23,
          31.7000007629,
          7.5,
          7.5,
          13,
          30.2999992371,
          18.3999996185,
          29.5,
          31.8999996185,
          8.6999998093,
          18,
          19,
          7.0999999046,
          17.2000007629,
          15.3000001907,
          25.3999996185,
          15.6000003815,
          56.5,
          26.3999996185,
          4,
          8.3999996185,
          17.8999996185,
          22.6000003815,
          20.5,
          54,
          30.3999996185,
          9.3000001907,
          11.3999996185,
          28.6000003815,
          13.1000003815,
          3.2000000477,
          21.8999996185,
          12.1999998093,
          62.5,
          52.2000007629,
          30.7999992371,
          36.0999984741,
          5.1999998093,
          6.6999998093,
          24.3999996185,
          15.8999996185,
          22.1000003815,
          23,
          19.3999996185,
          15.3999996185,
          2,
          21.8999996185,
          5.1999998093,
          18.1000003815,
          26.8999996185,
          28.8999996185,
          19.2999992371,
          12.8999996185,
          28.8999996185,
          25.7999992371,
          48.0999984741,
          28.1000003815,
          67.0999984741,
          28.3999996185,
          60.9000015259,
          27.6000003815,
          15.3999996185,
          33,
          9.6999998093,
          53.0999984741,
          8.8000001907,
          35.2999992371,
          11.8000001907,
          25,
          49.4000015259,
          17.3999996185,
          16.3999996185,
          23.5,
          8.3999996185,
          4.6999998093,
          14,
          45.5,
          4.6999998093,
          31.5,
          31.8999996185,
          6.6999998093,
          77.8000030518,
          10.8999996185,
          4.5,
          20.7999992371,
          30.3999996185,
          13.6999998093,
          16.8999996185,
          63.2999992371,
          33.9000015259,
          25.7000007629,
          16,
          38.5999984741,
          23,
          5.4000000954,
          5.5999999046,
          6.9000000954,
          7,
          53.7999992371,
          27.3999996185,
          16.7000007629,
          56.7000007629,
          7.1999998093,
          43.5,
          13.3999996185,
          9.3999996185,
          18.7999992371,
          34.9000015259,
          11.8000001907,
          29.7999992371,
          16.1000003815,
          17.7000007629,
          5,
          28.8999996185,
          10.1000003815,
          10.5,
          34.5,
          29,
          7.5999999046,
          33.2000007629,
          26.3999996185,
          11.8000001907,
          8.8999996185,
          26.8999996185,
          17.2000007629,
          21.7000007629,
          9.1000003815,
          5.3000001907,
          66.0999984741,
          8.1999998093,
          8.6999998093,
          5.0999999046,
          57.4000015259,
          26.5,
          14.6000003815,
          16.6000003815,
          10.8000001907,
          29.3999996185,
          31.8999996185,
          7.8000001907,
          19.1000003815,
          3.7999999523,
          23.5,
          23.3999996185,
          55.4000015259,
          27.5,
          32.5,
          39.2000007629,
          30.2999992371,
          19.2999992371,
          12.3999996185,
          23.5,
          51.2000007629,
          19.7999992371,
          23.2000007629,
          13.6000003815,
          31.2000007629,
          34.5,
          44.5999984741,
          8.3000001907,
          47.0999984741,
          20.1000003815,
          14.1000003815,
          32.5,
          19.3999996185,
          37.9000015259,
          48.2000007629,
          15.8999996185,
          29.7000007629,
          50.7999992371,
          10.3999996185,
          13.8000001907,
          7.9000000954,
          4.8000001907,
          10.5,
          39.0999984741,
          22,
          39.2000007629,
          12.8000001907,
          5.5,
          69.6999969482,
          24.8999996185,
          76.6999969482,
          16.1000003815,
          28.5,
          15.6000003815,
          5.1999998093,
          31.5,
          10.3999996185,
          14.8999996185,
          19.2999992371,
          43.4000015259,
          15.1000003815,
          27.6000003815,
          3.5999999046,
          34.9000015259,
          11.8000001907,
          18.8999996185,
          12.1999998093,
          34.7000007629,
          9.6999998093,
          33.7000007629,
          51.0999984741,
          50.7999992371,
          24.8999996185,
          5.6999998093,
          52.9000015259,
          5.5999999046,
          28.6000003815,
          8.1999998093,
          20.2000007629,
          15.6000003815,
          37.7000007629,
          5.1999998093,
          14,
          5.1999998093,
          24.1000003815,
          44.5,
          4.8000001907,
          28.6000003815,
          25.8999996185,
          25.8999996185,
          9.1999998093,
          40.9000015259,
          5,
          24.2999992371,
          25.1000003815,
          57.9000015259,
          39.2000007629,
          9.8999996185
         ],
         "xaxis": "x",
         "y": [
          50,
          52.666666666666664,
          50,
          55.333333333333336,
          47.333333333333336,
          70.66666666666667,
          69.66666666666667,
          63.666666666666664,
          50.666666666666664,
          59,
          50,
          44.666666666666664,
          70.66666666666667,
          40.666666666666664,
          44.333333333333336,
          81.33333333333333,
          56,
          69,
          53,
          50.666666666666664,
          30.666666666666668,
          45,
          67.66666666666667,
          70,
          63.666666666666664,
          60.333333333333336,
          70.33333333333333,
          24,
          56,
          72.66666666666667,
          58,
          54,
          61.333333333333336,
          80,
          46,
          65.33333333333333,
          26.666666666666668,
          42,
          38.666666666666664,
          33,
          64.66666666666667,
          73.33333333333333,
          64,
          47.333333333333336,
          54.666666666666664,
          50.333333333333336,
          61.666666666666664,
          53.666666666666664,
          85,
          48.333333333333336,
          66,
          51,
          53.666666666666664,
          42.666666666666664,
          57.333333333333336,
          65,
          59.666666666666664,
          31.333333333333332,
          34.333333333333336,
          52,
          30.666666666666668,
          59,
          31,
          44,
          58,
          37,
          65.33333333333333,
          27,
          59.666666666666664,
          45,
          65.66666666666667,
          46.333333333333336,
          31,
          52,
          53.666666666666664,
          50,
          64,
          76.66666666666667,
          58.333333333333336,
          35.666666666666664,
          78.33333333333333,
          45,
          51.666666666666664,
          62.333333333333336,
          14.666666666666666,
          64.66666666666667,
          76.66666666666667,
          47.333333333333336,
          53.333333333333336,
          65.33333333333333,
          58,
          28.333333333333332,
          45,
          41,
          65.33333333333333,
          46.333333333333336,
          63.666666666666664,
          79.66666666666667,
          58.333333333333336,
          64.66666666666667,
          68.33333333333333,
          33.333333333333336,
          41,
          53.333333333333336,
          38.666666666666664,
          75.66666666666667,
          44,
          57.333333333333336,
          63,
          60,
          38,
          68.66666666666667,
          49,
          75.66666666666667,
          51.333333333333336,
          71.66666666666667,
          43.333333333333336,
          61.333333333333336,
          66.33333333333333,
          38.666666666666664,
          48.333333333333336,
          68.33333333333333,
          47.333333333333336,
          43.666666666666664,
          59,
          68.33333333333333,
          48,
          47.666666666666664,
          41,
          65,
          73,
          30.666666666666668,
          56.666666666666664,
          70.66666666666667,
          68.33333333333333,
          28.666666666666668,
          49,
          58.666666666666664,
          59.333333333333336,
          66.66666666666667,
          46.333333333333336,
          31.333333333333332,
          74.33333333333333,
          48.333333333333336,
          72,
          49.333333333333336,
          59.333333333333336,
          22,
          70.66666666666667,
          40.333333333333336,
          31.333333333333332,
          43.666666666666664,
          71.66666666666667,
          59,
          54.666666666666664,
          31.333333333333332,
          51.333333333333336,
          49,
          68,
          44.333333333333336,
          55,
          34.666666666666664,
          66.33333333333333,
          44.333333333333336,
          62,
          53,
          43,
          53.333333333333336,
          34,
          38,
          56,
          46.333333333333336,
          30.5,
          68.33333333333333,
          59.666666666666664,
          72.66666666666667,
          77,
          68.66666666666667,
          65.33333333333333,
          51.666666666666664,
          43.666666666666664,
          47.333333333333336,
          81,
          14.333333333333334,
          45.333333333333336,
          26,
          60.666666666666664,
          49,
          64.33333333333333,
          73.33333333333333,
          58.333333333333336,
          61.333333333333336,
          58.333333333333336,
          51.666666666666664,
          35.666666666666664,
          56.333333333333336,
          67.66666666666667,
          64.33333333333333,
          41.666666666666664,
          53.333333333333336,
          47.666666666666664,
          52.333333333333336,
          54.333333333333336,
          65.66666666666667,
          47.333333333333336,
          37.333333333333336,
          32.333333333333336,
          49.333333333333336,
          76,
          28,
          75.66666666666667,
          65.66666666666667,
          74.66666666666667,
          62.666666666666664,
          49.666666666666664,
          43,
          77,
          83,
          80.66666666666667,
          54.333333333333336,
          47.666666666666664,
          76.33333333333333,
          43.666666666666664,
          58.333333333333336,
          46.666666666666664,
          59.666666666666664,
          31.333333333333332,
          79.33333333333333,
          52,
          49,
          31.666666666666668,
          39.5,
          65.33333333333333
         ],
         "yaxis": "y"
        },
        {
         "customdata": [
          [
           "Dudley Street Neighborhood Charter School (District)"
          ],
          [
           "Alma del Mar Charter School (District)"
          ],
          [
           "Excel Academy Charter (District)"
          ],
          [
           "Boston Green Academy Horace Mann Charter School (District)"
          ],
          [
           "Academy Of the Pacific Rim Charter Public (District)"
          ],
          [
           "Four Rivers Charter Public (District)"
          ],
          [
           "Berkshire Arts and Technology Charter Public (District)"
          ],
          [
           "Boston Preparatory Charter Public (District)"
          ],
          [
           "Bridge Boston Charter School (District)"
          ],
          [
           "Christa McAuliffe Charter School (District)"
          ],
          [
           "Helen Y. Davis Leadership Academy Charter Public (District)"
          ],
          [
           "Benjamin Banneker Charter Public (District)"
          ],
          [
           "Community Day Charter Public School - Gateway (District)"
          ],
          [
           "Barnstable Community Horace Mann Charter Public (District)"
          ],
          [
           "Brooke Charter School (District)"
          ],
          [
           "KIPP Academy Lynn Charter (District)"
          ],
          [
           "Advanced Math and Science Academy Charter (District)"
          ],
          [
           "Community Day Charter Public School - R. Kingman Webster (District)"
          ],
          [
           "Cape Cod Lighthouse Charter (District)"
          ],
          [
           "Innovation Academy Charter (District)"
          ],
          [
           "Community Charter School of Cambridge (District)"
          ],
          [
           "Codman Academy Charter Public (District)"
          ],
          [
           "Conservatory Lab Charter (District)"
          ],
          [
           "Community Day Charter Public School (District)"
          ],
          [
           "Springfield International Charter (District)"
          ],
          [
           "Neighborhood House Charter (District)"
          ],
          [
           "Abby Kelley Foster Charter Public (District)"
          ],
          [
           "Foxborough Regional Charter (District)"
          ],
          [
           "Benjamin Franklin Classical Charter Public (District)"
          ],
          [
           "Boston Collegiate Charter (District)"
          ],
          [
           "Hilltown Cooperative Charter Public (District)"
          ],
          [
           "Holyoke Community Charter (District)"
          ],
          [
           "Lawrence Family Development Charter (District)"
          ],
          [
           "Hill View Montessori Charter Public (District)"
          ],
          [
           "Lowell Community Charter Public (District)"
          ],
          [
           "KIPP Academy Boston Charter School (District)"
          ],
          [
           "Marblehead Community Charter Public (District)"
          ],
          [
           "Martha's Vineyard Charter Public School (District)"
          ],
          [
           "Match Charter Public School (District)"
          ],
          [
           "Mystic Valley Regional Charter (District)"
          ],
          [
           "Sizer School: A North Central Charter Essential (District)"
          ],
          [
           "Francis W. Parker Charter Essential (District)"
          ],
          [
           "Pioneer Valley Performing Arts Charter Public (District)"
          ],
          [
           "UP Academy Charter School of Boston (District)"
          ],
          [
           "Boston Renaissance Charter Public (District)"
          ],
          [
           "River Valley Charter (District)"
          ],
          [
           "Rising Tide Charter Public (District)"
          ],
          [
           "Roxbury Preparatory Charter (District)"
          ],
          [
           "Salem Academy Charter (District)"
          ],
          [
           "Learning First Charter Public School (District)"
          ],
          [
           "Prospect Hill Academy Charter (District)"
          ],
          [
           "South Shore Charter Public (District)"
          ],
          [
           "Atlantis Charter (District)"
          ],
          [
           "Martin Luther King, Jr. Charter School of Excellence (District)"
          ],
          [
           "Pioneer Charter School of Science (District)"
          ],
          [
           "Global Learning Charter Public (District)"
          ],
          [
           "Pioneer Valley Chinese Immersion Charter (District)"
          ],
          [
           "Veritas Preparatory Charter School (District)"
          ],
          [
           "Hampden Charter School of Science East (District)"
          ],
          [
           "Baystate Academy Charter Public School (District)"
          ],
          [
           "Collegiate Charter School of Lowell (District)"
          ],
          [
           "UP Academy Charter School of Dorchester (District)"
          ],
          [
           "Pioneer Charter School of Science II (District)"
          ],
          [
           "Argosy Collegiate Charter School (District)"
          ],
          [
           "Springfield Preparatory Charter School (District)"
          ],
          [
           "Bentley Academy Charter School (District)"
          ],
          [
           "New Heights Charter School of Brockton (District)"
          ],
          [
           "Libertas Academy Charter School (District)"
          ],
          [
           "Old Sturbridge Academy Charter Public School (District)"
          ],
          [
           "Hampden Charter School of Science West (District)"
          ],
          [
           "Greater Commonwealth Virtual District"
          ],
          [
           "TEC Connections Academy Commonwealth Virtual School District"
          ]
         ],
         "hovertemplate": "district_type=charter<br>Economically Disadvantaged %=%{x}<br>Passing %=%{y}<br>district_name=%{customdata[0]}<extra></extra>",
         "legendgroup": "charter",
         "marker": {
          "color": "#00cc96",
          "symbol": "circle"
         },
         "mode": "markers",
         "name": "charter",
         "orientation": "v",
         "showlegend": true,
         "type": "scatter",
         "x": [
          59,
          61.9000015259,
          42.4000015259,
          60.9000015259,
          38.2000007629,
          24.2000007629,
          41.2999992371,
          44.2999992371,
          59.2999992371,
          21.1000003815,
          62.7999992371,
          45.5,
          50.2999992371,
          41.7000007629,
          45.7000007629,
          49.2000007629,
          6.5999999046,
          49.4000015259,
          16.5,
          11.3000001907,
          32.5,
          53.7999992371,
          48.7999992371,
          47.9000015259,
          38.9000015259,
          39.2999992371,
          37.7000007629,
          21.3999996185,
          7.4000000954,
          28.3999996185,
          15.1999998093,
          68,
          54.7000007629,
          16.7999992371,
          46.5999984741,
          63.2999992371,
          11.8999996185,
          29.1000003815,
          58.7000007629,
          19.1000003815,
          35,
          7.0999999046,
          24.5,
          67.3000030518,
          50.4000015259,
          8.6999998093,
          9.5,
          55.7999992371,
          30.1000003815,
          60.0999984741,
          39.0999984741,
          19.6000003815,
          41.5999984741,
          72.8000030518,
          39.9000015259,
          53.5,
          15.6999998093,
          71.5,
          43.0999984741,
          69.8000030518,
          40.4000015259,
          63.2999992371,
          23.2000007629,
          56,
          72.6999969482,
          67,
          40,
          82.5999984741,
          31,
          44,
          48.5,
          46.5
         ],
         "xaxis": "x",
         "y": [
          24.666666666666668,
          43.666666666666664,
          51.666666666666664,
          17.666666666666668,
          34.333333333333336,
          63.333333333333336,
          47.333333333333336,
          41,
          32.666666666666664,
          50.666666666666664,
          23.666666666666668,
          70,
          72.66666666666667,
          42,
          71.66666666666667,
          47.666666666666664,
          70.66666666666667,
          67,
          66.66666666666667,
          55,
          64.33333333333333,
          8.666666666666666,
          31,
          60,
          31,
          35.666666666666664,
          41,
          44,
          71.66666666666667,
          56.333333333333336,
          62.666666666666664,
          28,
          57.666666666666664,
          38,
          47,
          36.666666666666664,
          58,
          50.333333333333336,
          37.666666666666664,
          57,
          34.333333333333336,
          63.666666666666664,
          51,
          24,
          30,
          57.333333333333336,
          55,
          41.666666666666664,
          55.666666666666664,
          20.333333333333332,
          37.333333333333336,
          47.333333333333336,
          37.666666666666664,
          43.666666666666664,
          56,
          38.333333333333336,
          68,
          52.333333333333336,
          50.333333333333336,
          23,
          44.666666666666664,
          18.333333333333332,
          70,
          27.333333333333332,
          70.5,
          34.666666666666664,
          24,
          28.5,
          46.5,
          44,
          23.333333333333332,
          27
         ],
         "yaxis": "y"
        },
        {
         "customdata": [
          [
           "Acton-Boxborough"
          ],
          [
           "Hoosac Valley Regional"
          ],
          [
           "Amherst-Pelham"
          ],
          [
           "Ashburnham-Westminster"
          ],
          [
           "Athol-Royalston"
          ],
          [
           "Ayer Shirley School District"
          ],
          [
           "Berkshire Hills"
          ],
          [
           "Berlin-Boylston"
          ],
          [
           "Blackstone-Millville"
          ],
          [
           "Bridgewater-Raynham"
          ],
          [
           "Chesterfield-Goshen"
          ],
          [
           "Central Berkshire"
          ],
          [
           "Dennis-Yarmouth"
          ],
          [
           "Dighton-Rehoboth"
          ],
          [
           "Dover-Sherborn"
          ],
          [
           "Dudley-Charlton Reg"
          ],
          [
           "Nauset"
          ],
          [
           "Farmington River Reg"
          ],
          [
           "Freetown-Lakeville"
          ],
          [
           "Frontier"
          ],
          [
           "Gateway"
          ],
          [
           "Groton-Dunstable"
          ],
          [
           "Gill-Montague"
          ],
          [
           "Hamilton-Wenham"
          ],
          [
           "Hampden-Wilbraham"
          ],
          [
           "Hampshire"
          ],
          [
           "Hawlemont"
          ],
          [
           "King Philip"
          ],
          [
           "Manchester Essex Regional"
          ],
          [
           "Masconomet"
          ],
          [
           "Mendon-Upton"
          ],
          [
           "Monomoy Regional School District"
          ],
          [
           "Mount Greylock"
          ],
          [
           "Mohawk Trail"
          ],
          [
           "Narragansett"
          ],
          [
           "Nashoba"
          ],
          [
           "New Salem-Wendell"
          ],
          [
           "North Middlesex"
          ],
          [
           "Old Rochester"
          ],
          [
           "Pentucket"
          ],
          [
           "Pioneer Valley"
          ],
          [
           "Quabbin"
          ],
          [
           "Ralph C Mahar"
          ],
          [
           "Silver Lake"
          ],
          [
           "Southern Berkshire"
          ],
          [
           "Southwick-Tolland-Granville Regional School District"
          ],
          [
           "Spencer-E Brookfield"
          ],
          [
           "Tantasqua"
          ],
          [
           "Triton"
          ],
          [
           "Up-Island Regional"
          ],
          [
           "Wachusett"
          ],
          [
           "Quaboag Regional"
          ],
          [
           "Whitman-Hanson"
          ]
         ],
         "hovertemplate": "district_type=regional<br>Economically Disadvantaged %=%{x}<br>Passing %=%{y}<br>district_name=%{customdata[0]}<extra></extra>",
         "legendgroup": "regional",
         "marker": {
          "color": "#ab63fa",
          "symbol": "circle"
         },
         "mode": "markers",
         "name": "regional",
         "orientation": "v",
         "showlegend": true,
         "type": "scatter",
         "x": [
          6.1999998093,
          49.4000015259,
          24.6000003815,
          15.8000001907,
          48.7000007629,
          24.8999996185,
          29,
          12.1999998093,
          22,
          16.1000003815,
          24,
          30.5,
          39.9000015259,
          15.8000001907,
          3.7999999523,
          21,
          18.6000003815,
          40.9000015259,
          17.2000007629,
          17.7999992371,
          31,
          7.0999999046,
          47.4000015259,
          7.0999999046,
          15,
          14.6999998093,
          46.4000015259,
          8.8000001907,
          7.8000001907,
          5.5999999046,
          9.1000003815,
          25.2999992371,
          17.8999996185,
          34.5999984741,
          28.5,
          7.8000001907,
          29.5,
          17.2999992371,
          12,
          12,
          21.7000007629,
          23.2999992371,
          38,
          15.8999996185,
          34.7000007629,
          22.7999992371,
          35.0999984741,
          19.3999996185,
          20.2999992371,
          22.3999996185,
          10.3000001907,
          35.7000007629,
          20.2000007629
         ],
         "xaxis": "x",
         "y": [
          72.66666666666667,
          28.666666666666668,
          51,
          52,
          36.666666666666664,
          51.333333333333336,
          44.666666666666664,
          67,
          45.333333333333336,
          56.333333333333336,
          44.666666666666664,
          42.333333333333336,
          40.333333333333336,
          51,
          78.33333333333333,
          53.666666666666664,
          62,
          35,
          54.333333333333336,
          54.333333333333336,
          43.666666666666664,
          69.33333333333333,
          31.666666666666668,
          70,
          57,
          44,
          27,
          56.333333333333336,
          65,
          75,
          54,
          56.333333333333336,
          64.66666666666667,
          45.333333333333336,
          41,
          72,
          51.666666666666664,
          54.333333333333336,
          66.66666666666667,
          51.666666666666664,
          49,
          46,
          44,
          59.333333333333336,
          39.666666666666664,
          46,
          38,
          52.666666666666664,
          54.333333333333336,
          63,
          66,
          49.333333333333336,
          47.666666666666664
         ],
         "yaxis": "y"
        },
        {
         "hovertemplate": "<b>OLS trendline</b><br>Passing % = -0.656576 * Economically Disadvantaged % + 69.863<br>R<sup>2</sup>=0.612423<br><br>Economically Disadvantaged %=%{x}<br>Passing %=%{y} <b>(trend)</b><extra></extra>",
         "legendgroup": "Overall Trendline",
         "line": {
          "color": "#FFA15A"
         },
         "mode": "lines",
         "name": "Overall Trendline",
         "showlegend": true,
         "type": "scatter",
         "x": [
          2,
          3.2000000477,
          3.5999999046,
          3.7999999523,
          3.7999999523,
          4,
          4.5,
          4.6999998093,
          4.6999998093,
          4.8000001907,
          4.8000001907,
          5,
          5,
          5.0999999046,
          5.1999998093,
          5.1999998093,
          5.1999998093,
          5.1999998093,
          5.1999998093,
          5.3000001907,
          5.4000000954,
          5.5,
          5.5999999046,
          5.5999999046,
          5.5999999046,
          5.6999998093,
          6.1999998093,
          6.5999999046,
          6.6999998093,
          6.6999998093,
          6.9000000954,
          7,
          7.0999999046,
          7.0999999046,
          7.0999999046,
          7.0999999046,
          7.1999998093,
          7.4000000954,
          7.5,
          7.5,
          7.5999999046,
          7.8000001907,
          7.8000001907,
          7.8000001907,
          7.9000000954,
          8.1999998093,
          8.1999998093,
          8.3000001907,
          8.3999996185,
          8.3999996185,
          8.6999998093,
          8.6999998093,
          8.6999998093,
          8.8000001907,
          8.8000001907,
          8.8999996185,
          9.1000003815,
          9.1000003815,
          9.1999998093,
          9.3000001907,
          9.3999996185,
          9.5,
          9.6999998093,
          9.6999998093,
          9.8999996185,
          10.1000003815,
          10.3000001907,
          10.3999996185,
          10.3999996185,
          10.5,
          10.5,
          10.8000001907,
          10.8999996185,
          11.3000001907,
          11.3999996185,
          11.8000001907,
          11.8000001907,
          11.8000001907,
          11.8000001907,
          11.8999996185,
          12,
          12,
          12.1999998093,
          12.1999998093,
          12.1999998093,
          12.3999996185,
          12.8000001907,
          12.8999996185,
          13,
          13.1000003815,
          13.3999996185,
          13.6000003815,
          13.6999998093,
          13.8000001907,
          14,
          14,
          14.1000003815,
          14.6000003815,
          14.6999998093,
          14.8999996185,
          15,
          15.1000003815,
          15.1999998093,
          15.3000001907,
          15.3999996185,
          15.3999996185,
          15.6000003815,
          15.6000003815,
          15.6000003815,
          15.6999998093,
          15.8000001907,
          15.8000001907,
          15.8999996185,
          15.8999996185,
          15.8999996185,
          16,
          16.1000003815,
          16.1000003815,
          16.1000003815,
          16.3999996185,
          16.5,
          16.6000003815,
          16.7000007629,
          16.7999992371,
          16.8999996185,
          17.2000007629,
          17.2000007629,
          17.2000007629,
          17.2999992371,
          17.3999996185,
          17.7000007629,
          17.7999992371,
          17.8999996185,
          17.8999996185,
          18,
          18.1000003815,
          18.3999996185,
          18.6000003815,
          18.7999992371,
          18.8999996185,
          19,
          19.1000003815,
          19.1000003815,
          19.2999992371,
          19.2999992371,
          19.2999992371,
          19.3999996185,
          19.3999996185,
          19.3999996185,
          19.6000003815,
          19.7999992371,
          20.1000003815,
          20.2000007629,
          20.2000007629,
          20.2999992371,
          20.5,
          20.7999992371,
          21,
          21.1000003815,
          21.3999996185,
          21.7000007629,
          21.7000007629,
          21.7999992371,
          21.8999996185,
          21.8999996185,
          22,
          22,
          22.1000003815,
          22.3999996185,
          22.6000003815,
          22.7999992371,
          23,
          23,
          23,
          23.2000007629,
          23.2000007629,
          23.2999992371,
          23.3999996185,
          23.5,
          23.5,
          23.5,
          24,
          24.1000003815,
          24.2000007629,
          24.2999992371,
          24.3999996185,
          24.5,
          24.6000003815,
          24.8999996185,
          24.8999996185,
          24.8999996185,
          24.8999996185,
          25,
          25.1000003815,
          25.2999992371,
          25.3999996185,
          25.7000007629,
          25.7999992371,
          25.8999996185,
          25.8999996185,
          26.3999996185,
          26.3999996185,
          26.5,
          26.8999996185,
          26.8999996185,
          27.3999996185,
          27.5,
          27.6000003815,
          27.6000003815,
          28.1000003815,
          28.3999996185,
          28.3999996185,
          28.5,
          28.5,
          28.6000003815,
          28.6000003815,
          28.6000003815,
          28.8999996185,
          28.8999996185,
          28.8999996185,
          29,
          29,
          29,
          29.1000003815,
          29.3999996185,
          29.5,
          29.5,
          29.7000007629,
          29.7999992371,
          30.1000003815,
          30.2999992371,
          30.2999992371,
          30.3999996185,
          30.3999996185,
          30.5,
          30.7999992371,
          31,
          31,
          31.2000007629,
          31.2000007629,
          31.5,
          31.5,
          31.7000007629,
          31.8999996185,
          31.8999996185,
          31.8999996185,
          32.5,
          32.5,
          32.5,
          33,
          33.2000007629,
          33.7000007629,
          33.9000015259,
          34.5,
          34.5,
          34.5999984741,
          34.7000007629,
          34.7000007629,
          34.9000015259,
          34.9000015259,
          35,
          35.0999984741,
          35.2999992371,
          35.7000007629,
          36.0999984741,
          37.7000007629,
          37.7000007629,
          37.9000015259,
          38,
          38.2000007629,
          38.5999984741,
          38.9000015259,
          39.0999984741,
          39.0999984741,
          39.2000007629,
          39.2000007629,
          39.2000007629,
          39.2999992371,
          39.9000015259,
          39.9000015259,
          40,
          40.4000015259,
          40.9000015259,
          40.9000015259,
          41.2999992371,
          41.5999984741,
          41.7000007629,
          42.4000015259,
          43.0999984741,
          43.4000015259,
          43.5,
          44,
          44.2999992371,
          44.5,
          44.5999984741,
          45.5,
          45.5,
          45.7000007629,
          46.4000015259,
          46.5,
          46.5999984741,
          47.0999984741,
          47.4000015259,
          47.9000015259,
          48.0999984741,
          48.2000007629,
          48.5,
          48.7000007629,
          48.7999992371,
          49.2000007629,
          49.4000015259,
          49.4000015259,
          49.4000015259,
          50.2999992371,
          50.4000015259,
          50.7999992371,
          50.7999992371,
          51.0999984741,
          51.2000007629,
          52.2000007629,
          52.9000015259,
          53.0999984741,
          53.5,
          53.7999992371,
          53.7999992371,
          54,
          54.7000007629,
          55.4000015259,
          55.7999992371,
          56,
          56.5,
          56.7000007629,
          57.4000015259,
          57.9000015259,
          58.7000007629,
          59,
          59.2999992371,
          60.0999984741,
          60.9000015259,
          60.9000015259,
          61.9000015259,
          62.5,
          62.7999992371,
          63.2999992371,
          63.2999992371,
          63.2999992371,
          66.0999984741,
          67,
          67.0999984741,
          67.3000030518,
          68,
          69.6999969482,
          69.8000030518,
          71.5,
          72.6999969482,
          72.8000030518,
          76.6999969482,
          77.8000030518,
          82.5999984741
         ],
         "xaxis": "x",
         "y": [
          68.54980069950508,
          67.76190918348992,
          67.49927878254715,
          67.36796350377907,
          67.36796350377907,
          67.23664822501097,
          66.90836010638743,
          66.77704498414711,
          66.77704498414711,
          66.71138711000422,
          66.71138711000422,
          66.5800719877639,
          66.5800719877639,
          66.51441442667657,
          66.44875686552358,
          66.44875686552358,
          66.44875686552358,
          66.44875686552358,
          66.44875686552358,
          66.38309899138069,
          66.3174414302277,
          66.25178386914037,
          66.18612630805303,
          66.18612630805303,
          66.18612630805303,
          66.12046874690004,
          65.79218062827651,
          65.52955007080598,
          65.463892509653,
          65.463892509653,
          65.33257707435712,
          65.26691951326978,
          65.20126195218245,
          65.20126195218245,
          65.20126195218245,
          65.20126195218245,
          65.13560439102946,
          65.00428895573359,
          64.93863139464625,
          64.93863139464625,
          64.87297383355892,
          64.74165839826304,
          64.74165839826304,
          64.74165839826304,
          64.67600083711005,
          64.4790281537824,
          64.4790281537824,
          64.41337027963951,
          64.34771303160773,
          64.34771303160773,
          64.15074003515886,
          64.15074003515886,
          64.15074003515886,
          64.08508216101599,
          64.08508216101599,
          64.0194249129842,
          63.88810916456712,
          63.88810916456712,
          63.822451916535336,
          63.75679404239246,
          63.69113679436067,
          63.62547892015213,
          63.49416379791181,
          63.49416379791181,
          63.36284867573714,
          63.23153292732006,
          63.10021780514539,
          63.03456055711361,
          63.03456055711361,
          62.96890268290507,
          62.96890268290507,
          62.771929686521865,
          62.70627243849008,
          62.44364156789833,
          62.37798431986655,
          62.11535344927481,
          62.11535344927481,
          62.11535344927481,
          62.11535344927481,
          62.04969620124302,
          61.98403832703448,
          61.98403832703448,
          61.85272320479416,
          61.85272320479416,
          61.85272320479416,
          61.72140808261949,
          61.45877721202774,
          61.39311996399596,
          61.32746208978742,
          61.26180421557888,
          61.06483184537243,
          60.93351609695535,
          60.86785884892357,
          60.80220097478068,
          60.67088585254036,
          60.67088585254036,
          60.60522797833182,
          60.27693985970829,
          60.21128261167651,
          60.07996748950184,
          60.0143096152933,
          59.94865174108476,
          59.882994493052976,
          59.81733661891009,
          59.75167937087831,
          59.75167937087831,
          59.62036362246123,
          59.62036362246123,
          59.62036362246123,
          59.55470637442944,
          59.489048500286565,
          59.489048500286565,
          59.42339125225478,
          59.42339125225478,
          59.42339125225478,
          59.35773337804624,
          59.2920755038377,
          59.2920755038377,
          59.2920755038377,
          59.09510313363125,
          59.02944525942271,
          58.96378738521417,
          58.89812951107129,
          58.8324728891506,
          58.76681501500772,
          58.569841392447756,
          58.569841392447756,
          58.569841392447756,
          58.504184770527075,
          58.43852689638419,
          58.24155327382422,
          58.17589665190354,
          58.11023877776066,
          58.11023877776066,
          58.04458090355212,
          57.978923029343576,
          57.78195065913713,
          57.65063491072005,
          57.519320414656484,
          57.4536625405136,
          57.38800466630506,
          57.32234679209652,
          57.32234679209652,
          57.19103229603295,
          57.19103229603295,
          57.19103229603295,
          57.12537442189007,
          57.12537442189007,
          57.12537442189007,
          56.99405867347299,
          56.862744177409425,
          56.66577055484946,
          56.60011268070657,
          56.60011268070657,
          56.53445605878589,
          56.403140310434466,
          56.20616794016236,
          56.07485219181094,
          56.0091943176024,
          55.81222194739595,
          55.61524832483599,
          55.61524832483599,
          55.5495917029153,
          55.48393382877242,
          55.48393382877242,
          55.41827595456388,
          55.41827595456388,
          55.35261808035534,
          55.15564571014889,
          55.02432996173181,
          54.89301546566824,
          54.761699717316816,
          54.761699717316816,
          54.761699717316816,
          54.6303839689654,
          54.6303839689654,
          54.56472734704471,
          54.49906947290183,
          54.43341159869329,
          54.43341159869329,
          54.43341159869329,
          54.10512348006976,
          54.03946560586122,
          53.97380773171834,
          53.90815110979765,
          53.84249323565477,
          53.77683536144623,
          53.71117748723769,
          53.51420511703124,
          53.51420511703124,
          53.51420511703124,
          53.51420511703124,
          53.4485472428227,
          53.38288936861416,
          53.25157487255059,
          53.185916998407706,
          52.98894337584774,
          52.92328675392706,
          52.85762887978417,
          52.85762887978417,
          52.52934076116065,
          52.52934076116065,
          52.46368288695211,
          52.20105264253712,
          52.20105264253712,
          51.87276452391359,
          51.80710664970505,
          51.74144877549651,
          51.74144877549651,
          51.413160656872975,
          51.21618828666652,
          51.21618828666652,
          51.15053041245798,
          51.15053041245798,
          51.08487253824944,
          51.08487253824944,
          51.08487253824944,
          50.887900168043,
          50.887900168043,
          50.887900168043,
          50.82224229383446,
          50.82224229383446,
          50.82224229383446,
          50.756584419625916,
          50.55961204941947,
          50.49395417521093,
          50.49395417521093,
          50.362638426859505,
          50.296981804938824,
          50.10000818237886,
          49.96869368631529,
          49.96869368631529,
          49.903035812172405,
          49.903035812172405,
          49.837377937963865,
          49.64040556769176,
          49.50908981934033,
          49.50908981934033,
          49.37777407098891,
          49.37777407098891,
          49.180801700716806,
          49.180801700716806,
          49.04948595236539,
          48.91817145630182,
          48.91817145630182,
          48.91817145630182,
          48.52422546346975,
          48.52422546346975,
          48.52422546346975,
          48.195937344846215,
          48.064621596494796,
          47.73633347787127,
          47.605017729454175,
          47.21107298897563,
          47.21107298897563,
          47.1454163671206,
          47.079757240624204,
          47.079757240624204,
          46.948441492207124,
          46.948441492207124,
          46.8827848703521,
          46.81712824849707,
          46.68581250007999,
          46.423181003377145,
          46.16055201125001,
          45.11002852888302,
          45.11002852888302,
          44.97871278046594,
          44.913056158610914,
          44.781740410259495,
          44.51911141813236,
          44.322136543218875,
          44.190823299508835,
          44.190823299508835,
          44.125164173012436,
          44.125164173012436,
          44.125164173012436,
          44.05950755109175,
          43.66556030597182,
          43.66556030597182,
          43.599903684116796,
          43.33727218734829,
          43.00898406872476,
          43.00898406872476,
          42.746355076597624,
          42.549382706391185,
          42.483723579894786,
          42.02411971285417,
          41.564518350520586,
          41.36754347560711,
          41.30188685375208,
          40.973598735128554,
          40.77662636485645,
          40.64531061650503,
          40.57965399465,
          39.98873437925796,
          39.98873437925796,
          39.857418630906544,
          39.397814763865924,
          39.332158142010904,
          39.266501520155884,
          38.93821340153235,
          38.74123852661887,
          38.41295040799534,
          38.281637164285286,
          38.215978037788894,
          38.01900566751678,
          37.88768991916537,
          37.82203329724467,
          37.559401800541835,
          37.42808605212475,
          37.42808605212475,
          37.42808605212475,
          36.83716894137409,
          36.77150981487769,
          36.508880822750555,
          36.508880822750555,
          36.31190845254411,
          36.24624932604771,
          35.58967308880065,
          35.13006922176004,
          34.99875597804999,
          34.736124481281486,
          34.53915211100937,
          34.53915211100937,
          34.40783636265795,
          33.948232495683,
          33.48862862864239,
          33.225999636515255,
          33.094683888163836,
          32.7663957695403,
          32.635080021188884,
          32.175476154148264,
          31.847188035524738,
          31.32192754669476,
          31.124955176422652,
          30.927982806150546,
          30.402722317320567,
          29.877459323783555,
          29.877459323783555,
          29.220883086536496,
          28.826938346057943,
          28.629965975785836,
          28.301677857162304,
          28.301677857162304,
          28.301677857162304,
          26.4632648938382,
          25.87234527844617,
          25.80668865659114,
          25.67537040353269,
          25.21576904119911,
          24.099591441618472,
          24.03392981041504,
          22.9177522108344,
          22.129862729877296,
          22.064201098673855,
          19.503557780889054,
          18.781319912438555,
          15.629756979261707
         ],
         "yaxis": "y"
        }
       ],
       "layout": {
        "legend": {
         "title": {
          "text": "district_type"
         },
         "tracegroupgap": 0
        },
        "margin": {
         "t": 60
        },
        "template": {
         "data": {
          "bar": [
           {
            "error_x": {
             "color": "#2a3f5f"
            },
            "error_y": {
             "color": "#2a3f5f"
            },
            "marker": {
             "line": {
              "color": "#E5ECF6",
              "width": 0.5
             },
             "pattern": {
              "fillmode": "overlay",
              "size": 10,
              "solidity": 0.2
             }
            },
            "type": "bar"
           }
          ],
          "barpolar": [
           {
            "marker": {
             "line": {
              "color": "#E5ECF6",
              "width": 0.5
             },
             "pattern": {
              "fillmode": "overlay",
              "size": 10,
              "solidity": 0.2
             }
            },
            "type": "barpolar"
           }
          ],
          "carpet": [
           {
            "aaxis": {
             "endlinecolor": "#2a3f5f",
             "gridcolor": "white",
             "linecolor": "white",
             "minorgridcolor": "white",
             "startlinecolor": "#2a3f5f"
            },
            "baxis": {
             "endlinecolor": "#2a3f5f",
             "gridcolor": "white",
             "linecolor": "white",
             "minorgridcolor": "white",
             "startlinecolor": "#2a3f5f"
            },
            "type": "carpet"
           }
          ],
          "choropleth": [
           {
            "colorbar": {
             "outlinewidth": 0,
             "ticks": ""
            },
            "type": "choropleth"
           }
          ],
          "contour": [
           {
            "colorbar": {
             "outlinewidth": 0,
             "ticks": ""
            },
            "colorscale": [
             [
              0,
              "#0d0887"
             ],
             [
              0.1111111111111111,
              "#46039f"
             ],
             [
              0.2222222222222222,
              "#7201a8"
             ],
             [
              0.3333333333333333,
              "#9c179e"
             ],
             [
              0.4444444444444444,
              "#bd3786"
             ],
             [
              0.5555555555555556,
              "#d8576b"
             ],
             [
              0.6666666666666666,
              "#ed7953"
             ],
             [
              0.7777777777777778,
              "#fb9f3a"
             ],
             [
              0.8888888888888888,
              "#fdca26"
             ],
             [
              1,
              "#f0f921"
             ]
            ],
            "type": "contour"
           }
          ],
          "contourcarpet": [
           {
            "colorbar": {
             "outlinewidth": 0,
             "ticks": ""
            },
            "type": "contourcarpet"
           }
          ],
          "heatmap": [
           {
            "colorbar": {
             "outlinewidth": 0,
             "ticks": ""
            },
            "colorscale": [
             [
              0,
              "#0d0887"
             ],
             [
              0.1111111111111111,
              "#46039f"
             ],
             [
              0.2222222222222222,
              "#7201a8"
             ],
             [
              0.3333333333333333,
              "#9c179e"
             ],
             [
              0.4444444444444444,
              "#bd3786"
             ],
             [
              0.5555555555555556,
              "#d8576b"
             ],
             [
              0.6666666666666666,
              "#ed7953"
             ],
             [
              0.7777777777777778,
              "#fb9f3a"
             ],
             [
              0.8888888888888888,
              "#fdca26"
             ],
             [
              1,
              "#f0f921"
             ]
            ],
            "type": "heatmap"
           }
          ],
          "heatmapgl": [
           {
            "colorbar": {
             "outlinewidth": 0,
             "ticks": ""
            },
            "colorscale": [
             [
              0,
              "#0d0887"
             ],
             [
              0.1111111111111111,
              "#46039f"
             ],
             [
              0.2222222222222222,
              "#7201a8"
             ],
             [
              0.3333333333333333,
              "#9c179e"
             ],
             [
              0.4444444444444444,
              "#bd3786"
             ],
             [
              0.5555555555555556,
              "#d8576b"
             ],
             [
              0.6666666666666666,
              "#ed7953"
             ],
             [
              0.7777777777777778,
              "#fb9f3a"
             ],
             [
              0.8888888888888888,
              "#fdca26"
             ],
             [
              1,
              "#f0f921"
             ]
            ],
            "type": "heatmapgl"
           }
          ],
          "histogram": [
           {
            "marker": {
             "pattern": {
              "fillmode": "overlay",
              "size": 10,
              "solidity": 0.2
             }
            },
            "type": "histogram"
           }
          ],
          "histogram2d": [
           {
            "colorbar": {
             "outlinewidth": 0,
             "ticks": ""
            },
            "colorscale": [
             [
              0,
              "#0d0887"
             ],
             [
              0.1111111111111111,
              "#46039f"
             ],
             [
              0.2222222222222222,
              "#7201a8"
             ],
             [
              0.3333333333333333,
              "#9c179e"
             ],
             [
              0.4444444444444444,
              "#bd3786"
             ],
             [
              0.5555555555555556,
              "#d8576b"
             ],
             [
              0.6666666666666666,
              "#ed7953"
             ],
             [
              0.7777777777777778,
              "#fb9f3a"
             ],
             [
              0.8888888888888888,
              "#fdca26"
             ],
             [
              1,
              "#f0f921"
             ]
            ],
            "type": "histogram2d"
           }
          ],
          "histogram2dcontour": [
           {
            "colorbar": {
             "outlinewidth": 0,
             "ticks": ""
            },
            "colorscale": [
             [
              0,
              "#0d0887"
             ],
             [
              0.1111111111111111,
              "#46039f"
             ],
             [
              0.2222222222222222,
              "#7201a8"
             ],
             [
              0.3333333333333333,
              "#9c179e"
             ],
             [
              0.4444444444444444,
              "#bd3786"
             ],
             [
              0.5555555555555556,
              "#d8576b"
             ],
             [
              0.6666666666666666,
              "#ed7953"
             ],
             [
              0.7777777777777778,
              "#fb9f3a"
             ],
             [
              0.8888888888888888,
              "#fdca26"
             ],
             [
              1,
              "#f0f921"
             ]
            ],
            "type": "histogram2dcontour"
           }
          ],
          "mesh3d": [
           {
            "colorbar": {
             "outlinewidth": 0,
             "ticks": ""
            },
            "type": "mesh3d"
           }
          ],
          "parcoords": [
           {
            "line": {
             "colorbar": {
              "outlinewidth": 0,
              "ticks": ""
             }
            },
            "type": "parcoords"
           }
          ],
          "pie": [
           {
            "automargin": true,
            "type": "pie"
           }
          ],
          "scatter": [
           {
            "fillpattern": {
             "fillmode": "overlay",
             "size": 10,
             "solidity": 0.2
            },
            "type": "scatter"
           }
          ],
          "scatter3d": [
           {
            "line": {
             "colorbar": {
              "outlinewidth": 0,
              "ticks": ""
             }
            },
            "marker": {
             "colorbar": {
              "outlinewidth": 0,
              "ticks": ""
             }
            },
            "type": "scatter3d"
           }
          ],
          "scattercarpet": [
           {
            "marker": {
             "colorbar": {
              "outlinewidth": 0,
              "ticks": ""
             }
            },
            "type": "scattercarpet"
           }
          ],
          "scattergeo": [
           {
            "marker": {
             "colorbar": {
              "outlinewidth": 0,
              "ticks": ""
             }
            },
            "type": "scattergeo"
           }
          ],
          "scattergl": [
           {
            "marker": {
             "colorbar": {
              "outlinewidth": 0,
              "ticks": ""
             }
            },
            "type": "scattergl"
           }
          ],
          "scattermapbox": [
           {
            "marker": {
             "colorbar": {
              "outlinewidth": 0,
              "ticks": ""
             }
            },
            "type": "scattermapbox"
           }
          ],
          "scatterpolar": [
           {
            "marker": {
             "colorbar": {
              "outlinewidth": 0,
              "ticks": ""
             }
            },
            "type": "scatterpolar"
           }
          ],
          "scatterpolargl": [
           {
            "marker": {
             "colorbar": {
              "outlinewidth": 0,
              "ticks": ""
             }
            },
            "type": "scatterpolargl"
           }
          ],
          "scatterternary": [
           {
            "marker": {
             "colorbar": {
              "outlinewidth": 0,
              "ticks": ""
             }
            },
            "type": "scatterternary"
           }
          ],
          "surface": [
           {
            "colorbar": {
             "outlinewidth": 0,
             "ticks": ""
            },
            "colorscale": [
             [
              0,
              "#0d0887"
             ],
             [
              0.1111111111111111,
              "#46039f"
             ],
             [
              0.2222222222222222,
              "#7201a8"
             ],
             [
              0.3333333333333333,
              "#9c179e"
             ],
             [
              0.4444444444444444,
              "#bd3786"
             ],
             [
              0.5555555555555556,
              "#d8576b"
             ],
             [
              0.6666666666666666,
              "#ed7953"
             ],
             [
              0.7777777777777778,
              "#fb9f3a"
             ],
             [
              0.8888888888888888,
              "#fdca26"
             ],
             [
              1,
              "#f0f921"
             ]
            ],
            "type": "surface"
           }
          ],
          "table": [
           {
            "cells": {
             "fill": {
              "color": "#EBF0F8"
             },
             "line": {
              "color": "white"
             }
            },
            "header": {
             "fill": {
              "color": "#C8D4E3"
             },
             "line": {
              "color": "white"
             }
            },
            "type": "table"
           }
          ]
         },
         "layout": {
          "annotationdefaults": {
           "arrowcolor": "#2a3f5f",
           "arrowhead": 0,
           "arrowwidth": 1
          },
          "autotypenumbers": "strict",
          "coloraxis": {
           "colorbar": {
            "outlinewidth": 0,
            "ticks": ""
           }
          },
          "colorscale": {
           "diverging": [
            [
             0,
             "#8e0152"
            ],
            [
             0.1,
             "#c51b7d"
            ],
            [
             0.2,
             "#de77ae"
            ],
            [
             0.3,
             "#f1b6da"
            ],
            [
             0.4,
             "#fde0ef"
            ],
            [
             0.5,
             "#f7f7f7"
            ],
            [
             0.6,
             "#e6f5d0"
            ],
            [
             0.7,
             "#b8e186"
            ],
            [
             0.8,
             "#7fbc41"
            ],
            [
             0.9,
             "#4d9221"
            ],
            [
             1,
             "#276419"
            ]
           ],
           "sequential": [
            [
             0,
             "#0d0887"
            ],
            [
             0.1111111111111111,
             "#46039f"
            ],
            [
             0.2222222222222222,
             "#7201a8"
            ],
            [
             0.3333333333333333,
             "#9c179e"
            ],
            [
             0.4444444444444444,
             "#bd3786"
            ],
            [
             0.5555555555555556,
             "#d8576b"
            ],
            [
             0.6666666666666666,
             "#ed7953"
            ],
            [
             0.7777777777777778,
             "#fb9f3a"
            ],
            [
             0.8888888888888888,
             "#fdca26"
            ],
            [
             1,
             "#f0f921"
            ]
           ],
           "sequentialminus": [
            [
             0,
             "#0d0887"
            ],
            [
             0.1111111111111111,
             "#46039f"
            ],
            [
             0.2222222222222222,
             "#7201a8"
            ],
            [
             0.3333333333333333,
             "#9c179e"
            ],
            [
             0.4444444444444444,
             "#bd3786"
            ],
            [
             0.5555555555555556,
             "#d8576b"
            ],
            [
             0.6666666666666666,
             "#ed7953"
            ],
            [
             0.7777777777777778,
             "#fb9f3a"
            ],
            [
             0.8888888888888888,
             "#fdca26"
            ],
            [
             1,
             "#f0f921"
            ]
           ]
          },
          "colorway": [
           "#636efa",
           "#EF553B",
           "#00cc96",
           "#ab63fa",
           "#FFA15A",
           "#19d3f3",
           "#FF6692",
           "#B6E880",
           "#FF97FF",
           "#FECB52"
          ],
          "font": {
           "color": "#2a3f5f"
          },
          "geo": {
           "bgcolor": "white",
           "lakecolor": "white",
           "landcolor": "#E5ECF6",
           "showlakes": true,
           "showland": true,
           "subunitcolor": "white"
          },
          "hoverlabel": {
           "align": "left"
          },
          "hovermode": "closest",
          "mapbox": {
           "style": "light"
          },
          "paper_bgcolor": "white",
          "plot_bgcolor": "#E5ECF6",
          "polar": {
           "angularaxis": {
            "gridcolor": "white",
            "linecolor": "white",
            "ticks": ""
           },
           "bgcolor": "#E5ECF6",
           "radialaxis": {
            "gridcolor": "white",
            "linecolor": "white",
            "ticks": ""
           }
          },
          "scene": {
           "xaxis": {
            "backgroundcolor": "#E5ECF6",
            "gridcolor": "white",
            "gridwidth": 2,
            "linecolor": "white",
            "showbackground": true,
            "ticks": "",
            "zerolinecolor": "white"
           },
           "yaxis": {
            "backgroundcolor": "#E5ECF6",
            "gridcolor": "white",
            "gridwidth": 2,
            "linecolor": "white",
            "showbackground": true,
            "ticks": "",
            "zerolinecolor": "white"
           },
           "zaxis": {
            "backgroundcolor": "#E5ECF6",
            "gridcolor": "white",
            "gridwidth": 2,
            "linecolor": "white",
            "showbackground": true,
            "ticks": "",
            "zerolinecolor": "white"
           }
          },
          "shapedefaults": {
           "line": {
            "color": "#2a3f5f"
           }
          },
          "ternary": {
           "aaxis": {
            "gridcolor": "white",
            "linecolor": "white",
            "ticks": ""
           },
           "baxis": {
            "gridcolor": "white",
            "linecolor": "white",
            "ticks": ""
           },
           "bgcolor": "#E5ECF6",
           "caxis": {
            "gridcolor": "white",
            "linecolor": "white",
            "ticks": ""
           }
          },
          "title": {
           "x": 0.05
          },
          "xaxis": {
           "automargin": true,
           "gridcolor": "white",
           "linecolor": "white",
           "ticks": "",
           "title": {
            "standoff": 15
           },
           "zerolinecolor": "white",
           "zerolinewidth": 2
          },
          "yaxis": {
           "automargin": true,
           "gridcolor": "white",
           "linecolor": "white",
           "ticks": "",
           "title": {
            "standoff": 15
           },
           "zerolinecolor": "white",
           "zerolinewidth": 2
          }
         }
        },
        "xaxis": {
         "anchor": "y",
         "domain": [
          0,
          1
         ],
         "title": {
          "text": "Economically Disadvantaged %"
         }
        },
        "yaxis": {
         "anchor": "x",
         "domain": [
          0,
          1
         ],
         "title": {
          "text": "Passing %"
         }
        }
       }
      },
      "text/html": [
       "<div>                            <div id=\"4fecc395-b03f-4ba3-8b1a-da5352b3bf4c\" class=\"plotly-graph-div\" style=\"height:525px; width:100%;\"></div>            <script type=\"text/javascript\">                require([\"plotly\"], function(Plotly) {                    window.PLOTLYENV=window.PLOTLYENV || {};                                    if (document.getElementById(\"4fecc395-b03f-4ba3-8b1a-da5352b3bf4c\")) {                    Plotly.newPlot(                        \"4fecc395-b03f-4ba3-8b1a-da5352b3bf4c\",                        [{\"customdata\":[[\"State\"]],\"hovertemplate\":\"district_type=state average<br>Economically Disadvantaged %=%{x}<br>Passing %=%{y}<br>district_name=%{customdata[0]}<extra></extra>\",\"legendgroup\":\"state average\",\"marker\":{\"color\":\"#636efa\",\"symbol\":\"circle\"},\"mode\":\"markers\",\"name\":\"state average\",\"orientation\":\"v\",\"showlegend\":true,\"x\":[31.2000007629],\"xaxis\":\"x\",\"y\":[49.666666666666664],\"yaxis\":\"y\",\"type\":\"scatter\"},{\"customdata\":[[\"Abington\"],[\"Acushnet\"],[\"Agawam\"],[\"Amesbury\"],[\"Amherst\"],[\"Andover\"],[\"Arlington\"],[\"Ashland\"],[\"Attleboro\"],[\"Auburn\"],[\"Avon\"],[\"Barnstable\"],[\"Bedford\"],[\"Belchertown\"],[\"Bellingham\"],[\"Belmont\"],[\"Berkley\"],[\"Berlin (non-op)\"],[\"Beverly\"],[\"Billerica\"],[\"Boston\"],[\"Bourne\"],[\"Boxford\"],[\"Boylston (non-op)\"],[\"Braintree\"],[\"Brewster\"],[\"Brimfield\"],[\"Brockton\"],[\"Brookfield\"],[\"Brookline\"],[\"Burlington\"],[\"Cambridge\"],[\"Canton\"],[\"Carlisle\"],[\"Carver\"],[\"Chelmsford\"],[\"Chelsea\"],[\"Chicopee\"],[\"Clarksburg\"],[\"Clinton\"],[\"Cohasset\"],[\"Concord\"],[\"Conway\"],[\"Danvers\"],[\"Dartmouth\"],[\"Dedham\"],[\"Deerfield\"],[\"Douglas\"],[\"Dover\"],[\"Dracut\"],[\"Duxbury\"],[\"East Bridgewater\"],[\"Eastham\"],[\"Easthampton\"],[\"East Longmeadow\"],[\"Easton\"],[\"Edgartown\"],[\"Erving\"],[\"Everett\"],[\"Fairhaven\"],[\"Fall River\"],[\"Falmouth\"],[\"Fitchburg\"],[\"Florida\"],[\"Foxborough\"],[\"Framingham\"],[\"Franklin\"],[\"Gardner\"],[\"Georgetown\"],[\"Gloucester\"],[\"Grafton\"],[\"Granby\"],[\"Greenfield\"],[\"Hadley\"],[\"Halifax\"],[\"Hancock\"],[\"Hanover\"],[\"Harvard\"],[\"Hatfield\"],[\"Haverhill\"],[\"Hingham\"],[\"Holbrook\"],[\"Holland\"],[\"Holliston\"],[\"Holyoke\"],[\"Hopedale\"],[\"Hopkinton\"],[\"Hudson\"],[\"Hull\"],[\"Ipswich\"],[\"Kingston\"],[\"Lawrence\"],[\"Lee\"],[\"Leicester\"],[\"Lenox\"],[\"Leominster\"],[\"Leverett\"],[\"Lexington\"],[\"Lincoln\"],[\"Littleton\"],[\"Longmeadow\"],[\"Lowell\"],[\"Ludlow\"],[\"Lunenburg\"],[\"Lynn\"],[\"Lynnfield\"],[\"Malden\"],[\"Mansfield\"],[\"Marblehead\"],[\"Marion\"],[\"Marlborough\"],[\"Marshfield\"],[\"Mashpee\"],[\"Mattapoisett\"],[\"Maynard\"],[\"Medfield\"],[\"Medford\"],[\"Medway\"],[\"Melrose\"],[\"Methuen\"],[\"Middleborough\"],[\"Middleton\"],[\"Milford\"],[\"Millbury\"],[\"Millis\"],[\"Milton\"],[\"Monson\"],[\"Nahant\"],[\"Nantucket\"],[\"Natick\"],[\"Needham\"],[\"New Bedford\"],[\"Newburyport\"],[\"Newton\"],[\"Norfolk\"],[\"North Adams\"],[\"Northampton\"],[\"North Andover\"],[\"North Attleborough\"],[\"Northborough\"],[\"Northbridge\"],[\"North Brookfield\"],[\"North Reading\"],[\"Norton\"],[\"Norwell\"],[\"Norwood\"],[\"Oak Bluffs\"],[\"Orange\"],[\"Orleans\"],[\"Oxford\"],[\"Palmer\"],[\"Peabody\"],[\"Pelham\"],[\"Pembroke\"],[\"Petersham\"],[\"Pittsfield\"],[\"Plainville\"],[\"Plymouth\"],[\"Plympton\"],[\"Provincetown\"],[\"Quincy\"],[\"Randolph\"],[\"Reading\"],[\"Revere\"],[\"Richmond\"],[\"Rochester\"],[\"Rockland\"],[\"Rockport\"],[\"Rowe\"],[\"Salem\"],[\"Sandwich\"],[\"Saugus\"],[\"Savoy\"],[\"Scituate\"],[\"Seekonk\"],[\"Sharon\"],[\"Sherborn\"],[\"Shrewsbury\"],[\"Shutesbury\"],[\"Somerset\"],[\"Somerville\"],[\"Southampton\"],[\"Southborough\"],[\"Southbridge\"],[\"South Hadley\"],[\"Springfield\"],[\"Stoneham\"],[\"Stoughton\"],[\"Sturbridge\"],[\"Sudbury\"],[\"Sunderland\"],[\"Sutton\"],[\"Swampscott\"],[\"Swansea\"],[\"Taunton\"],[\"Tewksbury\"],[\"Tisbury\"],[\"Topsfield\"],[\"Truro\"],[\"Tyngsborough\"],[\"Uxbridge\"],[\"Wakefield\"],[\"Wales\"],[\"Walpole\"],[\"Waltham\"],[\"Ware\"],[\"Wareham\"],[\"Watertown\"],[\"Wayland\"],[\"Webster\"],[\"Wellesley\"],[\"Wellfleet\"],[\"Westborough\"],[\"West Boylston\"],[\"West Bridgewater\"],[\"Westfield\"],[\"Westford\"],[\"Westhampton\"],[\"Weston\"],[\"Westport\"],[\"West Springfield\"],[\"Westwood\"],[\"Weymouth\"],[\"Whately\"],[\"Williamsburg\"],[\"Wilmington\"],[\"Winchendon\"],[\"Winchester\"],[\"Winthrop\"],[\"Woburn\"],[\"Worcester\"],[\"Worthington\"],[\"Wrentham\"]],\"hovertemplate\":\"district_type=local<br>Economically Disadvantaged %=%{x}<br>Passing %=%{y}<br>district_name=%{customdata[0]}<extra></extra>\",\"legendgroup\":\"local\",\"marker\":{\"color\":\"#EF553B\",\"symbol\":\"circle\"},\"mode\":\"markers\",\"name\":\"local\",\"orientation\":\"v\",\"showlegend\":true,\"x\":[21.7999992371,24.8999996185,29.0,23.0,31.7000007629,7.5,7.5,13.0,30.2999992371,18.3999996185,29.5,31.8999996185,8.6999998093,18.0,19.0,7.0999999046,17.2000007629,15.3000001907,25.3999996185,15.6000003815,56.5,26.3999996185,4.0,8.3999996185,17.8999996185,22.6000003815,20.5,54.0,30.3999996185,9.3000001907,11.3999996185,28.6000003815,13.1000003815,3.2000000477,21.8999996185,12.1999998093,62.5,52.2000007629,30.7999992371,36.0999984741,5.1999998093,6.6999998093,24.3999996185,15.8999996185,22.1000003815,23.0,19.3999996185,15.3999996185,2.0,21.8999996185,5.1999998093,18.1000003815,26.8999996185,28.8999996185,19.2999992371,12.8999996185,28.8999996185,25.7999992371,48.0999984741,28.1000003815,67.0999984741,28.3999996185,60.9000015259,27.6000003815,15.3999996185,33.0,9.6999998093,53.0999984741,8.8000001907,35.2999992371,11.8000001907,25.0,49.4000015259,17.3999996185,16.3999996185,23.5,8.3999996185,4.6999998093,14.0,45.5,4.6999998093,31.5,31.8999996185,6.6999998093,77.8000030518,10.8999996185,4.5,20.7999992371,30.3999996185,13.6999998093,16.8999996185,63.2999992371,33.9000015259,25.7000007629,16.0,38.5999984741,23.0,5.4000000954,5.5999999046,6.9000000954,7.0,53.7999992371,27.3999996185,16.7000007629,56.7000007629,7.1999998093,43.5,13.3999996185,9.3999996185,18.7999992371,34.9000015259,11.8000001907,29.7999992371,16.1000003815,17.7000007629,5.0,28.8999996185,10.1000003815,10.5,34.5,29.0,7.5999999046,33.2000007629,26.3999996185,11.8000001907,8.8999996185,26.8999996185,17.2000007629,21.7000007629,9.1000003815,5.3000001907,66.0999984741,8.1999998093,8.6999998093,5.0999999046,57.4000015259,26.5,14.6000003815,16.6000003815,10.8000001907,29.3999996185,31.8999996185,7.8000001907,19.1000003815,3.7999999523,23.5,23.3999996185,55.4000015259,27.5,32.5,39.2000007629,30.2999992371,19.2999992371,12.3999996185,23.5,51.2000007629,19.7999992371,23.2000007629,13.6000003815,31.2000007629,34.5,44.5999984741,8.3000001907,47.0999984741,20.1000003815,14.1000003815,32.5,19.3999996185,37.9000015259,48.2000007629,15.8999996185,29.7000007629,50.7999992371,10.3999996185,13.8000001907,7.9000000954,4.8000001907,10.5,39.0999984741,22.0,39.2000007629,12.8000001907,5.5,69.6999969482,24.8999996185,76.6999969482,16.1000003815,28.5,15.6000003815,5.1999998093,31.5,10.3999996185,14.8999996185,19.2999992371,43.4000015259,15.1000003815,27.6000003815,3.5999999046,34.9000015259,11.8000001907,18.8999996185,12.1999998093,34.7000007629,9.6999998093,33.7000007629,51.0999984741,50.7999992371,24.8999996185,5.6999998093,52.9000015259,5.5999999046,28.6000003815,8.1999998093,20.2000007629,15.6000003815,37.7000007629,5.1999998093,14.0,5.1999998093,24.1000003815,44.5,4.8000001907,28.6000003815,25.8999996185,25.8999996185,9.1999998093,40.9000015259,5.0,24.2999992371,25.1000003815,57.9000015259,39.2000007629,9.8999996185],\"xaxis\":\"x\",\"y\":[50.0,52.666666666666664,50.0,55.333333333333336,47.333333333333336,70.66666666666667,69.66666666666667,63.666666666666664,50.666666666666664,59.0,50.0,44.666666666666664,70.66666666666667,40.666666666666664,44.333333333333336,81.33333333333333,56.0,69.0,53.0,50.666666666666664,30.666666666666668,45.0,67.66666666666667,70.0,63.666666666666664,60.333333333333336,70.33333333333333,24.0,56.0,72.66666666666667,58.0,54.0,61.333333333333336,80.0,46.0,65.33333333333333,26.666666666666668,42.0,38.666666666666664,33.0,64.66666666666667,73.33333333333333,64.0,47.333333333333336,54.666666666666664,50.333333333333336,61.666666666666664,53.666666666666664,85.0,48.333333333333336,66.0,51.0,53.666666666666664,42.666666666666664,57.333333333333336,65.0,59.666666666666664,31.333333333333332,34.333333333333336,52.0,30.666666666666668,59.0,31.0,44.0,58.0,37.0,65.33333333333333,27.0,59.666666666666664,45.0,65.66666666666667,46.333333333333336,31.0,52.0,53.666666666666664,50.0,64.0,76.66666666666667,58.333333333333336,35.666666666666664,78.33333333333333,45.0,51.666666666666664,62.333333333333336,14.666666666666666,64.66666666666667,76.66666666666667,47.333333333333336,53.333333333333336,65.33333333333333,58.0,28.333333333333332,45.0,41.0,65.33333333333333,46.333333333333336,63.666666666666664,79.66666666666667,58.333333333333336,64.66666666666667,68.33333333333333,33.333333333333336,41.0,53.333333333333336,38.666666666666664,75.66666666666667,44.0,57.333333333333336,63.0,60.0,38.0,68.66666666666667,49.0,75.66666666666667,51.333333333333336,71.66666666666667,43.333333333333336,61.333333333333336,66.33333333333333,38.666666666666664,48.333333333333336,68.33333333333333,47.333333333333336,43.666666666666664,59.0,68.33333333333333,48.0,47.666666666666664,41.0,65.0,73.0,30.666666666666668,56.666666666666664,70.66666666666667,68.33333333333333,28.666666666666668,49.0,58.666666666666664,59.333333333333336,66.66666666666667,46.333333333333336,31.333333333333332,74.33333333333333,48.333333333333336,72.0,49.333333333333336,59.333333333333336,22.0,70.66666666666667,40.333333333333336,31.333333333333332,43.666666666666664,71.66666666666667,59.0,54.666666666666664,31.333333333333332,51.333333333333336,49.0,68.0,44.333333333333336,55.0,34.666666666666664,66.33333333333333,44.333333333333336,62.0,53.0,43.0,53.333333333333336,34.0,38.0,56.0,46.333333333333336,30.5,68.33333333333333,59.666666666666664,72.66666666666667,77.0,68.66666666666667,65.33333333333333,51.666666666666664,43.666666666666664,47.333333333333336,81.0,14.333333333333334,45.333333333333336,26.0,60.666666666666664,49.0,64.33333333333333,73.33333333333333,58.333333333333336,61.333333333333336,58.333333333333336,51.666666666666664,35.666666666666664,56.333333333333336,67.66666666666667,64.33333333333333,41.666666666666664,53.333333333333336,47.666666666666664,52.333333333333336,54.333333333333336,65.66666666666667,47.333333333333336,37.333333333333336,32.333333333333336,49.333333333333336,76.0,28.0,75.66666666666667,65.66666666666667,74.66666666666667,62.666666666666664,49.666666666666664,43.0,77.0,83.0,80.66666666666667,54.333333333333336,47.666666666666664,76.33333333333333,43.666666666666664,58.333333333333336,46.666666666666664,59.666666666666664,31.333333333333332,79.33333333333333,52.0,49.0,31.666666666666668,39.5,65.33333333333333],\"yaxis\":\"y\",\"type\":\"scatter\"},{\"customdata\":[[\"Dudley Street Neighborhood Charter School (District)\"],[\"Alma del Mar Charter School (District)\"],[\"Excel Academy Charter (District)\"],[\"Boston Green Academy Horace Mann Charter School (District)\"],[\"Academy Of the Pacific Rim Charter Public (District)\"],[\"Four Rivers Charter Public (District)\"],[\"Berkshire Arts and Technology Charter Public (District)\"],[\"Boston Preparatory Charter Public (District)\"],[\"Bridge Boston Charter School (District)\"],[\"Christa McAuliffe Charter School (District)\"],[\"Helen Y. Davis Leadership Academy Charter Public (District)\"],[\"Benjamin Banneker Charter Public (District)\"],[\"Community Day Charter Public School - Gateway (District)\"],[\"Barnstable Community Horace Mann Charter Public (District)\"],[\"Brooke Charter School (District)\"],[\"KIPP Academy Lynn Charter (District)\"],[\"Advanced Math and Science Academy Charter (District)\"],[\"Community Day Charter Public School - R. Kingman Webster (District)\"],[\"Cape Cod Lighthouse Charter (District)\"],[\"Innovation Academy Charter (District)\"],[\"Community Charter School of Cambridge (District)\"],[\"Codman Academy Charter Public (District)\"],[\"Conservatory Lab Charter (District)\"],[\"Community Day Charter Public School (District)\"],[\"Springfield International Charter (District)\"],[\"Neighborhood House Charter (District)\"],[\"Abby Kelley Foster Charter Public (District)\"],[\"Foxborough Regional Charter (District)\"],[\"Benjamin Franklin Classical Charter Public (District)\"],[\"Boston Collegiate Charter (District)\"],[\"Hilltown Cooperative Charter Public (District)\"],[\"Holyoke Community Charter (District)\"],[\"Lawrence Family Development Charter (District)\"],[\"Hill View Montessori Charter Public (District)\"],[\"Lowell Community Charter Public (District)\"],[\"KIPP Academy Boston Charter School (District)\"],[\"Marblehead Community Charter Public (District)\"],[\"Martha's Vineyard Charter Public School (District)\"],[\"Match Charter Public School (District)\"],[\"Mystic Valley Regional Charter (District)\"],[\"Sizer School: A North Central Charter Essential (District)\"],[\"Francis W. Parker Charter Essential (District)\"],[\"Pioneer Valley Performing Arts Charter Public (District)\"],[\"UP Academy Charter School of Boston (District)\"],[\"Boston Renaissance Charter Public (District)\"],[\"River Valley Charter (District)\"],[\"Rising Tide Charter Public (District)\"],[\"Roxbury Preparatory Charter (District)\"],[\"Salem Academy Charter (District)\"],[\"Learning First Charter Public School (District)\"],[\"Prospect Hill Academy Charter (District)\"],[\"South Shore Charter Public (District)\"],[\"Atlantis Charter (District)\"],[\"Martin Luther King, Jr. Charter School of Excellence (District)\"],[\"Pioneer Charter School of Science (District)\"],[\"Global Learning Charter Public (District)\"],[\"Pioneer Valley Chinese Immersion Charter (District)\"],[\"Veritas Preparatory Charter School (District)\"],[\"Hampden Charter School of Science East (District)\"],[\"Baystate Academy Charter Public School (District)\"],[\"Collegiate Charter School of Lowell (District)\"],[\"UP Academy Charter School of Dorchester (District)\"],[\"Pioneer Charter School of Science II (District)\"],[\"Argosy Collegiate Charter School (District)\"],[\"Springfield Preparatory Charter School (District)\"],[\"Bentley Academy Charter School (District)\"],[\"New Heights Charter School of Brockton (District)\"],[\"Libertas Academy Charter School (District)\"],[\"Old Sturbridge Academy Charter Public School (District)\"],[\"Hampden Charter School of Science West (District)\"],[\"Greater Commonwealth Virtual District\"],[\"TEC Connections Academy Commonwealth Virtual School District\"]],\"hovertemplate\":\"district_type=charter<br>Economically Disadvantaged %=%{x}<br>Passing %=%{y}<br>district_name=%{customdata[0]}<extra></extra>\",\"legendgroup\":\"charter\",\"marker\":{\"color\":\"#00cc96\",\"symbol\":\"circle\"},\"mode\":\"markers\",\"name\":\"charter\",\"orientation\":\"v\",\"showlegend\":true,\"x\":[59.0,61.9000015259,42.4000015259,60.9000015259,38.2000007629,24.2000007629,41.2999992371,44.2999992371,59.2999992371,21.1000003815,62.7999992371,45.5,50.2999992371,41.7000007629,45.7000007629,49.2000007629,6.5999999046,49.4000015259,16.5,11.3000001907,32.5,53.7999992371,48.7999992371,47.9000015259,38.9000015259,39.2999992371,37.7000007629,21.3999996185,7.4000000954,28.3999996185,15.1999998093,68.0,54.7000007629,16.7999992371,46.5999984741,63.2999992371,11.8999996185,29.1000003815,58.7000007629,19.1000003815,35.0,7.0999999046,24.5,67.3000030518,50.4000015259,8.6999998093,9.5,55.7999992371,30.1000003815,60.0999984741,39.0999984741,19.6000003815,41.5999984741,72.8000030518,39.9000015259,53.5,15.6999998093,71.5,43.0999984741,69.8000030518,40.4000015259,63.2999992371,23.2000007629,56.0,72.6999969482,67.0,40.0,82.5999984741,31.0,44.0,48.5,46.5],\"xaxis\":\"x\",\"y\":[24.666666666666668,43.666666666666664,51.666666666666664,17.666666666666668,34.333333333333336,63.333333333333336,47.333333333333336,41.0,32.666666666666664,50.666666666666664,23.666666666666668,70.0,72.66666666666667,42.0,71.66666666666667,47.666666666666664,70.66666666666667,67.0,66.66666666666667,55.0,64.33333333333333,8.666666666666666,31.0,60.0,31.0,35.666666666666664,41.0,44.0,71.66666666666667,56.333333333333336,62.666666666666664,28.0,57.666666666666664,38.0,47.0,36.666666666666664,58.0,50.333333333333336,37.666666666666664,57.0,34.333333333333336,63.666666666666664,51.0,24.0,30.0,57.333333333333336,55.0,41.666666666666664,55.666666666666664,20.333333333333332,37.333333333333336,47.333333333333336,37.666666666666664,43.666666666666664,56.0,38.333333333333336,68.0,52.333333333333336,50.333333333333336,23.0,44.666666666666664,18.333333333333332,70.0,27.333333333333332,70.5,34.666666666666664,24.0,28.5,46.5,44.0,23.333333333333332,27.0],\"yaxis\":\"y\",\"type\":\"scatter\"},{\"customdata\":[[\"Acton-Boxborough\"],[\"Hoosac Valley Regional\"],[\"Amherst-Pelham\"],[\"Ashburnham-Westminster\"],[\"Athol-Royalston\"],[\"Ayer Shirley School District\"],[\"Berkshire Hills\"],[\"Berlin-Boylston\"],[\"Blackstone-Millville\"],[\"Bridgewater-Raynham\"],[\"Chesterfield-Goshen\"],[\"Central Berkshire\"],[\"Dennis-Yarmouth\"],[\"Dighton-Rehoboth\"],[\"Dover-Sherborn\"],[\"Dudley-Charlton Reg\"],[\"Nauset\"],[\"Farmington River Reg\"],[\"Freetown-Lakeville\"],[\"Frontier\"],[\"Gateway\"],[\"Groton-Dunstable\"],[\"Gill-Montague\"],[\"Hamilton-Wenham\"],[\"Hampden-Wilbraham\"],[\"Hampshire\"],[\"Hawlemont\"],[\"King Philip\"],[\"Manchester Essex Regional\"],[\"Masconomet\"],[\"Mendon-Upton\"],[\"Monomoy Regional School District\"],[\"Mount Greylock\"],[\"Mohawk Trail\"],[\"Narragansett\"],[\"Nashoba\"],[\"New Salem-Wendell\"],[\"North Middlesex\"],[\"Old Rochester\"],[\"Pentucket\"],[\"Pioneer Valley\"],[\"Quabbin\"],[\"Ralph C Mahar\"],[\"Silver Lake\"],[\"Southern Berkshire\"],[\"Southwick-Tolland-Granville Regional School District\"],[\"Spencer-E Brookfield\"],[\"Tantasqua\"],[\"Triton\"],[\"Up-Island Regional\"],[\"Wachusett\"],[\"Quaboag Regional\"],[\"Whitman-Hanson\"]],\"hovertemplate\":\"district_type=regional<br>Economically Disadvantaged %=%{x}<br>Passing %=%{y}<br>district_name=%{customdata[0]}<extra></extra>\",\"legendgroup\":\"regional\",\"marker\":{\"color\":\"#ab63fa\",\"symbol\":\"circle\"},\"mode\":\"markers\",\"name\":\"regional\",\"orientation\":\"v\",\"showlegend\":true,\"x\":[6.1999998093,49.4000015259,24.6000003815,15.8000001907,48.7000007629,24.8999996185,29.0,12.1999998093,22.0,16.1000003815,24.0,30.5,39.9000015259,15.8000001907,3.7999999523,21.0,18.6000003815,40.9000015259,17.2000007629,17.7999992371,31.0,7.0999999046,47.4000015259,7.0999999046,15.0,14.6999998093,46.4000015259,8.8000001907,7.8000001907,5.5999999046,9.1000003815,25.2999992371,17.8999996185,34.5999984741,28.5,7.8000001907,29.5,17.2999992371,12.0,12.0,21.7000007629,23.2999992371,38.0,15.8999996185,34.7000007629,22.7999992371,35.0999984741,19.3999996185,20.2999992371,22.3999996185,10.3000001907,35.7000007629,20.2000007629],\"xaxis\":\"x\",\"y\":[72.66666666666667,28.666666666666668,51.0,52.0,36.666666666666664,51.333333333333336,44.666666666666664,67.0,45.333333333333336,56.333333333333336,44.666666666666664,42.333333333333336,40.333333333333336,51.0,78.33333333333333,53.666666666666664,62.0,35.0,54.333333333333336,54.333333333333336,43.666666666666664,69.33333333333333,31.666666666666668,70.0,57.0,44.0,27.0,56.333333333333336,65.0,75.0,54.0,56.333333333333336,64.66666666666667,45.333333333333336,41.0,72.0,51.666666666666664,54.333333333333336,66.66666666666667,51.666666666666664,49.0,46.0,44.0,59.333333333333336,39.666666666666664,46.0,38.0,52.666666666666664,54.333333333333336,63.0,66.0,49.333333333333336,47.666666666666664],\"yaxis\":\"y\",\"type\":\"scatter\"},{\"hovertemplate\":\"<b>OLS trendline</b><br>Passing % = -0.656576 * Economically Disadvantaged % + 69.863<br>R<sup>2</sup>=0.612423<br><br>Economically Disadvantaged %=%{x}<br>Passing %=%{y} <b>(trend)</b><extra></extra>\",\"legendgroup\":\"Overall Trendline\",\"line\":{\"color\":\"#FFA15A\"},\"mode\":\"lines\",\"name\":\"Overall Trendline\",\"showlegend\":true,\"x\":[2.0,3.2000000477,3.5999999046,3.7999999523,3.7999999523,4.0,4.5,4.6999998093,4.6999998093,4.8000001907,4.8000001907,5.0,5.0,5.0999999046,5.1999998093,5.1999998093,5.1999998093,5.1999998093,5.1999998093,5.3000001907,5.4000000954,5.5,5.5999999046,5.5999999046,5.5999999046,5.6999998093,6.1999998093,6.5999999046,6.6999998093,6.6999998093,6.9000000954,7.0,7.0999999046,7.0999999046,7.0999999046,7.0999999046,7.1999998093,7.4000000954,7.5,7.5,7.5999999046,7.8000001907,7.8000001907,7.8000001907,7.9000000954,8.1999998093,8.1999998093,8.3000001907,8.3999996185,8.3999996185,8.6999998093,8.6999998093,8.6999998093,8.8000001907,8.8000001907,8.8999996185,9.1000003815,9.1000003815,9.1999998093,9.3000001907,9.3999996185,9.5,9.6999998093,9.6999998093,9.8999996185,10.1000003815,10.3000001907,10.3999996185,10.3999996185,10.5,10.5,10.8000001907,10.8999996185,11.3000001907,11.3999996185,11.8000001907,11.8000001907,11.8000001907,11.8000001907,11.8999996185,12.0,12.0,12.1999998093,12.1999998093,12.1999998093,12.3999996185,12.8000001907,12.8999996185,13.0,13.1000003815,13.3999996185,13.6000003815,13.6999998093,13.8000001907,14.0,14.0,14.1000003815,14.6000003815,14.6999998093,14.8999996185,15.0,15.1000003815,15.1999998093,15.3000001907,15.3999996185,15.3999996185,15.6000003815,15.6000003815,15.6000003815,15.6999998093,15.8000001907,15.8000001907,15.8999996185,15.8999996185,15.8999996185,16.0,16.1000003815,16.1000003815,16.1000003815,16.3999996185,16.5,16.6000003815,16.7000007629,16.7999992371,16.8999996185,17.2000007629,17.2000007629,17.2000007629,17.2999992371,17.3999996185,17.7000007629,17.7999992371,17.8999996185,17.8999996185,18.0,18.1000003815,18.3999996185,18.6000003815,18.7999992371,18.8999996185,19.0,19.1000003815,19.1000003815,19.2999992371,19.2999992371,19.2999992371,19.3999996185,19.3999996185,19.3999996185,19.6000003815,19.7999992371,20.1000003815,20.2000007629,20.2000007629,20.2999992371,20.5,20.7999992371,21.0,21.1000003815,21.3999996185,21.7000007629,21.7000007629,21.7999992371,21.8999996185,21.8999996185,22.0,22.0,22.1000003815,22.3999996185,22.6000003815,22.7999992371,23.0,23.0,23.0,23.2000007629,23.2000007629,23.2999992371,23.3999996185,23.5,23.5,23.5,24.0,24.1000003815,24.2000007629,24.2999992371,24.3999996185,24.5,24.6000003815,24.8999996185,24.8999996185,24.8999996185,24.8999996185,25.0,25.1000003815,25.2999992371,25.3999996185,25.7000007629,25.7999992371,25.8999996185,25.8999996185,26.3999996185,26.3999996185,26.5,26.8999996185,26.8999996185,27.3999996185,27.5,27.6000003815,27.6000003815,28.1000003815,28.3999996185,28.3999996185,28.5,28.5,28.6000003815,28.6000003815,28.6000003815,28.8999996185,28.8999996185,28.8999996185,29.0,29.0,29.0,29.1000003815,29.3999996185,29.5,29.5,29.7000007629,29.7999992371,30.1000003815,30.2999992371,30.2999992371,30.3999996185,30.3999996185,30.5,30.7999992371,31.0,31.0,31.2000007629,31.2000007629,31.5,31.5,31.7000007629,31.8999996185,31.8999996185,31.8999996185,32.5,32.5,32.5,33.0,33.2000007629,33.7000007629,33.9000015259,34.5,34.5,34.5999984741,34.7000007629,34.7000007629,34.9000015259,34.9000015259,35.0,35.0999984741,35.2999992371,35.7000007629,36.0999984741,37.7000007629,37.7000007629,37.9000015259,38.0,38.2000007629,38.5999984741,38.9000015259,39.0999984741,39.0999984741,39.2000007629,39.2000007629,39.2000007629,39.2999992371,39.9000015259,39.9000015259,40.0,40.4000015259,40.9000015259,40.9000015259,41.2999992371,41.5999984741,41.7000007629,42.4000015259,43.0999984741,43.4000015259,43.5,44.0,44.2999992371,44.5,44.5999984741,45.5,45.5,45.7000007629,46.4000015259,46.5,46.5999984741,47.0999984741,47.4000015259,47.9000015259,48.0999984741,48.2000007629,48.5,48.7000007629,48.7999992371,49.2000007629,49.4000015259,49.4000015259,49.4000015259,50.2999992371,50.4000015259,50.7999992371,50.7999992371,51.0999984741,51.2000007629,52.2000007629,52.9000015259,53.0999984741,53.5,53.7999992371,53.7999992371,54.0,54.7000007629,55.4000015259,55.7999992371,56.0,56.5,56.7000007629,57.4000015259,57.9000015259,58.7000007629,59.0,59.2999992371,60.0999984741,60.9000015259,60.9000015259,61.9000015259,62.5,62.7999992371,63.2999992371,63.2999992371,63.2999992371,66.0999984741,67.0,67.0999984741,67.3000030518,68.0,69.6999969482,69.8000030518,71.5,72.6999969482,72.8000030518,76.6999969482,77.8000030518,82.5999984741],\"y\":[68.54980069950508,67.76190918348992,67.49927878254715,67.36796350377907,67.36796350377907,67.23664822501097,66.90836010638743,66.77704498414711,66.77704498414711,66.71138711000422,66.71138711000422,66.5800719877639,66.5800719877639,66.51441442667657,66.44875686552358,66.44875686552358,66.44875686552358,66.44875686552358,66.44875686552358,66.38309899138069,66.3174414302277,66.25178386914037,66.18612630805303,66.18612630805303,66.18612630805303,66.12046874690004,65.79218062827651,65.52955007080598,65.463892509653,65.463892509653,65.33257707435712,65.26691951326978,65.20126195218245,65.20126195218245,65.20126195218245,65.20126195218245,65.13560439102946,65.00428895573359,64.93863139464625,64.93863139464625,64.87297383355892,64.74165839826304,64.74165839826304,64.74165839826304,64.67600083711005,64.4790281537824,64.4790281537824,64.41337027963951,64.34771303160773,64.34771303160773,64.15074003515886,64.15074003515886,64.15074003515886,64.08508216101599,64.08508216101599,64.0194249129842,63.88810916456712,63.88810916456712,63.822451916535336,63.75679404239246,63.69113679436067,63.62547892015213,63.49416379791181,63.49416379791181,63.36284867573714,63.23153292732006,63.10021780514539,63.03456055711361,63.03456055711361,62.96890268290507,62.96890268290507,62.771929686521865,62.70627243849008,62.44364156789833,62.37798431986655,62.11535344927481,62.11535344927481,62.11535344927481,62.11535344927481,62.04969620124302,61.98403832703448,61.98403832703448,61.85272320479416,61.85272320479416,61.85272320479416,61.72140808261949,61.45877721202774,61.39311996399596,61.32746208978742,61.26180421557888,61.06483184537243,60.93351609695535,60.86785884892357,60.80220097478068,60.67088585254036,60.67088585254036,60.60522797833182,60.27693985970829,60.21128261167651,60.07996748950184,60.0143096152933,59.94865174108476,59.882994493052976,59.81733661891009,59.75167937087831,59.75167937087831,59.62036362246123,59.62036362246123,59.62036362246123,59.55470637442944,59.489048500286565,59.489048500286565,59.42339125225478,59.42339125225478,59.42339125225478,59.35773337804624,59.2920755038377,59.2920755038377,59.2920755038377,59.09510313363125,59.02944525942271,58.96378738521417,58.89812951107129,58.8324728891506,58.76681501500772,58.569841392447756,58.569841392447756,58.569841392447756,58.504184770527075,58.43852689638419,58.24155327382422,58.17589665190354,58.11023877776066,58.11023877776066,58.04458090355212,57.978923029343576,57.78195065913713,57.65063491072005,57.519320414656484,57.4536625405136,57.38800466630506,57.32234679209652,57.32234679209652,57.19103229603295,57.19103229603295,57.19103229603295,57.12537442189007,57.12537442189007,57.12537442189007,56.99405867347299,56.862744177409425,56.66577055484946,56.60011268070657,56.60011268070657,56.53445605878589,56.403140310434466,56.20616794016236,56.07485219181094,56.0091943176024,55.81222194739595,55.61524832483599,55.61524832483599,55.5495917029153,55.48393382877242,55.48393382877242,55.41827595456388,55.41827595456388,55.35261808035534,55.15564571014889,55.02432996173181,54.89301546566824,54.761699717316816,54.761699717316816,54.761699717316816,54.6303839689654,54.6303839689654,54.56472734704471,54.49906947290183,54.43341159869329,54.43341159869329,54.43341159869329,54.10512348006976,54.03946560586122,53.97380773171834,53.90815110979765,53.84249323565477,53.77683536144623,53.71117748723769,53.51420511703124,53.51420511703124,53.51420511703124,53.51420511703124,53.4485472428227,53.38288936861416,53.25157487255059,53.185916998407706,52.98894337584774,52.92328675392706,52.85762887978417,52.85762887978417,52.52934076116065,52.52934076116065,52.46368288695211,52.20105264253712,52.20105264253712,51.87276452391359,51.80710664970505,51.74144877549651,51.74144877549651,51.413160656872975,51.21618828666652,51.21618828666652,51.15053041245798,51.15053041245798,51.08487253824944,51.08487253824944,51.08487253824944,50.887900168043,50.887900168043,50.887900168043,50.82224229383446,50.82224229383446,50.82224229383446,50.756584419625916,50.55961204941947,50.49395417521093,50.49395417521093,50.362638426859505,50.296981804938824,50.10000818237886,49.96869368631529,49.96869368631529,49.903035812172405,49.903035812172405,49.837377937963865,49.64040556769176,49.50908981934033,49.50908981934033,49.37777407098891,49.37777407098891,49.180801700716806,49.180801700716806,49.04948595236539,48.91817145630182,48.91817145630182,48.91817145630182,48.52422546346975,48.52422546346975,48.52422546346975,48.195937344846215,48.064621596494796,47.73633347787127,47.605017729454175,47.21107298897563,47.21107298897563,47.1454163671206,47.079757240624204,47.079757240624204,46.948441492207124,46.948441492207124,46.8827848703521,46.81712824849707,46.68581250007999,46.423181003377145,46.16055201125001,45.11002852888302,45.11002852888302,44.97871278046594,44.913056158610914,44.781740410259495,44.51911141813236,44.322136543218875,44.190823299508835,44.190823299508835,44.125164173012436,44.125164173012436,44.125164173012436,44.05950755109175,43.66556030597182,43.66556030597182,43.599903684116796,43.33727218734829,43.00898406872476,43.00898406872476,42.746355076597624,42.549382706391185,42.483723579894786,42.02411971285417,41.564518350520586,41.36754347560711,41.30188685375208,40.973598735128554,40.77662636485645,40.64531061650503,40.57965399465,39.98873437925796,39.98873437925796,39.857418630906544,39.397814763865924,39.332158142010904,39.266501520155884,38.93821340153235,38.74123852661887,38.41295040799534,38.281637164285286,38.215978037788894,38.01900566751678,37.88768991916537,37.82203329724467,37.559401800541835,37.42808605212475,37.42808605212475,37.42808605212475,36.83716894137409,36.77150981487769,36.508880822750555,36.508880822750555,36.31190845254411,36.24624932604771,35.58967308880065,35.13006922176004,34.99875597804999,34.736124481281486,34.53915211100937,34.53915211100937,34.40783636265795,33.948232495683,33.48862862864239,33.225999636515255,33.094683888163836,32.7663957695403,32.635080021188884,32.175476154148264,31.847188035524738,31.32192754669476,31.124955176422652,30.927982806150546,30.402722317320567,29.877459323783555,29.877459323783555,29.220883086536496,28.826938346057943,28.629965975785836,28.301677857162304,28.301677857162304,28.301677857162304,26.4632648938382,25.87234527844617,25.80668865659114,25.67537040353269,25.21576904119911,24.099591441618472,24.03392981041504,22.9177522108344,22.129862729877296,22.064201098673855,19.503557780889054,18.781319912438555,15.629756979261707],\"type\":\"scatter\",\"xaxis\":\"x\",\"yaxis\":\"y\"}],                        {\"template\":{\"data\":{\"histogram2dcontour\":[{\"type\":\"histogram2dcontour\",\"colorbar\":{\"outlinewidth\":0,\"ticks\":\"\"},\"colorscale\":[[0.0,\"#0d0887\"],[0.1111111111111111,\"#46039f\"],[0.2222222222222222,\"#7201a8\"],[0.3333333333333333,\"#9c179e\"],[0.4444444444444444,\"#bd3786\"],[0.5555555555555556,\"#d8576b\"],[0.6666666666666666,\"#ed7953\"],[0.7777777777777778,\"#fb9f3a\"],[0.8888888888888888,\"#fdca26\"],[1.0,\"#f0f921\"]]}],\"choropleth\":[{\"type\":\"choropleth\",\"colorbar\":{\"outlinewidth\":0,\"ticks\":\"\"}}],\"histogram2d\":[{\"type\":\"histogram2d\",\"colorbar\":{\"outlinewidth\":0,\"ticks\":\"\"},\"colorscale\":[[0.0,\"#0d0887\"],[0.1111111111111111,\"#46039f\"],[0.2222222222222222,\"#7201a8\"],[0.3333333333333333,\"#9c179e\"],[0.4444444444444444,\"#bd3786\"],[0.5555555555555556,\"#d8576b\"],[0.6666666666666666,\"#ed7953\"],[0.7777777777777778,\"#fb9f3a\"],[0.8888888888888888,\"#fdca26\"],[1.0,\"#f0f921\"]]}],\"heatmap\":[{\"type\":\"heatmap\",\"colorbar\":{\"outlinewidth\":0,\"ticks\":\"\"},\"colorscale\":[[0.0,\"#0d0887\"],[0.1111111111111111,\"#46039f\"],[0.2222222222222222,\"#7201a8\"],[0.3333333333333333,\"#9c179e\"],[0.4444444444444444,\"#bd3786\"],[0.5555555555555556,\"#d8576b\"],[0.6666666666666666,\"#ed7953\"],[0.7777777777777778,\"#fb9f3a\"],[0.8888888888888888,\"#fdca26\"],[1.0,\"#f0f921\"]]}],\"heatmapgl\":[{\"type\":\"heatmapgl\",\"colorbar\":{\"outlinewidth\":0,\"ticks\":\"\"},\"colorscale\":[[0.0,\"#0d0887\"],[0.1111111111111111,\"#46039f\"],[0.2222222222222222,\"#7201a8\"],[0.3333333333333333,\"#9c179e\"],[0.4444444444444444,\"#bd3786\"],[0.5555555555555556,\"#d8576b\"],[0.6666666666666666,\"#ed7953\"],[0.7777777777777778,\"#fb9f3a\"],[0.8888888888888888,\"#fdca26\"],[1.0,\"#f0f921\"]]}],\"contourcarpet\":[{\"type\":\"contourcarpet\",\"colorbar\":{\"outlinewidth\":0,\"ticks\":\"\"}}],\"contour\":[{\"type\":\"contour\",\"colorbar\":{\"outlinewidth\":0,\"ticks\":\"\"},\"colorscale\":[[0.0,\"#0d0887\"],[0.1111111111111111,\"#46039f\"],[0.2222222222222222,\"#7201a8\"],[0.3333333333333333,\"#9c179e\"],[0.4444444444444444,\"#bd3786\"],[0.5555555555555556,\"#d8576b\"],[0.6666666666666666,\"#ed7953\"],[0.7777777777777778,\"#fb9f3a\"],[0.8888888888888888,\"#fdca26\"],[1.0,\"#f0f921\"]]}],\"surface\":[{\"type\":\"surface\",\"colorbar\":{\"outlinewidth\":0,\"ticks\":\"\"},\"colorscale\":[[0.0,\"#0d0887\"],[0.1111111111111111,\"#46039f\"],[0.2222222222222222,\"#7201a8\"],[0.3333333333333333,\"#9c179e\"],[0.4444444444444444,\"#bd3786\"],[0.5555555555555556,\"#d8576b\"],[0.6666666666666666,\"#ed7953\"],[0.7777777777777778,\"#fb9f3a\"],[0.8888888888888888,\"#fdca26\"],[1.0,\"#f0f921\"]]}],\"mesh3d\":[{\"type\":\"mesh3d\",\"colorbar\":{\"outlinewidth\":0,\"ticks\":\"\"}}],\"scatter\":[{\"fillpattern\":{\"fillmode\":\"overlay\",\"size\":10,\"solidity\":0.2},\"type\":\"scatter\"}],\"parcoords\":[{\"type\":\"parcoords\",\"line\":{\"colorbar\":{\"outlinewidth\":0,\"ticks\":\"\"}}}],\"scatterpolargl\":[{\"type\":\"scatterpolargl\",\"marker\":{\"colorbar\":{\"outlinewidth\":0,\"ticks\":\"\"}}}],\"bar\":[{\"error_x\":{\"color\":\"#2a3f5f\"},\"error_y\":{\"color\":\"#2a3f5f\"},\"marker\":{\"line\":{\"color\":\"#E5ECF6\",\"width\":0.5},\"pattern\":{\"fillmode\":\"overlay\",\"size\":10,\"solidity\":0.2}},\"type\":\"bar\"}],\"scattergeo\":[{\"type\":\"scattergeo\",\"marker\":{\"colorbar\":{\"outlinewidth\":0,\"ticks\":\"\"}}}],\"scatterpolar\":[{\"type\":\"scatterpolar\",\"marker\":{\"colorbar\":{\"outlinewidth\":0,\"ticks\":\"\"}}}],\"histogram\":[{\"marker\":{\"pattern\":{\"fillmode\":\"overlay\",\"size\":10,\"solidity\":0.2}},\"type\":\"histogram\"}],\"scattergl\":[{\"type\":\"scattergl\",\"marker\":{\"colorbar\":{\"outlinewidth\":0,\"ticks\":\"\"}}}],\"scatter3d\":[{\"type\":\"scatter3d\",\"line\":{\"colorbar\":{\"outlinewidth\":0,\"ticks\":\"\"}},\"marker\":{\"colorbar\":{\"outlinewidth\":0,\"ticks\":\"\"}}}],\"scattermapbox\":[{\"type\":\"scattermapbox\",\"marker\":{\"colorbar\":{\"outlinewidth\":0,\"ticks\":\"\"}}}],\"scatterternary\":[{\"type\":\"scatterternary\",\"marker\":{\"colorbar\":{\"outlinewidth\":0,\"ticks\":\"\"}}}],\"scattercarpet\":[{\"type\":\"scattercarpet\",\"marker\":{\"colorbar\":{\"outlinewidth\":0,\"ticks\":\"\"}}}],\"carpet\":[{\"aaxis\":{\"endlinecolor\":\"#2a3f5f\",\"gridcolor\":\"white\",\"linecolor\":\"white\",\"minorgridcolor\":\"white\",\"startlinecolor\":\"#2a3f5f\"},\"baxis\":{\"endlinecolor\":\"#2a3f5f\",\"gridcolor\":\"white\",\"linecolor\":\"white\",\"minorgridcolor\":\"white\",\"startlinecolor\":\"#2a3f5f\"},\"type\":\"carpet\"}],\"table\":[{\"cells\":{\"fill\":{\"color\":\"#EBF0F8\"},\"line\":{\"color\":\"white\"}},\"header\":{\"fill\":{\"color\":\"#C8D4E3\"},\"line\":{\"color\":\"white\"}},\"type\":\"table\"}],\"barpolar\":[{\"marker\":{\"line\":{\"color\":\"#E5ECF6\",\"width\":0.5},\"pattern\":{\"fillmode\":\"overlay\",\"size\":10,\"solidity\":0.2}},\"type\":\"barpolar\"}],\"pie\":[{\"automargin\":true,\"type\":\"pie\"}]},\"layout\":{\"autotypenumbers\":\"strict\",\"colorway\":[\"#636efa\",\"#EF553B\",\"#00cc96\",\"#ab63fa\",\"#FFA15A\",\"#19d3f3\",\"#FF6692\",\"#B6E880\",\"#FF97FF\",\"#FECB52\"],\"font\":{\"color\":\"#2a3f5f\"},\"hovermode\":\"closest\",\"hoverlabel\":{\"align\":\"left\"},\"paper_bgcolor\":\"white\",\"plot_bgcolor\":\"#E5ECF6\",\"polar\":{\"bgcolor\":\"#E5ECF6\",\"angularaxis\":{\"gridcolor\":\"white\",\"linecolor\":\"white\",\"ticks\":\"\"},\"radialaxis\":{\"gridcolor\":\"white\",\"linecolor\":\"white\",\"ticks\":\"\"}},\"ternary\":{\"bgcolor\":\"#E5ECF6\",\"aaxis\":{\"gridcolor\":\"white\",\"linecolor\":\"white\",\"ticks\":\"\"},\"baxis\":{\"gridcolor\":\"white\",\"linecolor\":\"white\",\"ticks\":\"\"},\"caxis\":{\"gridcolor\":\"white\",\"linecolor\":\"white\",\"ticks\":\"\"}},\"coloraxis\":{\"colorbar\":{\"outlinewidth\":0,\"ticks\":\"\"}},\"colorscale\":{\"sequential\":[[0.0,\"#0d0887\"],[0.1111111111111111,\"#46039f\"],[0.2222222222222222,\"#7201a8\"],[0.3333333333333333,\"#9c179e\"],[0.4444444444444444,\"#bd3786\"],[0.5555555555555556,\"#d8576b\"],[0.6666666666666666,\"#ed7953\"],[0.7777777777777778,\"#fb9f3a\"],[0.8888888888888888,\"#fdca26\"],[1.0,\"#f0f921\"]],\"sequentialminus\":[[0.0,\"#0d0887\"],[0.1111111111111111,\"#46039f\"],[0.2222222222222222,\"#7201a8\"],[0.3333333333333333,\"#9c179e\"],[0.4444444444444444,\"#bd3786\"],[0.5555555555555556,\"#d8576b\"],[0.6666666666666666,\"#ed7953\"],[0.7777777777777778,\"#fb9f3a\"],[0.8888888888888888,\"#fdca26\"],[1.0,\"#f0f921\"]],\"diverging\":[[0,\"#8e0152\"],[0.1,\"#c51b7d\"],[0.2,\"#de77ae\"],[0.3,\"#f1b6da\"],[0.4,\"#fde0ef\"],[0.5,\"#f7f7f7\"],[0.6,\"#e6f5d0\"],[0.7,\"#b8e186\"],[0.8,\"#7fbc41\"],[0.9,\"#4d9221\"],[1,\"#276419\"]]},\"xaxis\":{\"gridcolor\":\"white\",\"linecolor\":\"white\",\"ticks\":\"\",\"title\":{\"standoff\":15},\"zerolinecolor\":\"white\",\"automargin\":true,\"zerolinewidth\":2},\"yaxis\":{\"gridcolor\":\"white\",\"linecolor\":\"white\",\"ticks\":\"\",\"title\":{\"standoff\":15},\"zerolinecolor\":\"white\",\"automargin\":true,\"zerolinewidth\":2},\"scene\":{\"xaxis\":{\"backgroundcolor\":\"#E5ECF6\",\"gridcolor\":\"white\",\"linecolor\":\"white\",\"showbackground\":true,\"ticks\":\"\",\"zerolinecolor\":\"white\",\"gridwidth\":2},\"yaxis\":{\"backgroundcolor\":\"#E5ECF6\",\"gridcolor\":\"white\",\"linecolor\":\"white\",\"showbackground\":true,\"ticks\":\"\",\"zerolinecolor\":\"white\",\"gridwidth\":2},\"zaxis\":{\"backgroundcolor\":\"#E5ECF6\",\"gridcolor\":\"white\",\"linecolor\":\"white\",\"showbackground\":true,\"ticks\":\"\",\"zerolinecolor\":\"white\",\"gridwidth\":2}},\"shapedefaults\":{\"line\":{\"color\":\"#2a3f5f\"}},\"annotationdefaults\":{\"arrowcolor\":\"#2a3f5f\",\"arrowhead\":0,\"arrowwidth\":1},\"geo\":{\"bgcolor\":\"white\",\"landcolor\":\"#E5ECF6\",\"subunitcolor\":\"white\",\"showland\":true,\"showlakes\":true,\"lakecolor\":\"white\"},\"title\":{\"x\":0.05},\"mapbox\":{\"style\":\"light\"}}},\"xaxis\":{\"anchor\":\"y\",\"domain\":[0.0,1.0],\"title\":{\"text\":\"Economically Disadvantaged %\"}},\"yaxis\":{\"anchor\":\"x\",\"domain\":[0.0,1.0],\"title\":{\"text\":\"Passing %\"}},\"legend\":{\"title\":{\"text\":\"district_type\"},\"tracegroupgap\":0},\"margin\":{\"t\":60}},                        {\"responsive\": true}                    ).then(function(){\n",
       "                            \n",
       "var gd = document.getElementById('4fecc395-b03f-4ba3-8b1a-da5352b3bf4c');\n",
       "var x = new MutationObserver(function (mutations, observer) {{\n",
       "        var display = window.getComputedStyle(gd).display;\n",
       "        if (!display || display === 'none') {{\n",
       "            console.log([gd, 'removed!']);\n",
       "            Plotly.purge(gd);\n",
       "            observer.disconnect();\n",
       "        }}\n",
       "}});\n",
       "\n",
       "// Listen for the removal of the full notebook cells\n",
       "var notebookContainer = gd.closest('#notebook-container');\n",
       "if (notebookContainer) {{\n",
       "    x.observe(notebookContainer, {childList: true});\n",
       "}}\n",
       "\n",
       "// Listen for the clearing of the current output cell\n",
       "var outputEl = gd.closest('.output');\n",
       "if (outputEl) {{\n",
       "    x.observe(outputEl, {childList: true});\n",
       "}}\n",
       "\n",
       "                        })                };                });            </script>        </div>"
      ]
     },
     "metadata": {},
     "output_type": "display_data"
    }
   ],
   "source": [
    "#Analyze the same data for all districts, including charters and regionals.\n",
    "dfreg=all_districts_df.copy()\n",
    "X=dfreg[[\"dem1\",\"dem2\",\"dem3\",\"dem4\",\"dem5\",\"dem6\",\"dem7\",\"dem8\",\"dem9\",\"First Language Not English %\",\n",
    "       \"English Language Learner %\",\"Students With Disabilities %\",\"Economically Disadvantaged %\",\n",
    "       \"In-District Expenditures per Pupil\"]].copy()\n",
    "Y=dfreg[[\"Passing %\"]].copy()\n",
    "\n",
    "xnames=[]\n",
    "ynames=[]\n",
    "Rsq=[]\n",
    "for x in X.columns:\n",
    "    for y in Y.columns:\n",
    "        xnames.append(x)\n",
    "        xdata=numpy.array(X[x]).reshape((-1,1))\n",
    "        ynames.append(y)\n",
    "        ydata=Y[y]\n",
    "        Lregression=LinReg().fit(xdata,ydata)\n",
    "        Rsq.append(Lregression.score(xdata,ydata))\n",
    "correlation_df=pandas.DataFrame(dict([(\"x\",xnames),(\"y\",ynames),(\"correlation\",Rsq)])).sort_values(by=\"correlation\",ascending=False)\n",
    "print(correlation_df.head(8))\n",
    "p4=px.scatter(all_districts_df,x=\"Economically Disadvantaged %\",y=\"Passing %\",color=\"district_type\",\n",
    "              hover_data={\"district_name\"},trendline=\"ols\",trendline_scope=\"overall\")\n",
    "p4.show()"
   ]
  },
  {
   "cell_type": "markdown",
   "id": "c79f3a61",
   "metadata": {},
   "source": [
    "The same independent variables top the list, but the correlations are much weaker. The cause seems to be charter schools<sup>*</sup> (green dots) -- compared to local and regional public school districts, they have a much weaker correlation between economic disadvantage and test scores.\n",
    "\n",
    "<i><font size=\"2\">*Technically charter school districts, but in Massachusetts a charter school is usually its own school district.</i></font>"
   ]
  },
  {
   "cell_type": "code",
   "execution_count": null,
   "id": "5eb4d2cb",
   "metadata": {},
   "outputs": [],
   "source": []
  }
 ],
 "metadata": {
  "kernelspec": {
   "display_name": "Python 3 (ipykernel)",
   "language": "python",
   "name": "python3"
  },
  "language_info": {
   "codemirror_mode": {
    "name": "ipython",
    "version": 3
   },
   "file_extension": ".py",
   "mimetype": "text/x-python",
   "name": "python",
   "nbconvert_exporter": "python",
   "pygments_lexer": "ipython3",
   "version": "3.10.6"
  }
 },
 "nbformat": 4,
 "nbformat_minor": 5
}
